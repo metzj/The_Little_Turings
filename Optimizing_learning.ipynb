{
 "cells": [
  {
   "cell_type": "code",
   "execution_count": 24,
   "metadata": {},
   "outputs": [
    {
     "name": "stdout",
     "output_type": "stream",
     "text": [
      "The autoreload extension is already loaded. To reload it, use:\n",
      "  %reload_ext autoreload\n"
     ]
    }
   ],
   "source": [
    "# Useful starting lines\n",
    "%matplotlib inline\n",
    "import numpy as np\n",
    "import matplotlib.pyplot as plt\n",
    "import math\n",
    "%load_ext autoreload\n",
    "%autoreload 2"
   ]
  },
  {
   "cell_type": "markdown",
   "metadata": {},
   "source": [
    "# Optimizing Learning"
   ]
  },
  {
   "cell_type": "markdown",
   "metadata": {},
   "source": [
    "## Load Data"
   ]
  },
  {
   "cell_type": "code",
   "execution_count": 30,
   "metadata": {},
   "outputs": [],
   "source": [
    "from proj1_helpers import *\n",
    "DATA_TRAIN_PATH = '../data/train.csv' # TODO: download train data and supply path here \n",
    "y, tX, ids = load_csv_data(DATA_TRAIN_PATH)"
   ]
  },
  {
   "cell_type": "markdown",
   "metadata": {},
   "source": [
    "## Standardize"
   ]
  },
  {
   "cell_type": "code",
   "execution_count": 37,
   "metadata": {},
   "outputs": [],
   "source": [
    "from implementations import *\n",
    "def normalize(x: np.ndarray):\n",
    "    \"\"\"\n",
    "    function that normalizes each columns of the matrix x to have unit length.\n",
    "\n",
    "    Args:\n",
    "     ``x``: A numpy matrix of shape (n, m)\n",
    "\n",
    "    Returns:\n",
    "     ``x``: The normalized (by row) numpy matrix.\n",
    "    \"\"\"\n",
    "    return x/np.linalg.norm(x, ord=2, axis=0, keepdims=True)"
   ]
  },
  {
   "cell_type": "code",
   "execution_count": 39,
   "metadata": {},
   "outputs": [],
   "source": [
    "y_norm = normalize(y)\n",
    "tX_norm = normalize(tX)"
   ]
  },
  {
   "cell_type": "markdown",
   "metadata": {},
   "source": [
    "## Find the best number of dimension"
   ]
  },
  {
   "cell_type": "code",
   "execution_count": 40,
   "metadata": {},
   "outputs": [],
   "source": [
    "def build_poly(tx,degree):\n",
    "    D = len(tx[0,:])\n",
    "    N = len(tx[:,0])\n",
    "    new_x = np.ones((N,1)) #add bias\n",
    "    if degree>=1:\n",
    "        for i in range(1,degree+1):\n",
    "            new_x = np.append(new_x,tx**i,axis=1) \n",
    "    return new_x\n",
    "\n",
    "def split_data_no_shuffle(y,tX,ratio):\n",
    "    #seed = 1\n",
    "    #np.random.seed(seed)\n",
    "    #c = list(zip(tX,y))\n",
    "    #np.random.shuffle(c)\n",
    "    #x_new, y_new = zip(*c)\n",
    "    N = len(y)\n",
    "    limit = int(round(ratio*N))\n",
    "    x_train, x_test = tX[:limit], tX[limit:]\n",
    "    y_train, y_test = y[:limit], y[limit:]\n",
    "       \n",
    "    return x_train,y_train,x_test,y_test"
   ]
  },
  {
   "cell_type": "code",
   "execution_count": 48,
   "metadata": {},
   "outputs": [
    {
     "data": {
      "text/plain": [
       "[<matplotlib.lines.Line2D at 0x15c774ed0>]"
      ]
     },
     "execution_count": 48,
     "metadata": {},
     "output_type": "execute_result"
    },
    {
     "data": {
      "image/png": "[encoded data removed]",
      "text/plain": [
       "<Figure size 432x288 with 1 Axes>"
      ]
     },
     "metadata": {
      "needs_background": "light"
     },
     "output_type": "display_data"
    }
   ],
   "source": [
    "ratio = 0.6\n",
    "losses = []\n",
    "degrees = [0,1,2]\n",
    "for degree in degrees:\n",
    "    tX_new = build_poly(tX_norm,degree)\n",
    "    x_train,y_train,x_test,y_test = split_data_no_shuffle(y_norm,tX_new,ratio)\n",
    "    w_LS, loss_LS = least_squares(y_train,x_train)\n",
    "    losses = np.append(losses,compute_mse(y_test,x_test,w_LS))\n",
    "plt.plot(degrees,losses)"
   ]
  },
  {
   "cell_type": "code",
   "execution_count": null,
   "metadata": {},
   "outputs": [],
   "source": []
  },
  {
   "cell_type": "code",
   "execution_count": null,
   "metadata": {},
   "outputs": [],
   "source": []
  },
  {
   "cell_type": "code",
   "execution_count": null,
   "metadata": {},
   "outputs": [],
   "source": []
  }
 ],
 "metadata": {
  "kernelspec": {
   "display_name": "Python 3",
   "language": "python",
   "name": "python3"
  },
  "language_info": {
   "codemirror_mode": {
    "name": "ipython",
    "version": 3
   },
   "file_extension": ".py",
   "mimetype": "text/x-python",
   "name": "python",
   "nbconvert_exporter": "python",
   "pygments_lexer": "ipython3",
   "version": "3.6.6"
  }
 },
 "nbformat": 4,
 "nbformat_minor": 2
}

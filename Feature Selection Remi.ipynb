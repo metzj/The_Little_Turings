{
 "cells": [
  {
   "cell_type": "markdown",
   "metadata": {},
   "source": [
    "# Feature Selection\n",
    "\n",
    "In an effort to reduce the dimensionality of our dataset, we need to know which features are more meaningful than others, so that we can drop the less meaningful ones.\n",
    "We might also attempt to combine features, extract other features from the ones we already have, and more."
   ]
  },
  {
   "cell_type": "code",
   "execution_count": 4,
   "metadata": {},
   "outputs": [
    {
     "name": "stdout",
     "output_type": "stream",
     "text": [
      "The autoreload extension is already loaded. To reload it, use:\n",
      "  %reload_ext autoreload\n"
     ]
    }
   ],
   "source": [
    "# Useful starting lines\n",
    "%matplotlib inline\n",
    "import numpy as np\n",
    "import matplotlib.pyplot as plt\n",
    "import math\n",
    "from proj1_helpers import *\n",
    "%load_ext autoreload\n",
    "%autoreload 2"
   ]
  },
  {
   "cell_type": "code",
   "execution_count": 5,
   "metadata": {},
   "outputs": [],
   "source": [
    "# Data loading\n",
    "DATA_TRAIN_PATH = '../data/train.csv' # TODO: download train data and supply path here \n",
    "y, tX, ids = load_csv_data(DATA_TRAIN_PATH)"
   ]
  },
  {
   "cell_type": "markdown",
   "metadata": {},
   "source": [
    "## Correlation to the output\n",
    "\n",
    "If we look at how much each feature correlates to the output, we can rank them by meaning"
   ]
  },
  {
   "cell_type": "code",
   "execution_count": 6,
   "metadata": {},
   "outputs": [
    {
     "name": "stdout",
     "output_type": "stream",
     "text": [
      "feature  0 :  0.23914905789154473\n",
      "feature  1 :  -0.3514279558616751\n",
      "feature  2 :  -0.014055273784852506\n",
      "feature  3 :  0.19252632856874796\n",
      "feature  4 :  0.1416459925656641\n",
      "feature  5 :  0.19176608807477077\n",
      "feature  6 :  0.14055440046509557\n",
      "feature  7 :  0.012245481285482902\n",
      "feature  8 :  -0.015287426687781413\n",
      "feature  9 :  0.1532359324758135\n",
      "feature  10 :  -0.19539789618287817\n",
      "feature  11 :  0.2717518770516493\n",
      "feature  12 :  0.14134598859646297\n",
      "feature  13 :  0.23523797587836723\n",
      "feature  14 :  -0.0009432510582117487\n",
      "feature  15 :  -0.0044025386863883985\n",
      "feature  16 :  -0.031947586805348205\n",
      "feature  17 :  0.0015162353770597236\n",
      "feature  18 :  0.0041254474115248515\n",
      "feature  19 :  0.02246575151078583\n",
      "feature  20 :  0.0074753421885902374\n",
      "feature  21 :  0.1355202615226846\n",
      "feature  22 :  0.13354912308169134\n",
      "feature  23 :  0.15760414567634926\n",
      "feature  24 :  0.15046926004977906\n",
      "feature  25 :  0.15046803779292678\n",
      "feature  26 :  0.1407143669504368\n",
      "feature  27 :  0.1412649137760153\n",
      "feature  28 :  0.14125568650533774\n",
      "feature  29 :  0.13429572666925302\n"
     ]
    },
    {
     "data": {
      "text/plain": [
       "<BarContainer object of 30 artists>"
      ]
     },
     "execution_count": 6,
     "metadata": {},
     "output_type": "execute_result"
    },
    {
     "data": {
      "image/png": "[encoded data removed]",
      "text/plain": [
       "<Figure size 432x288 with 1 Axes>"
      ]
     },
     "metadata": {},
     "output_type": "display_data"
    }
   ],
   "source": [
    "correlation_scores = []\n",
    "\n",
    "for i in range(tX.shape[1]): #for each feature\n",
    "    #extract feature\n",
    "    feature = tX[:,i]\n",
    "    #correlate with output\n",
    "    correlation_matrix = np.corrcoef(feature, y)\n",
    "    #keep only the correlation between x and y\n",
    "    correlation_coef = correlation_matrix[0,1]\n",
    "    correlation_scores.append(correlation_coef)\n",
    "    \n",
    "    print(\"feature \", i, \": \", correlation_coef)\n",
    "    \n",
    "    \n",
    "absolute_corr_scores = [abs(corr) for corr in correlation_scores]\n",
    "\n",
    "sign_corr_scores = []\n",
    "sign_corr_color = []\n",
    "for i in range(len(correlation_scores)):\n",
    "    sign = correlation_scores[i]/absolute_corr_scores[i]\n",
    "    if sign == 1:\n",
    "        sign_corr_color.append('b')\n",
    "    else:\n",
    "        sign_corr_color.append('r')\n",
    "        \n",
    "    sign_corr_scores.append(sign)\n",
    "\n",
    "plt.bar(np.linspace(1,30,30),absolute_corr_scores, color=sign_corr_color)"
   ]
  },
  {
   "cell_type": "markdown",
   "metadata": {},
   "source": [
    "Bars in blue have positive correlation, and bars in red have negative correlation.\n",
    "We see that none of the features have a particularly high correlation coefficient (max absolute value around 0.35, max possible is 1), but some of them have a very low correlation. Those low correlation (<0.05) features are:\n",
    "- feature 03: DER mass vis\n",
    "- feature 08: DER deltar tau lep\n",
    "- feature 09: DER pt tot\n",
    "- feature 15: PRI tau eta\n",
    "- feature 16: PRI tau phi\n",
    "- feature 17: PRI lep pt\n",
    "- feature 18: PRI lep eta\n",
    "- feature 19: PRI lep phi\n",
    "- feature 20: PRI met\n",
    "- feature 21: PRI met phi\n",
    "\n",
    "Deleting them would reduce the dimensionality of our dataset from 30 to 20 dimensions, a very high decrease."
   ]
  },
  {
   "cell_type": "code",
   "execution_count": 7,
   "metadata": {},
   "outputs": [
    {
     "data": {
      "text/plain": [
       "(250000, 20)"
      ]
     },
     "execution_count": 7,
     "metadata": {},
     "output_type": "execute_result"
    }
   ],
   "source": [
    "#reload data so that we do not accidentally delete features multiple times\n",
    "y, tX, ids = load_csv_data(DATA_TRAIN_PATH)\n",
    "\n",
    "features_to_delete = [2, 7, 8, 14, 15, 16, 17, 18, 19, 20] #list derived from conclusions above\n",
    "\n",
    "tX_reduced = np.delete(tX, features_to_delete, axis=1) #delete the features\n",
    "tX_reduced.shape"
   ]
  },
  {
   "cell_type": "raw",
   "metadata": {},
   "source": [
    "New numbered list of features:\n",
    "\n",
    "feature  can be undefined? condition    other conditions   exact range       category name\n",
    "01       yes               irrelevant   -                  -                 DER mass MMC\n",
    "02       no                -            -                  -                 DER mass tranverse met lep\n",
    "03       no                -            -                  -                 DER pt h\n",
    "04       yes               jetnum <= 1  -                  -                 DER deltaeta jet jet\n",
    "05       yes               jetnum <= 1  -                  -                 DER mass jet jet\n",
    "06       yes               jetnum <= 1  -                  -                 DER prodeta jet jet\n",
    "07       no                -            jetnum dependance  -                 DER sum pt\n",
    "08       no                -            -                  -                 DER pt ratio lep tau\n",
    "09       no                -            -                  [-sqrt2,sqrt2]    DER met phi centrality\n",
    "10       yes               jetnum <= 1  -                  -                 DER lep eta centrality\n",
    "11       no                -            -                  -                 PRI tau pt\n",
    "12       no                -            -                  -                 PRI met sumet\n",
    "13       no                -            -                  {0,1,2,3}         PRI jet num\n",
    "14       yes               jetnum = 0   -                  -                 PRI jet leading pt\n",
    "15       yes               jetnum = 0   -                  -                 PRI jet leading eta\n",
    "16       yes               jetnum = 0   -                  [-pi,pi]          PRI jet leading phi\n",
    "17       yes               jetnum <= 1  -                  -                 PRI jet subleading pt\n",
    "18       yes               jetnum <= 1  -                  -                 PRI jet subleading eta\n",
    "19       yes               jetnum <= 1  -                  [-pi,pi]          PRI jet subleading phi\n",
    "20       no                -            -                  -                 PRI jet all pt"
   ]
  },
  {
   "cell_type": "markdown",
   "metadata": {},
   "source": [
    "## Correlation between features\n",
    "Another way to reduce dimensionality would be to see which features are correlated, so that we might combine or remove highly correlated features, since their data would be highly redundant."
   ]
  },
  {
   "cell_type": "code",
   "execution_count": 8,
   "metadata": {},
   "outputs": [
    {
     "data": {
      "image/png": "[encoded data removed]",
      "text/plain": [
       "<Figure size 720x720 with 1 Axes>"
      ]
     },
     "metadata": {},
     "output_type": "display_data"
    }
   ],
   "source": [
    "correlation_scores = np.empty([20,20])\n",
    "absolute_corr_scores = np.empty([20,20])\n",
    "\n",
    "for i in range(tX_reduced.shape[1]): #for each feature\n",
    "    #extract feature\n",
    "    feature1 = tX_reduced[:,i]\n",
    "    \n",
    "    for j in range(tX_reduced.shape[1]): # correlate with every other feature\n",
    "        feature2 = tX_reduced[:,j]\n",
    "\n",
    "        correlation_matrix = np.corrcoef(feature1, feature2)\n",
    "        #keep only the correlation between the two features\n",
    "        correlation_coef = correlation_matrix[0,1]\n",
    "        correlation_scores[i,j] = correlation_coef\n",
    "        absolute_corr_scores[i,j] = abs(correlation_coef)\n",
    "    \n",
    "\n",
    "fig, ax = plt.subplots(figsize=(10,10))\n",
    "im = ax.imshow(absolute_corr_scores)"
   ]
  },
  {
   "cell_type": "markdown",
   "metadata": {},
   "source": [
    "Yellow is high correlation, purple is low correlation. There are a bunch of highly correlated pairs. Let's see which of them have a correlation coefficient higher than 0.95"
   ]
  },
  {
   "cell_type": "code",
   "execution_count": 9,
   "metadata": {},
   "outputs": [
    {
     "data": {
      "text/plain": [
       "[(3, 5, 0.9999814276833766),\n",
       " (3, 9, 0.9999983857136875),\n",
       " (3, 16, 0.9993463699208743),\n",
       " (3, 17, 0.9999949302305683),\n",
       " (3, 18, 0.9999955433879205),\n",
       " (5, 9, 0.9999896746909273),\n",
       " (5, 16, 0.9993465738419871),\n",
       " (5, 17, 0.99998797779375),\n",
       " (5, 18, 0.9999886069465257),\n",
       " (6, 19, 0.9656283889164003),\n",
       " (9, 16, 0.9993546311799896),\n",
       " (9, 17, 0.9999969759820075),\n",
       " (9, 18, 0.999997556572974),\n",
       " (13, 14, 0.9961000122626177),\n",
       " (13, 15, 0.9960997956740809),\n",
       " (14, 15, 0.999991836893143),\n",
       " (16, 17, 0.9993523477702619),\n",
       " (16, 18, 0.9993518514848263),\n",
       " (17, 18, 0.9999947740006581)]"
      ]
     },
     "execution_count": 9,
     "metadata": {},
     "output_type": "execute_result"
    }
   ],
   "source": [
    "high_corr_pairs = []\n",
    "for i in range(len(absolute_corr_scores)):\n",
    "    for j in range(len(absolute_corr_scores)):\n",
    "        if absolute_corr_scores[i,j] > 0.95 and i < j:\n",
    "            high_corr_pairs.append((i,j, absolute_corr_scores[i,j]))\n",
    "high_corr_pairs"
   ]
  },
  {
   "cell_type": "markdown",
   "metadata": {},
   "source": [
    "Except for the pair of features 6 and 19, all of those have a correlation basically equal to 1. Of those, we could keep only the first feature of the tuple, meaning we would keep:\n",
    "- feature 3\n",
    "- feature 5 -> can be removed since 3 and 5 are correlated\n",
    "- feature 6\n",
    "- feature 9 -> can be removed since 3 and 9 are correlated\n",
    "- feature 13 \n",
    "- feature 14 -> can be removed since 13 and 14 are correlated\n",
    "- feature 16 -> can be removed since 3 and 16 are correlated\n",
    "- feature 17 -> can be removed since 3 and 17 are correlated\n",
    "- feature 19 -> let's assume 0.96 is not enough to discard the feature\n",
    "\n",
    "So we can remove the following features:\n",
    "- feature 5: DER mass jet jet\n",
    "- feature 9: DER met phi centrality\n",
    "- feature 14: PRI jet leading pt\n",
    "- feature 15: PRI jet leading eta\n",
    "- feature 16: PRI jet leading phi\n",
    "- feature 17: PRI jet subleading pt\n",
    "- feature 18: PRI jet subleading eta"
   ]
  },
  {
   "cell_type": "code",
   "execution_count": 10,
   "metadata": {},
   "outputs": [
    {
     "data": {
      "text/plain": [
       "(250000, 13)"
      ]
     },
     "execution_count": 10,
     "metadata": {},
     "output_type": "execute_result"
    }
   ],
   "source": [
    "#reload data so that we do not accidentally delete features multiple times\n",
    "y, tX, ids = load_csv_data(DATA_TRAIN_PATH)\n",
    "\n",
    "features_to_delete = [2, 7, 8, 14, 15, 16, 17, 18, 19, 20] # list from correlation to output\n",
    "additional_features_to_delete = [4, 8, 13, 14, 15, 16, 17] # additional list from correlation between features\n",
    "\n",
    "tX_reduced = np.delete(tX, features_to_delete, axis=1) #delete the features\n",
    "tX_reduced = np.delete(tX_reduced, additional_features_to_delete, axis=1)\n",
    "tX_reduced.shape"
   ]
  },
  {
   "cell_type": "markdown",
   "metadata": {},
   "source": [
    "## Correlation conclusion"
   ]
  },
  {
   "cell_type": "markdown",
   "metadata": {},
   "source": [
    "Now that we have reduced the dimensionality of our dataset from 30 to 13, let's have a look at the correlation to the output, the correlation to feature matrix, and the remaining feature."
   ]
  },
  {
   "cell_type": "code",
   "execution_count": 11,
   "metadata": {},
   "outputs": [
    {
     "name": "stdout",
     "output_type": "stream",
     "text": [
      "feature  0 :  0.23914905789154473\n",
      "feature  1 :  -0.3514279558616751\n",
      "feature  2 :  0.19252632856874796\n",
      "feature  3 :  0.1416459925656641\n",
      "feature  4 :  0.14055440046509557\n",
      "feature  5 :  0.1532359324758135\n",
      "feature  6 :  -0.19539789618287817\n",
      "feature  7 :  0.14134598859646297\n",
      "feature  8 :  0.23523797587836723\n",
      "feature  9 :  0.1355202615226846\n",
      "feature  10 :  0.13354912308169134\n",
      "feature  11 :  0.14125568650533774\n",
      "feature  12 :  0.13429572666925302\n"
     ]
    },
    {
     "data": {
      "text/plain": [
       "<BarContainer object of 13 artists>"
      ]
     },
     "execution_count": 11,
     "metadata": {},
     "output_type": "execute_result"
    },
    {
     "data": {
      "image/png": "[encoded data removed]",
      "text/plain": [
       "<Figure size 432x288 with 1 Axes>"
      ]
     },
     "metadata": {},
     "output_type": "display_data"
    }
   ],
   "source": [
    "correlation_scores = []\n",
    "\n",
    "for i in range(tX_reduced.shape[1]): #for each feature\n",
    "    #extract feature\n",
    "    feature = tX_reduced[:,i]\n",
    "    #correlate with output\n",
    "    correlation_matrix = np.corrcoef(feature, y)\n",
    "    #keep only the correlation between x and y\n",
    "    correlation_coef = correlation_matrix[0,1]\n",
    "    correlation_scores.append(correlation_coef)\n",
    "    \n",
    "    print(\"feature \", i, \": \", correlation_coef)\n",
    "    \n",
    "    \n",
    "absolute_corr_scores = [abs(corr) for corr in correlation_scores]\n",
    "\n",
    "sign_corr_scores = []\n",
    "sign_corr_color = []\n",
    "for i in range(len(correlation_scores)):\n",
    "    sign = correlation_scores[i]/absolute_corr_scores[i]\n",
    "    if sign == 1:\n",
    "        sign_corr_color.append('b')\n",
    "    else:\n",
    "        sign_corr_color.append('r')\n",
    "        \n",
    "    sign_corr_scores.append(sign)\n",
    "\n",
    "plt.bar(np.linspace(1,13,13),absolute_corr_scores, color=sign_corr_color)"
   ]
  },
  {
   "cell_type": "markdown",
   "metadata": {},
   "source": [
    "We see that all of our remaining features have a correlation to the output above 10%."
   ]
  },
  {
   "cell_type": "code",
   "execution_count": 12,
   "metadata": {},
   "outputs": [
    {
     "data": {
      "image/png": "[encoded data removed]",
      "text/plain": [
       "<Figure size 720x720 with 1 Axes>"
      ]
     },
     "metadata": {},
     "output_type": "display_data"
    }
   ],
   "source": [
    "correlation_scores = np.empty([13,13])\n",
    "absolute_corr_scores = np.empty([13,13])\n",
    "\n",
    "for i in range(tX_reduced.shape[1]): #for each feature\n",
    "    #extract feature\n",
    "    feature1 = tX_reduced[:,i]\n",
    "    \n",
    "    for j in range(tX_reduced.shape[1]): # correlate with every other feature\n",
    "        feature2 = tX_reduced[:,j]\n",
    "\n",
    "        correlation_matrix = np.corrcoef(feature1, feature2)\n",
    "        #keep only the correlation between the two features\n",
    "        correlation_coef = correlation_matrix[0,1]\n",
    "        correlation_scores[i,j] = correlation_coef\n",
    "        absolute_corr_scores[i,j] = abs(correlation_coef)\n",
    "    \n",
    "\n",
    "fig, ax = plt.subplots(figsize=(10,10))\n",
    "im = ax.imshow(absolute_corr_scores)"
   ]
  },
  {
   "cell_type": "markdown",
   "metadata": {},
   "source": [
    "For some reason, we still have some highly correlated features that didn't show in the previous test, we might be better off leaving them in."
   ]
  },
  {
   "cell_type": "raw",
   "metadata": {},
   "source": [
    "New numbered list of features:\n",
    "\n",
    "feature  can be undefined? condition    other conditions   exact range       category name               initial index\n",
    "01       yes               irrelevant   -                  -                 DER mass MMC                01\n",
    "02       no                -            -                  -                 DER mass tranverse met lep  02\n",
    "03       no                -            -                  -                 DER pt h                    04\n",
    "04       yes               jetnum <= 1  -                  -                 DER deltaeta jet jet        05\n",
    "05       yes               jetnum <= 1  -                  -                 DER prodeta jet jet         07\n",
    "06       no                -            jetnum dependance  -                 DER sum pt                  10\n",
    "07       no                -            -                  -                 DER pt ratio lep tau        11\n",
    "08       yes               jetnum <= 1  -                  -                 DER lep eta centrality      13\n",
    "09       no                -            -                  -                 PRI tau pt                  14\n",
    "10       no                -            -                  -                 PRI met sumet               22\n",
    "11       no                -            -                  {0,1,2,3}         PRI jet num                 23\n",
    "12       yes               jetnum <= 1  -                  [-pi,pi]          PRI jet subleading phi      29\n",
    "13       no                -            -                  -                 PRI jet all pt              30"
   ]
  },
  {
   "cell_type": "markdown",
   "metadata": {},
   "source": [
    "## Further selection"
   ]
  },
  {
   "cell_type": "markdown",
   "metadata": {},
   "source": [
    "Some of our remaining features still have undefined values. For now, it is not clear what we should do with them.\n",
    "On the exception of feature 1 DER mass MMC, the feature with exceptions are ruled by feature 11 jet num:\n",
    "if jetnum <= 1, then the data point is undefined for features 4, 5, 8, 12.\n",
    "\n",
    "Here are a few possibilities to proceed with that:\n",
    "- Keep the dataset that way, the model might just manage the undefined values\n",
    "- Remove all data points in every feature where jetnum <= 1, leaving us with all 13 features but less data points (we'd be left with around 70'000 data points instead of the provided 250'000, a very large reduction)\n",
    "- Remove the features that have undefined values, leaving us with 9 features total\n",
    "- Give the undefined data points a value more manageable than -999\n",
    "\n",
    "For now, I would advocate to just let the model deal with it and to see what happens."
   ]
  },
  {
   "cell_type": "markdown",
   "metadata": {},
   "source": [
    "# Results and conclusion"
   ]
  },
  {
   "cell_type": "markdown",
   "metadata": {},
   "source": [
    "The following load function was written, in order to load reduced data. It is based on the results of the output correlation step and the feature correlation step."
   ]
  },
  {
   "cell_type": "code",
   "execution_count": 13,
   "metadata": {},
   "outputs": [
    {
     "data": {
      "text/plain": [
       "(250000, 13)"
      ]
     },
     "execution_count": 13,
     "metadata": {},
     "output_type": "execute_result"
    }
   ],
   "source": [
    "from misc_helpers import *\n",
    "y, tX, ids = load_reduced_training_data(DATA_TRAIN_PATH, delete_low_output_correlation=True, delete_high_feature_correlation=True)\n",
    "tX.shape"
   ]
  },
  {
   "cell_type": "markdown",
   "metadata": {},
   "source": [
    "It might be a good idea to test the model with the whole dataset, then with low output correlation removed, then with both removed to see if the results improve as expected. Then, it might be useful to think about the undefined values, as discussed in the previous section"
   ]
  },
  {
   "cell_type": "markdown",
   "metadata": {},
   "source": [
    "# Feature Selection Validation"
   ]
  },
  {
   "cell_type": "markdown",
   "metadata": {},
   "source": [
    "Let's see if those theoretical results are any good"
   ]
  },
  {
   "cell_type": "code",
   "execution_count": 14,
   "metadata": {},
   "outputs": [
    {
     "name": "stdout",
     "output_type": "stream",
     "text": [
      "The autoreload extension is already loaded. To reload it, use:\n",
      "  %reload_ext autoreload\n"
     ]
    }
   ],
   "source": [
    "%matplotlib inline\n",
    "import numpy as np\n",
    "import matplotlib.pyplot as plt\n",
    "import math\n",
    "from proj1_helpers import *\n",
    "from implementations import *\n",
    "from misc_helpers import *\n",
    "%load_ext autoreload\n",
    "%autoreload 2"
   ]
  },
  {
   "cell_type": "markdown",
   "metadata": {},
   "source": [
    "## Without feature selection"
   ]
  },
  {
   "cell_type": "code",
   "execution_count": 29,
   "metadata": {},
   "outputs": [],
   "source": [
    "y, tX, ids = load_reduced_training_data(DATA_TRAIN_PATH, delete_low_output_correlation=False, delete_high_feature_correlation=False)\n",
    "y_norm = normalize(y)\n",
    "tX_norm = normalize(tX)\n",
    "\n",
    "#test\n",
    "DATA_TEST_PATH = \"../data/test.csv\"\n",
    "y, tX, ids = load_csv_data(DATA_TEST_PATH)\n",
    "y_norm_t = normalize(y)\n",
    "tX_norm_t = normalize(tX)"
   ]
  },
  {
   "cell_type": "code",
   "execution_count": 30,
   "metadata": {},
   "outputs": [
    {
     "name": "stdout",
     "output_type": "stream",
     "text": [
      "Train loss:  1.9977292160664303e-06\n"
     ]
    }
   ],
   "source": [
    "w = np.zeros([tX.shape[1]])\n",
    "\n",
    "#train\n",
    "w_final, loss = least_squares_GD(y_norm, tX_norm, w)\n",
    "print(\"Train loss: \", loss)"
   ]
  },
  {
   "cell_type": "code",
   "execution_count": 32,
   "metadata": {},
   "outputs": [
    {
     "name": "stdout",
     "output_type": "stream",
     "text": [
      "Test loss:  8.823747409713217e-07\n"
     ]
    }
   ],
   "source": [
    "test_loss = compute_MSE(y_norm_t, tX_norm_t, w_final)\n",
    "print(\"Test loss: \", test_loss)"
   ]
  },
  {
   "cell_type": "markdown",
   "metadata": {},
   "source": [
    "## Deleting low output correlation features"
   ]
  },
  {
   "cell_type": "code",
   "execution_count": 36,
   "metadata": {},
   "outputs": [],
   "source": [
    "y, tX, ids = load_reduced_training_data(DATA_TRAIN_PATH, delete_low_output_correlation=True, delete_high_feature_correlation=False)\n",
    "y_norm = normalize(y)\n",
    "tX_norm = normalize(tX)\n",
    "\n",
    "#test\n",
    "DATA_TEST_PATH = \"../data/test.csv\"\n",
    "y, tX, ids = load_reduced_training_data(DATA_TEST_PATH, delete_low_output_correlation=True, delete_high_feature_correlation=False)\n",
    "y_norm_t = normalize(y)\n",
    "tX_norm_t = normalize(tX)"
   ]
  },
  {
   "cell_type": "code",
   "execution_count": 37,
   "metadata": {},
   "outputs": [
    {
     "name": "stdout",
     "output_type": "stream",
     "text": [
      "Train loss:  1.9981242092758316e-06\n"
     ]
    }
   ],
   "source": [
    "w = np.zeros([tX.shape[1]])\n",
    "\n",
    "#train\n",
    "w_final, loss = least_squares_GD(y_norm, tX_norm, w)\n",
    "print(\"Train loss: \", loss)"
   ]
  },
  {
   "cell_type": "code",
   "execution_count": 38,
   "metadata": {},
   "outputs": [
    {
     "name": "stdout",
     "output_type": "stream",
     "text": [
      "Test loss:  8.818182086036881e-07\n"
     ]
    }
   ],
   "source": [
    "test_loss = compute_MSE(y_norm_t, tX_norm_t, w_final)\n",
    "print(\"Test loss: \", test_loss)"
   ]
  },
  {
   "cell_type": "markdown",
   "metadata": {},
   "source": [
    "## Also deleting highly correlated features"
   ]
  },
  {
   "cell_type": "code",
   "execution_count": 39,
   "metadata": {},
   "outputs": [],
   "source": [
    "y, tX, ids = load_reduced_training_data(DATA_TRAIN_PATH, delete_low_output_correlation=True, delete_high_feature_correlation=True)\n",
    "y_norm = normalize(y)\n",
    "tX_norm = normalize(tX)\n",
    "\n",
    "#test\n",
    "DATA_TEST_PATH = \"../data/test.csv\"\n",
    "y, tX, ids = load_reduced_training_data(DATA_TEST_PATH, delete_low_output_correlation=True, delete_high_feature_correlation=True)\n",
    "y_norm_t = normalize(y)\n",
    "tX_norm_t = normalize(tX)"
   ]
  },
  {
   "cell_type": "code",
   "execution_count": 40,
   "metadata": {},
   "outputs": [
    {
     "name": "stdout",
     "output_type": "stream",
     "text": [
      "Train loss:  1.9989081833827053e-06\n"
     ]
    }
   ],
   "source": [
    "w = np.zeros([tX.shape[1]])\n",
    "\n",
    "#train\n",
    "w_final, loss = least_squares_GD(y_norm, tX_norm, w)\n",
    "print(\"Train loss: \", loss)"
   ]
  },
  {
   "cell_type": "code",
   "execution_count": 41,
   "metadata": {},
   "outputs": [
    {
     "name": "stdout",
     "output_type": "stream",
     "text": [
      "Test loss:  8.811404740079968e-07\n"
     ]
    }
   ],
   "source": [
    "test_loss = compute_MSE(y_norm_t, tX_norm_t, w_final)\n",
    "print(\"Test loss: \", test_loss)"
   ]
  },
  {
   "cell_type": "markdown",
   "metadata": {},
   "source": [
    "We see that there is no significant change in loss quality when using the partly or completely reduced dataset, which means our feature selection worked, we can get rid of the unused features."
   ]
  },
  {
   "cell_type": "code",
   "execution_count": null,
   "metadata": {},
   "outputs": [],
   "source": []
  }
 ],
 "metadata": {
  "kernelspec": {
   "display_name": "Python 3",
   "language": "python",
   "name": "python3"
  },
  "language_info": {
   "codemirror_mode": {
    "name": "ipython",
    "version": 3
   },
   "file_extension": ".py",
   "mimetype": "text/x-python",
   "name": "python",
   "nbconvert_exporter": "python",
   "pygments_lexer": "ipython3",
   "version": "3.6.6"
  }
 },
 "nbformat": 4,
 "nbformat_minor": 2
}

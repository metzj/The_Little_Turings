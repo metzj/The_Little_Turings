{
 "cells": [
  {
   "cell_type": "code",
   "execution_count": 7,
   "metadata": {},
   "outputs": [
    {
     "name": "stdout",
     "output_type": "stream",
     "text": [
      "The autoreload extension is already loaded. To reload it, use:\n",
      "  %reload_ext autoreload\n"
     ]
    }
   ],
   "source": [
    "# Useful starting lines\n",
    "%matplotlib inline\n",
    "import numpy as np\n",
    "import matplotlib.pyplot as plt\n",
    "import math\n",
    "from implementations import *\n",
    "from proj1_helpers import *\n",
    "from misc_helpers import *\n",
    "from plot_functions import *\n",
    "from ml_math import *\n",
    "%load_ext autoreload\n",
    "%autoreload 2"
   ]
  },
  {
   "cell_type": "markdown",
   "metadata": {},
   "source": [
    "# Optimizing Learning for LR"
   ]
  },
  {
   "cell_type": "markdown",
   "metadata": {},
   "source": [
    "### Load Data"
   ]
  },
  {
   "cell_type": "code",
   "execution_count": 8,
   "metadata": {},
   "outputs": [],
   "source": [
    "DATA_TRAIN_PATH = '../data/train.csv' # TODO: download train data and supply path here \n",
    "y_data, x_data, ids = load_csv_data(DATA_TRAIN_PATH)"
   ]
  },
  {
   "cell_type": "markdown",
   "metadata": {},
   "source": [
    "### Standardize"
   ]
  },
  {
   "cell_type": "code",
   "execution_count": 9,
   "metadata": {},
   "outputs": [],
   "source": [
    "y = normalize(y_data)\n",
    "x = normalize(x_data)"
   ]
  },
  {
   "cell_type": "markdown",
   "metadata": {},
   "source": [
    "## Find the best number of gamma"
   ]
  },
  {
   "cell_type": "code",
   "execution_count": 13,
   "metadata": {},
   "outputs": [],
   "source": [
    "# 'New' build_poly used in the labs correction, the old one should also work but you're never sure\n",
    "def build_poly(x, degree):\n",
    "    \"\"\"polynomial basis functions for input data x, for j=0 up to j=degree.\"\"\"\n",
    "    poly = np.ones((len(x), 1))\n",
    "    for deg in range(1, int(degree+1)):\n",
    "        poly = np.c_[poly, np.power(x, deg)]\n",
    "    return poly\n",
    "\n",
    "# Build_k_indices to do cross validation\n",
    "def build_k_indices(y, k_fold, seed):\n",
    "    \"\"\"build k indices for k-fold.\"\"\"\n",
    "    num_row = y.shape[0]\n",
    "    interval = int(num_row / k_fold)\n",
    "    np.random.seed(seed)\n",
    "    indices = np.random.permutation(num_row)\n",
    "    k_indices = [indices[k * interval : (k + 1) * interval] for k in range(k_fold)]\n",
    "    return np.array(k_indices)\n",
    "\n",
    "def cross_validation(y, x, k_indices, k, gamma, degree):\n",
    "    \"\"\"return the loss of ridge regression.\"\"\"\n",
    "    # get k'th subgroup in test, others in train\n",
    "    te_indice = k_indices[k]\n",
    "    tr_indice = k_indices[~(np.arange(k_indices.shape[0]) == k)]\n",
    "    tr_indice = tr_indice.reshape(-1)\n",
    "    y_te = y[te_indice]\n",
    "    y_tr = y[tr_indice]\n",
    "    x_te = x[te_indice]\n",
    "    x_tr = x[tr_indice]\n",
    "    # form data with polynomial degree\n",
    "    tx_tr = build_poly(x_tr, degree)\n",
    "    tx_te = build_poly(x_te, degree)\n",
    "    # ridge regression\n",
    "    initial_w = np.zeros(len(tx_tr[1,:]))\n",
    "    max_iter = 100\n",
    "    w, _ = logistic_regression(y_tr, tx_tr, initial_w, max_iter, gamma, verbose = False, use_SGD = True, batch_size = 1)\n",
    "    # calculate the loss for train and test data\n",
    "    loss_tr = np.sqrt(2 * compute_MSE(y_tr, tx_tr, w))\n",
    "    loss_te = np.sqrt(2 * compute_MSE(y_te, tx_te, w))\n",
    "    return loss_tr, loss_te, w\n",
    "\n",
    "def cross_validation_visualization(degree, rmse_tr, rmse_te):\n",
    "    \"\"\"visualization the curves of mse_tr and mse_te.\"\"\"\n",
    "    # use either 'normal', semilogx, semilogy or loglog\n",
    "    plt.semilogy(degree, rmse_tr, marker=\".\", color='b', label='train error')\n",
    "    plt.semilogy(degree, rmse_te, marker=\".\", color='r', label='test error')\n",
    "    plt.xlabel(\"degree\")\n",
    "    plt.ylabel(\"rmse\")\n",
    "    plt.title(\"cross validation\")\n",
    "    plt.legend(loc=2)\n",
    "    plt.grid(True)\n",
    "    plt.savefig(\"cross_validation\")\n",
    "    \n",
    "def cross_validation_demo():\n",
    "    # if you change between lin and log space, don't forget to update cross_validation_visualization\n",
    "    nb = 10\n",
    "    seed = 1\n",
    "    degrees = np.linspace(1, 10, nb)\n",
    "    k_fold = 4\n",
    "    gamma = 0.001\n",
    "    i = 0\n",
    "    # split data in k fold\n",
    "    k_indices = build_k_indices(y, k_fold, seed)\n",
    "    # define lists to store the loss of training data and test data\n",
    "    rmse_tr = []\n",
    "    rmse_te = []\n",
    "    # cross validation\n",
    "    for degree in degrees:\n",
    "        rmse_tr_tmp = []\n",
    "        rmse_te_tmp = []\n",
    "        for k in range(k_fold):\n",
    "            loss_tr, loss_te, _ = cross_validation(y, x, k_indices, k, gamma, degree)\n",
    "            rmse_tr_tmp.append(loss_tr)\n",
    "            rmse_te_tmp.append(loss_te)\n",
    "        rmse_tr.append(np.mean(rmse_tr_tmp))\n",
    "        rmse_te.append(np.mean(rmse_te_tmp))\n",
    "        i = i + 1\n",
    "        print(i / nb * 100)\n",
    "        print(\"% done\")\n",
    "    \n",
    "    print(rmse_tr)\n",
    "    print(rmse_te)\n",
    "    cross_validation_visualization(degrees, rmse_tr, rmse_te)"
   ]
  },
  {
   "cell_type": "code",
   "execution_count": 14,
   "metadata": {},
   "outputs": [
    {
     "name": "stdout",
     "output_type": "stream",
     "text": [
      "10.0\n",
      "% done\n",
      "20.0\n",
      "% done\n",
      "30.0\n",
      "% done\n",
      "40.0\n",
      "% done\n",
      "50.0\n",
      "% done\n",
      "60.0\n",
      "% done\n",
      "70.0\n",
      "% done\n",
      "80.0\n",
      "% done\n",
      "90.0\n",
      "% done\n",
      "100.0\n",
      "% done\n",
      "[0.04886186697600105, 0.04885390406457714, 0.04885408070914862, 0.048857982730096804, 0.048848975316683134, 0.04886773740380301, 0.04886088645534077, 0.04885388392071152, 0.04885505691528776, 0.04886792300040369]\n",
      "[0.04886186665058743, 0.048853903149296704, 0.048854079979361385, 0.04885798208078374, 0.048848974092333866, 0.04886773625508815, 0.04886088533161716, 0.04885388313517166, 0.0488550560154451, 0.04886792239156439]\n"
     ]
    },
    {
     "data": {
      "image/png": "[encoded data removed]",
      "text/plain": [
       "<Figure size 432x288 with 1 Axes>"
      ]
     },
     "metadata": {},
     "output_type": "display_data"
    }
   ],
   "source": [
    "cross_validation_demo()"
   ]
  },
  {
   "cell_type": "code",
   "execution_count": null,
   "metadata": {},
   "outputs": [],
   "source": []
  }
 ],
 "metadata": {
  "kernelspec": {
   "display_name": "Python 3",
   "language": "python",
   "name": "python3"
  },
  "language_info": {
   "codemirror_mode": {
    "name": "ipython",
    "version": 3
   },
   "file_extension": ".py",
   "mimetype": "text/x-python",
   "name": "python",
   "nbconvert_exporter": "python",
   "pygments_lexer": "ipython3",
   "version": "3.6.6"
  }
 },
 "nbformat": 4,
 "nbformat_minor": 2
}

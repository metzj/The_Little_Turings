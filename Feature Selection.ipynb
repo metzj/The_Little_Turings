{
 "cells": [
  {
   "cell_type": "markdown",
   "metadata": {},
   "source": [
    "# Feature Selection"
   ]
  },
  {
   "cell_type": "code",
   "execution_count": 1,
   "metadata": {},
   "outputs": [],
   "source": [
    "# Useful starting lines\n",
    "%matplotlib inline\n",
    "import numpy as np\n",
    "import matplotlib.pyplot as plt\n",
    "import math\n",
    "from implementations import *\n",
    "from proj1_helpers import *\n",
    "from misc_helpers import *\n",
    "from plot_functions import *\n",
    "from ml_math import *\n",
    "%load_ext autoreload\n",
    "%autoreload 2"
   ]
  },
  {
   "cell_type": "code",
   "execution_count": 2,
   "metadata": {},
   "outputs": [],
   "source": [
    "DATA_TRAIN_PATH = 'data/train.csv' # TODO: download train data and supply path here \n",
    "y, tX, ids = load_csv_data(DATA_TRAIN_PATH)"
   ]
  },
  {
   "cell_type": "code",
   "execution_count": 3,
   "metadata": {},
   "outputs": [],
   "source": [
    "y_norm = normalize(y)\n",
    "tX_norm = normalize(tX)"
   ]
  },
  {
   "cell_type": "code",
   "execution_count": 4,
   "metadata": {},
   "outputs": [],
   "source": [
    "def build_k_indices(y, k_fold, seed):\n",
    "    \"\"\"build k indices for k-fold.\"\"\"\n",
    "    num_row = y.shape[0]\n",
    "    interval = int(num_row / k_fold)\n",
    "    np.random.seed(seed)\n",
    "    indices = np.random.permutation(num_row)\n",
    "    k_indices = [indices[k * interval: (k + 1) * interval]\n",
    "                 for k in range(k_fold)]\n",
    "    return np.array(k_indices)\n",
    "\n",
    "def cross_validation(y, x, k_fold):\n",
    "    \"\"\"return the loss of ridge regression.\"\"\"\n",
    "    seed = 1\n",
    "    k_indices = build_k_indices(y, k_fold, seed)\n",
    "    \n",
    "    mse_tr = 0\n",
    "    mse_te = 0\n",
    "    for k in range(k_fold):\n",
    "        # get k'th subgroup in test, others in train:\n",
    "        test_indices = k_indices[k]\n",
    "        train_indices = np.delete(k_indices,k,0).flatten()\n",
    "        x_tr = x[train_indices]\n",
    "        y_tr = y[train_indices]\n",
    "        x_te = x[test_indices]\n",
    "        y_te = y[test_indices]\n",
    "\n",
    "        # Least squares:\n",
    "        w, loss = least_squares(y_tr, x_tr)\n",
    "\n",
    "        # calculate the loss for train and test data: \n",
    "        loss_tr = compute_MSE(y_tr, x_tr, w)\n",
    "        loss_te = compute_MSE(y_te, x_te, w)\n",
    "    \n",
    "        mse_tr += loss_tr/k_fold\n",
    "        mse_te += loss_te/k_fold\n",
    "        \n",
    "    \n",
    "    return mse_tr, mse_te"
   ]
  },
  {
   "cell_type": "markdown",
   "metadata": {},
   "source": [
    "# Do some crazy feature selection here"
   ]
  },
  {
   "cell_type": "code",
   "execution_count": 5,
   "metadata": {},
   "outputs": [
    {
     "data": {
      "text/plain": [
       "(0.33966946818855126, 0.3398094202725914)"
      ]
     },
     "execution_count": 5,
     "metadata": {},
     "output_type": "execute_result"
    }
   ],
   "source": [
    "#normal\n",
    "cross_validation(y,tX,4)"
   ]
  },
  {
   "cell_type": "code",
   "execution_count": 6,
   "metadata": {},
   "outputs": [
    {
     "data": {
      "text/plain": [
       "(1.3586778724226265e-06, 1.3592376993433102e-06)"
      ]
     },
     "execution_count": 6,
     "metadata": {},
     "output_type": "execute_result"
    }
   ],
   "source": [
    "#normal normalized\n",
    "cross_validation(y_norm,tX_norm,4)"
   ]
  },
  {
   "cell_type": "code",
   "execution_count": 7,
   "metadata": {},
   "outputs": [],
   "source": [
    "def build_poly(x, degree, linear = False):\n",
    "    \"\"\"polynomial basis functions for input data x, for j=0 up to j=degree.\"\"\"\n",
    "    if linear == False:\n",
    "        D = len(x[0,:])\n",
    "        N = len(x[:,0])\n",
    "        new_x = np.ones((N,1)) #add bias\n",
    "        if degree>=1:\n",
    "            for i in range(1,degree+1):\n",
    "                new_x = np.append(new_x,x**i,axis=1) \n",
    "        return new_x\n",
    "    else:\n",
    "        m = np.zeros((len(x),degree+1))\n",
    "        for j in range(degree+1):\n",
    "            m[:,j] = x**j\n",
    "        return m"
   ]
  },
  {
   "cell_type": "markdown",
   "metadata": {},
   "source": [
    "Here is the noise level. Everything that we add should beat this error"
   ]
  },
  {
   "cell_type": "code",
   "execution_count": 12,
   "metadata": {},
   "outputs": [
    {
     "name": "stdout",
     "output_type": "stream",
     "text": [
      "(0.4504921630862113, 0.4505011268124478)\n",
      "(0.4504921630862113, 0.4505011268124478)\n"
     ]
    }
   ],
   "source": [
    "#only constant feature\n",
    "tX0 = build_poly(tX,0)\n",
    "print(cross_validation(y,tX0,4))\n",
    "#only constant feature\n",
    "tX0 = build_poly(tX_norm,0)\n",
    "print(cross_validation(y,tX0,4))"
   ]
  },
  {
   "cell_type": "code",
   "execution_count": 19,
   "metadata": {},
   "outputs": [
    {
     "data": {
      "text/plain": [
       "(0.33942794564253254, 0.33957040705071323)"
      ]
     },
     "execution_count": 19,
     "metadata": {},
     "output_type": "execute_result"
    }
   ],
   "source": [
    "#linear regression\n",
    "tX1 = build_poly(tX,1)\n",
    "cross_validation(y,tX1,4)"
   ]
  },
  {
   "cell_type": "code",
   "execution_count": 21,
   "metadata": {},
   "outputs": [
    {
     "data": {
      "text/plain": [
       "(0.3176633200431017, 0.38502220774596624)"
      ]
     },
     "execution_count": 21,
     "metadata": {},
     "output_type": "execute_result"
    }
   ],
   "source": [
    "deg = 2\n",
    "tX2 = build_poly(tX,deg)\n",
    "cross_validation(y,tX2,4)"
   ]
  },
  {
   "cell_type": "markdown",
   "metadata": {},
   "source": [
    "There is overfitting"
   ]
  },
  {
   "cell_type": "code",
   "execution_count": 25,
   "metadata": {},
   "outputs": [
    {
     "data": {
      "text/plain": [
       "(1366.07066879478, 1390.3153219061169)"
      ]
     },
     "execution_count": 25,
     "metadata": {},
     "output_type": "execute_result"
    }
   ],
   "source": [
    "deg = 3\n",
    "tX2 = build_poly(tX,deg)\n",
    "cross_validation(y,tX2,4)"
   ]
  },
  {
   "cell_type": "code",
   "execution_count": 118,
   "metadata": {},
   "outputs": [],
   "source": [
    "n,p = np.shape(tX)\n",
    "loss = []\n",
    "remove = []\n",
    "for deg in [0,1,2,3,4,5,6,7,8,9,10]:\n",
    "    for i in range(p):\n",
    "        tX_ = build_poly(tX[:,i],deg, linear=True)\n",
    "        loss_tr,loss_te = cross_validation(y,tX_,4)\n",
    "        if loss_te > 0.45:\n",
    "            remove.append((i,deg))\n"
   ]
  },
  {
   "cell_type": "code",
   "execution_count": 119,
   "metadata": {},
   "outputs": [
    {
     "data": {
      "text/plain": [
       "[(0, 0),\n",
       " (1, 0),\n",
       " (2, 0),\n",
       " (3, 0),\n",
       " (4, 0),\n",
       " (5, 0),\n",
       " (6, 0),\n",
       " (7, 0),\n",
       " (8, 0),\n",
       " (9, 0),\n",
       " (10, 0),\n",
       " (11, 0),\n",
       " (12, 0),\n",
       " (13, 0),\n",
       " (14, 0),\n",
       " (15, 0),\n",
       " (16, 0),\n",
       " (17, 0),\n",
       " (18, 0),\n",
       " (19, 0),\n",
       " (20, 0),\n",
       " (21, 0),\n",
       " (22, 0),\n",
       " (23, 0),\n",
       " (24, 0),\n",
       " (25, 0),\n",
       " (26, 0),\n",
       " (27, 0),\n",
       " (28, 0),\n",
       " (29, 0),\n",
       " (2, 1),\n",
       " (7, 1),\n",
       " (8, 1),\n",
       " (14, 1),\n",
       " (15, 1),\n",
       " (16, 1),\n",
       " (17, 1),\n",
       " (18, 1),\n",
       " (19, 1),\n",
       " (20, 1),\n",
       " (8, 2),\n",
       " (15, 2),\n",
       " (18, 2),\n",
       " (19, 2),\n",
       " (20, 2),\n",
       " (2, 3),\n",
       " (8, 3),\n",
       " (15, 3),\n",
       " (18, 3),\n",
       " (19, 3),\n",
       " (20, 3),\n",
       " (2, 4),\n",
       " (3, 4),\n",
       " (8, 4),\n",
       " (15, 4),\n",
       " (18, 4),\n",
       " (19, 4),\n",
       " (20, 4),\n",
       " (22, 4),\n",
       " (2, 5),\n",
       " (3, 5),\n",
       " (4, 5),\n",
       " (6, 5),\n",
       " (8, 5),\n",
       " (12, 5),\n",
       " (15, 5),\n",
       " (18, 5),\n",
       " (19, 5),\n",
       " (20, 5),\n",
       " (22, 5),\n",
       " (25, 5),\n",
       " (27, 5),\n",
       " (28, 5),\n",
       " (2, 6),\n",
       " (3, 6),\n",
       " (8, 6),\n",
       " (15, 6),\n",
       " (18, 6),\n",
       " (19, 6),\n",
       " (20, 6),\n",
       " (22, 6),\n",
       " (27, 6),\n",
       " (28, 6),\n",
       " (2, 7),\n",
       " (3, 7),\n",
       " (4, 7),\n",
       " (8, 7),\n",
       " (12, 7),\n",
       " (15, 7),\n",
       " (16, 7),\n",
       " (18, 7),\n",
       " (19, 7),\n",
       " (20, 7),\n",
       " (22, 7),\n",
       " (23, 7),\n",
       " (28, 7),\n",
       " (0, 8),\n",
       " (2, 8),\n",
       " (3, 8),\n",
       " (8, 8),\n",
       " (12, 8),\n",
       " (13, 8),\n",
       " (15, 8),\n",
       " (16, 8),\n",
       " (18, 8),\n",
       " (19, 8),\n",
       " (20, 8),\n",
       " (22, 8),\n",
       " (23, 8),\n",
       " (27, 8),\n",
       " (28, 8),\n",
       " (0, 9),\n",
       " (1, 9),\n",
       " (2, 9),\n",
       " (3, 9),\n",
       " (4, 9),\n",
       " (6, 9),\n",
       " (8, 9),\n",
       " (12, 9),\n",
       " (13, 9),\n",
       " (15, 9),\n",
       " (16, 9),\n",
       " (18, 9),\n",
       " (19, 9),\n",
       " (20, 9),\n",
       " (22, 9),\n",
       " (23, 9),\n",
       " (27, 9),\n",
       " (0, 10),\n",
       " (1, 10),\n",
       " (2, 10),\n",
       " (3, 10),\n",
       " (6, 10),\n",
       " (8, 10),\n",
       " (9, 10),\n",
       " (13, 10),\n",
       " (15, 10),\n",
       " (16, 10),\n",
       " (18, 10),\n",
       " (19, 10),\n",
       " (20, 10),\n",
       " (21, 10),\n",
       " (22, 10),\n",
       " (23, 10)]"
      ]
     },
     "execution_count": 119,
     "metadata": {},
     "output_type": "execute_result"
    }
   ],
   "source": [
    "#all of these are noise\n",
    "remove\n"
   ]
  },
  {
   "cell_type": "code",
   "execution_count": 120,
   "metadata": {},
   "outputs": [
    {
     "data": {
      "text/plain": [
       "[(0, 1),\n",
       " (1, 1),\n",
       " (2, 1),\n",
       " (3, 1),\n",
       " (4, 1),\n",
       " (5, 1),\n",
       " (6, 1),\n",
       " (7, 1),\n",
       " (8, 1),\n",
       " (9, 1),\n",
       " (10, 1),\n",
       " (11, 1),\n",
       " (12, 1),\n",
       " (13, 1),\n",
       " (14, 1),\n",
       " (15, 1),\n",
       " (16, 1),\n",
       " (17, 1),\n",
       " (18, 1),\n",
       " (19, 1),\n",
       " (20, 1),\n",
       " (21, 1),\n",
       " (22, 1),\n",
       " (23, 1),\n",
       " (24, 1),\n",
       " (25, 1),\n",
       " (26, 1),\n",
       " (27, 1),\n",
       " (28, 1),\n",
       " (29, 1),\n",
       " (0, 2),\n",
       " (1, 2),\n",
       " (2, 2),\n",
       " (3, 2),\n",
       " (4, 2),\n",
       " (5, 2),\n",
       " (6, 2),\n",
       " (7, 2),\n",
       " (8, 2),\n",
       " (9, 2),\n",
       " (10, 2),\n",
       " (11, 2),\n",
       " (12, 2),\n",
       " (13, 2),\n",
       " (14, 2),\n",
       " (15, 2),\n",
       " (16, 2),\n",
       " (17, 2),\n",
       " (18, 2),\n",
       " (19, 2),\n",
       " (20, 2),\n",
       " (21, 2),\n",
       " (22, 2),\n",
       " (23, 2),\n",
       " (24, 2),\n",
       " (25, 2),\n",
       " (26, 2),\n",
       " (27, 2),\n",
       " (28, 2),\n",
       " (29, 2),\n",
       " (0, 3),\n",
       " (1, 3),\n",
       " (2, 3),\n",
       " (3, 3),\n",
       " (4, 3),\n",
       " (5, 3),\n",
       " (6, 3),\n",
       " (7, 3),\n",
       " (8, 3),\n",
       " (9, 3),\n",
       " (10, 3),\n",
       " (11, 3),\n",
       " (12, 3),\n",
       " (13, 3),\n",
       " (14, 3),\n",
       " (15, 3),\n",
       " (16, 3),\n",
       " (17, 3),\n",
       " (18, 3),\n",
       " (19, 3),\n",
       " (20, 3),\n",
       " (21, 3),\n",
       " (22, 3),\n",
       " (23, 3),\n",
       " (24, 3),\n",
       " (25, 3),\n",
       " (26, 3),\n",
       " (27, 3),\n",
       " (28, 3),\n",
       " (29, 3),\n",
       " (0, 4),\n",
       " (1, 4),\n",
       " (2, 4),\n",
       " (3, 4),\n",
       " (4, 4),\n",
       " (5, 4),\n",
       " (6, 4),\n",
       " (7, 4),\n",
       " (8, 4),\n",
       " (9, 4),\n",
       " (10, 4),\n",
       " (11, 4),\n",
       " (12, 4),\n",
       " (13, 4),\n",
       " (14, 4),\n",
       " (15, 4),\n",
       " (16, 4),\n",
       " (17, 4),\n",
       " (18, 4),\n",
       " (19, 4),\n",
       " (20, 4),\n",
       " (21, 4),\n",
       " (22, 4),\n",
       " (23, 4),\n",
       " (24, 4),\n",
       " (25, 4),\n",
       " (26, 4),\n",
       " (27, 4),\n",
       " (28, 4),\n",
       " (29, 4),\n",
       " (0, 5),\n",
       " (1, 5),\n",
       " (2, 5),\n",
       " (3, 5),\n",
       " (4, 5),\n",
       " (5, 5),\n",
       " (6, 5),\n",
       " (7, 5),\n",
       " (8, 5),\n",
       " (9, 5),\n",
       " (10, 5),\n",
       " (11, 5),\n",
       " (12, 5),\n",
       " (13, 5),\n",
       " (14, 5),\n",
       " (15, 5),\n",
       " (16, 5),\n",
       " (17, 5),\n",
       " (18, 5),\n",
       " (19, 5),\n",
       " (20, 5),\n",
       " (21, 5),\n",
       " (22, 5),\n",
       " (23, 5),\n",
       " (24, 5),\n",
       " (25, 5),\n",
       " (26, 5),\n",
       " (27, 5),\n",
       " (28, 5),\n",
       " (29, 5),\n",
       " (0, 6),\n",
       " (1, 6),\n",
       " (2, 6),\n",
       " (3, 6),\n",
       " (4, 6),\n",
       " (5, 6),\n",
       " (6, 6),\n",
       " (7, 6),\n",
       " (8, 6),\n",
       " (9, 6),\n",
       " (10, 6),\n",
       " (11, 6),\n",
       " (12, 6),\n",
       " (13, 6),\n",
       " (14, 6),\n",
       " (15, 6),\n",
       " (16, 6),\n",
       " (17, 6),\n",
       " (18, 6),\n",
       " (19, 6),\n",
       " (20, 6),\n",
       " (21, 6),\n",
       " (22, 6),\n",
       " (23, 6),\n",
       " (24, 6),\n",
       " (25, 6),\n",
       " (26, 6),\n",
       " (27, 6),\n",
       " (28, 6),\n",
       " (29, 6),\n",
       " (0, 7),\n",
       " (1, 7),\n",
       " (2, 7),\n",
       " (3, 7),\n",
       " (4, 7),\n",
       " (5, 7),\n",
       " (6, 7),\n",
       " (7, 7),\n",
       " (8, 7),\n",
       " (9, 7),\n",
       " (10, 7),\n",
       " (11, 7),\n",
       " (12, 7),\n",
       " (13, 7),\n",
       " (14, 7),\n",
       " (15, 7),\n",
       " (16, 7),\n",
       " (17, 7),\n",
       " (18, 7),\n",
       " (19, 7),\n",
       " (20, 7),\n",
       " (21, 7),\n",
       " (22, 7),\n",
       " (23, 7),\n",
       " (24, 7),\n",
       " (25, 7),\n",
       " (26, 7),\n",
       " (27, 7),\n",
       " (28, 7),\n",
       " (29, 7),\n",
       " (0, 8),\n",
       " (1, 8),\n",
       " (2, 8),\n",
       " (3, 8),\n",
       " (4, 8),\n",
       " (5, 8),\n",
       " (6, 8),\n",
       " (7, 8),\n",
       " (8, 8),\n",
       " (9, 8),\n",
       " (10, 8),\n",
       " (11, 8),\n",
       " (12, 8),\n",
       " (13, 8),\n",
       " (14, 8),\n",
       " (15, 8),\n",
       " (16, 8),\n",
       " (17, 8),\n",
       " (18, 8),\n",
       " (19, 8),\n",
       " (20, 8),\n",
       " (21, 8),\n",
       " (22, 8),\n",
       " (23, 8),\n",
       " (24, 8),\n",
       " (25, 8),\n",
       " (26, 8),\n",
       " (27, 8),\n",
       " (28, 8),\n",
       " (29, 8),\n",
       " (0, 9),\n",
       " (1, 9),\n",
       " (2, 9),\n",
       " (3, 9),\n",
       " (4, 9),\n",
       " (5, 9),\n",
       " (6, 9),\n",
       " (7, 9),\n",
       " (8, 9),\n",
       " (9, 9),\n",
       " (10, 9),\n",
       " (11, 9),\n",
       " (12, 9),\n",
       " (13, 9),\n",
       " (14, 9),\n",
       " (15, 9),\n",
       " (16, 9),\n",
       " (17, 9),\n",
       " (18, 9),\n",
       " (19, 9),\n",
       " (20, 9),\n",
       " (21, 9),\n",
       " (22, 9),\n",
       " (23, 9),\n",
       " (24, 9),\n",
       " (25, 9),\n",
       " (26, 9),\n",
       " (27, 9),\n",
       " (28, 9),\n",
       " (29, 9),\n",
       " (0, 10),\n",
       " (1, 10),\n",
       " (2, 10),\n",
       " (3, 10),\n",
       " (4, 10),\n",
       " (5, 10),\n",
       " (6, 10),\n",
       " (7, 10),\n",
       " (8, 10),\n",
       " (9, 10),\n",
       " (10, 10),\n",
       " (11, 10),\n",
       " (12, 10),\n",
       " (13, 10),\n",
       " (14, 10),\n",
       " (15, 10),\n",
       " (16, 10),\n",
       " (17, 10),\n",
       " (18, 10),\n",
       " (19, 10),\n",
       " (20, 10),\n",
       " (21, 10),\n",
       " (22, 10),\n",
       " (23, 10),\n",
       " (24, 10),\n",
       " (25, 10),\n",
       " (26, 10),\n",
       " (27, 10),\n",
       " (28, 10),\n",
       " (29, 10)]"
      ]
     },
     "execution_count": 120,
     "metadata": {},
     "output_type": "execute_result"
    }
   ],
   "source": [
    "all_ = []\n",
    "for deg in [1,2,3,4,5,6,7,8,9,10]:\n",
    "    for i in range(p):\n",
    "        all_.append((i,deg))\n",
    "all_"
   ]
  },
  {
   "cell_type": "code",
   "execution_count": 122,
   "metadata": {},
   "outputs": [
    {
     "ename": "SyntaxError",
     "evalue": "invalid syntax (<ipython-input-122-3d7ecfb50314>, line 1)",
     "output_type": "error",
     "traceback": [
      "\u001b[0;36m  File \u001b[0;32m\"<ipython-input-122-3d7ecfb50314>\"\u001b[0;36m, line \u001b[0;32m1\u001b[0m\n\u001b[0;31m    for all_ not in remove\u001b[0m\n\u001b[0m               ^\u001b[0m\n\u001b[0;31mSyntaxError\u001b[0m\u001b[0;31m:\u001b[0m invalid syntax\n"
     ]
    }
   ],
   "source": [
    "all_ not in remove"
   ]
  },
  {
   "cell_type": "code",
   "execution_count": 117,
   "metadata": {
    "scrolled": true
   },
   "outputs": [
    {
     "name": "stderr",
     "output_type": "stream",
     "text": [
      "/Users/jordanmetz/anaconda3/envs/ML_course/lib/python3.7/site-packages/ipykernel_launcher.py:2: UserWarning: Data has no positive values, and therefore cannot be log-scaled.\n",
      "  \n"
     ]
    },
    {
     "data": {
      "image/png": "[encoded data removed]",
      "text/plain": [
       "<Figure size 432x288 with 1 Axes>"
      ]
     },
     "metadata": {
      "needs_background": "light"
     },
     "output_type": "display_data"
    }
   ],
   "source": [
    "plt.plot(loss_tes)\n",
    "plt.yscale('log')"
   ]
  },
  {
   "cell_type": "code",
   "execution_count": 97,
   "metadata": {},
   "outputs": [
    {
     "data": {
      "text/plain": [
       "(array([ 1,  1,  1,  1,  1,  1,  1,  1,  1,  1,  2,  2,  2,  2,  2,  3,  3,\n",
       "         3,  3,  3,  3,  4,  4,  4,  4,  4,  4,  4,  4,  5,  5,  5,  5,  5,\n",
       "         5,  5,  5,  5,  5,  5,  5,  5,  5,  6,  6,  6,  6,  6,  6,  6,  6,\n",
       "         6,  6,  7,  7,  7,  7,  7,  7,  7,  7,  7,  7,  7,  7,  7,  8,  8,\n",
       "         8,  8,  8,  8,  8,  8,  8,  8,  8,  8,  8,  8,  8,  9,  9,  9,  9,\n",
       "         9,  9,  9,  9,  9,  9,  9,  9,  9,  9,  9,  9,  9, 10, 10, 10, 10,\n",
       "        10, 10, 10, 10, 10, 10, 10, 10, 10, 10, 10, 10]),\n",
       " array([ 2,  7,  8, 14, 15, 16, 17, 18, 19, 20,  8, 15, 18, 19, 20,  2,  8,\n",
       "        15, 18, 19, 20,  2,  3,  8, 15, 18, 19, 20, 22,  2,  3,  4,  6,  8,\n",
       "        12, 15, 18, 19, 20, 22, 25, 27, 28,  2,  3,  8, 15, 18, 19, 20, 22,\n",
       "        27, 28,  2,  3,  4,  8, 12, 15, 16, 18, 19, 20, 22, 23, 28,  0,  2,\n",
       "         3,  8, 12, 13, 15, 16, 18, 19, 20, 22, 23, 27, 28,  0,  1,  2,  3,\n",
       "         4,  6,  8, 12, 13, 15, 16, 18, 19, 20, 22, 23, 27,  0,  1,  2,  3,\n",
       "         6,  8,  9, 13, 15, 16, 18, 19, 20, 21, 22, 23]))"
      ]
     },
     "execution_count": 97,
     "metadata": {},
     "output_type": "execute_result"
    }
   ],
   "source": [
    "remove = np.where(loss_tes > 0.45)\n",
    "remove"
   ]
  },
  {
   "cell_type": "code",
   "execution_count": 99,
   "metadata": {},
   "outputs": [
    {
     "data": {
      "text/plain": [
       "array([0.00000000e+00, 0.00000000e+00, 0.00000000e+00, 0.00000000e+00,\n",
       "       4.24739939e-01, 3.94867978e-01, 4.50412434e-01, 4.33807223e-01,\n",
       "       4.41463816e-01, 4.33934819e-01, 4.41602596e-01, 4.50436375e-01,\n",
       "       4.50397368e-01, 4.39925368e-01, 4.33304245e-01, 4.17237644e-01,\n",
       "       4.41502064e-01, 4.25580206e-01, 4.50501584e-01, 4.50500336e-01,\n",
       "       4.50044899e-01, 4.50502501e-01, 4.50498667e-01, 4.50282050e-01,\n",
       "       4.50477664e-01, 4.42230805e-01, 4.42470702e-01, 4.39316338e-01,\n",
       "       4.40306289e-01, 4.40306484e-01, 4.41582311e-01, 4.41512388e-01,\n",
       "       4.41513569e-01, 4.42380428e-01, 4.23764649e-01, 3.84306492e-01,\n",
       "       4.48281230e-01, 4.35711904e-01, 4.26025412e-01, 4.29555937e-01,\n",
       "       4.29158174e-01, 4.43776288e-01, 4.60739815e-01, 4.33393365e-01,\n",
       "       4.25667802e-01, 4.14021760e-01, 4.27893134e-01, 4.16461993e-01,\n",
       "       4.44731107e-01, 4.50500620e-01, 4.49788462e-01, 4.40762955e-01,\n",
       "       4.50495705e-01, 4.80118589e-01, 4.50479072e-01, 4.37187911e-01,\n",
       "       4.36465285e-01, 4.37358949e-01, 4.40309631e-01, 4.40310068e-01,\n",
       "       4.41403771e-01, 4.41512574e-01, 4.41516017e-01, 4.36514403e-01,\n",
       "       4.18297151e-01, 3.82091020e-01, 4.63936515e-01, 4.37930684e-01,\n",
       "       4.23910227e-01, 4.26605643e-01, 4.26371118e-01, 4.43652456e-01,\n",
       "       1.23768065e+00, 4.30885234e-01, 4.19730537e-01, 4.11265236e-01,\n",
       "       4.27658916e-01, 4.14164091e-01, 4.44731730e-01, 4.50503472e-01,\n",
       "       4.49599581e-01, 4.40764159e-01, 4.50493477e-01, 2.62891502e+00,\n",
       "       4.50462983e-01, 4.35794104e-01, 4.32588389e-01, 4.35676280e-01,\n",
       "       4.31421905e-01, 4.40312346e-01, 4.41294403e-01, 4.34433221e-01,\n",
       "       4.41524147e-01, 4.34456960e-01, 3.99374335e-01, 3.82187748e-01,\n",
       "       5.17295561e-01, 4.95417120e-01, 4.24694880e-01, 4.26020722e-01,\n",
       "       4.25456127e-01, 4.43653000e-01, 1.08995585e+03, 4.29636027e-01,\n",
       "       4.15272359e-01, 4.10946616e-01, 4.30409855e-01, 4.12592385e-01,\n",
       "       4.44737484e-01, 4.50508442e-01, 4.49574639e-01, 4.40734134e-01,\n",
       "       4.50504160e-01, 2.41145798e+02, 4.50471166e-01, 4.35357412e-01,\n",
       "       3.50694674e+00, 4.36202683e-01, 4.31514553e-01, 4.40313109e-01,\n",
       "       4.41069084e-01, 4.34775149e-01, 4.41725069e-01, 4.33945283e-01,\n",
       "       3.86714000e-01, 3.84347707e-01, 7.18344334e-01, 1.81001360e+02,\n",
       "       4.52324200e-01, 4.26024214e-01, 6.66068122e+00, 4.41735702e-01,\n",
       "       7.48933289e+05, 4.29263792e-01, 4.13911635e-01, 4.10529305e-01,\n",
       "       1.35043651e+01, 4.32277767e-01, 4.44740863e-01, 4.50513329e-01,\n",
       "       4.49581253e-01, 4.40737174e-01, 4.50505643e-01, 3.00610825e+04,\n",
       "       4.50470959e-01, 4.35375121e-01, 3.05372706e+01, 4.42998709e-01,\n",
       "       4.31774667e-01, 5.71392598e-01, 4.40940485e-01, 4.60400712e-01,\n",
       "       9.32575298e-01, 4.33939471e-01, 3.80026386e-01, 3.91015869e-01,\n",
       "       6.39205072e-01, 1.44903569e+04, 4.29088458e-01, 4.26165394e-01,\n",
       "       4.27380931e-01, 4.41740946e-01, 1.46599396e+07, 4.29206493e-01,\n",
       "       4.13739295e-01, 4.10376687e-01, 4.29270940e-01, 4.27248616e-01,\n",
       "       4.44731304e-01, 4.50512519e-01, 4.49922507e-01, 4.40738819e-01,\n",
       "       4.50507509e-01, 2.36321113e+06, 4.50467446e-01, 4.35722283e-01,\n",
       "       5.74119878e+01, 4.48390290e-01, 4.31473815e-01, 4.40338840e-01,\n",
       "       4.40905778e-01, 7.77500289e-01, 4.79598617e-01, 4.33844923e-01,\n",
       "       3.87318747e-01, 3.87407914e-01, 3.87063264e+00, 9.89221204e+05,\n",
       "       5.09098753e-01, 4.26702132e-01, 4.29520680e-01, 4.40241741e-01,\n",
       "       3.89150174e+11, 4.29215693e-01, 4.13793764e-01, 4.09785370e-01,\n",
       "       5.84701705e-01, 4.12134909e-01, 4.44730613e-01, 4.50514657e-01,\n",
       "       4.57580322e-01, 4.40744780e-01, 4.50507415e-01, 1.31519616e+08,\n",
       "       4.50469666e-01, 4.35972207e-01, 2.96390133e+02, 6.44007118e-01,\n",
       "       4.31944645e-01, 4.40450635e-01, 4.40902887e-01, 4.48258387e-01,\n",
       "       5.80729712e-01, 4.33612683e-01, 1.29100816e+00, 3.78385408e-01,\n",
       "       1.61820238e+02, 1.65564363e+08, 4.38276174e-01, 4.28747305e-01,\n",
       "       4.28648553e-01, 4.40239477e-01, 2.71630418e+12, 4.29846990e-01,\n",
       "       4.13710492e-01, 4.09723546e-01, 1.07091032e+00, 1.98448976e+00,\n",
       "       4.44676289e-01, 4.50515313e-01, 4.52937821e-01, 4.40751037e-01,\n",
       "       4.50508360e-01, 7.75091762e+07, 4.50471457e-01, 4.35213668e-01,\n",
       "       5.59286760e+02, 7.20688432e-01, 4.31819396e-01, 4.41217107e-01,\n",
       "       4.40902863e-01, 9.67589215e-01, 4.78664989e-01, 4.33319452e-01,\n",
       "       7.12800311e+00, 5.74510455e-01, 2.70933357e+03, 3.99514785e+09,\n",
       "       5.08716687e-01, 4.39143209e-01, 4.91758243e-01, 4.39357798e-01,\n",
       "       4.90059815e+17, 4.31309859e-01, 4.14164662e-01, 4.09674577e-01,\n",
       "       9.33099831e-01, 5.64694368e+01, 4.44684794e-01, 4.50516415e-01,\n",
       "       6.10070699e-01, 4.40750207e-01, 4.50509834e-01, 1.36820488e+12,\n",
       "       4.50473450e-01, 4.43853782e-01, 1.31700696e+04, 1.86520285e+00,\n",
       "       4.31785082e-01, 4.40791256e-01, 4.41192948e-01, 4.63862896e-01,\n",
       "       4.49888546e-01, 4.33210898e-01, 1.67938855e+01, 6.59650926e-01,\n",
       "       2.71596606e+04, 1.16828013e+12, 4.48261460e-01, 4.45965673e-01,\n",
       "       1.27215091e+00, 4.39325610e-01, 2.24926649e+20, 4.51227110e-01,\n",
       "       4.14613547e-01, 4.09517014e-01, 4.28669348e-01, 9.63674773e+02,\n",
       "       4.44688078e-01, 4.50517777e-01, 1.90691521e+00, 4.40758409e-01,\n",
       "       4.50510759e-01, 1.46178906e+15, 4.50476341e-01, 4.74439957e-01,\n",
       "       5.32249326e+04, 6.05587926e+00, 4.45951667e-01, 4.48299354e-01,\n",
       "       4.41057211e-01, 4.44754444e-01, 4.49763087e-01, 4.33394918e-01])"
      ]
     },
     "execution_count": 99,
     "metadata": {},
     "output_type": "execute_result"
    }
   ],
   "source": []
  },
  {
   "cell_type": "code",
   "execution_count": 90,
   "metadata": {},
   "outputs": [],
   "source": [
    "n,p = np.shape(tX)\n",
    "deg = 1\n",
    "loss = []\n",
    "loss_trs = []\n",
    "loss_tes = []\n",
    "for i in [1,5,7,9,10,11,17,21,24,25,26,27,29] :\n",
    "    tX_ = build_poly(tX[:,i],deg, linear=True)\n",
    "    loss_tr,loss_te = cross_validation(y,tX_,4)\n",
    "    loss_trs.append(loss_tr)\n",
    "    loss_tes.append(loss_te)\n",
    "loss_tes = np.array(loss_tes)\n",
    "loss_trs = np.array(loss_trs)"
   ]
  },
  {
   "cell_type": "code",
   "execution_count": 101,
   "metadata": {},
   "outputs": [
    {
     "data": {
      "text/plain": [
       "[<matplotlib.lines.Line2D at 0x14519bf50>,\n",
       " <matplotlib.lines.Line2D at 0x1479054d0>,\n",
       " <matplotlib.lines.Line2D at 0x147905dd0>,\n",
       " <matplotlib.lines.Line2D at 0x147905750>,\n",
       " <matplotlib.lines.Line2D at 0x147905650>,\n",
       " <matplotlib.lines.Line2D at 0x147905250>,\n",
       " <matplotlib.lines.Line2D at 0x147905c10>,\n",
       " <matplotlib.lines.Line2D at 0x147905590>,\n",
       " <matplotlib.lines.Line2D at 0x147905490>,\n",
       " <matplotlib.lines.Line2D at 0x1479051d0>,\n",
       " <matplotlib.lines.Line2D at 0x1451acb90>,\n",
       " <matplotlib.lines.Line2D at 0x14790bb10>,\n",
       " <matplotlib.lines.Line2D at 0x14790b590>,\n",
       " <matplotlib.lines.Line2D at 0x14790b210>,\n",
       " <matplotlib.lines.Line2D at 0x14790bc50>,\n",
       " <matplotlib.lines.Line2D at 0x14790b550>,\n",
       " <matplotlib.lines.Line2D at 0x14790b690>,\n",
       " <matplotlib.lines.Line2D at 0x14790bd90>,\n",
       " <matplotlib.lines.Line2D at 0x14790ba50>,\n",
       " <matplotlib.lines.Line2D at 0x14790a150>,\n",
       " <matplotlib.lines.Line2D at 0x14790a310>,\n",
       " <matplotlib.lines.Line2D at 0x14790a4d0>,\n",
       " <matplotlib.lines.Line2D at 0x14790a690>,\n",
       " <matplotlib.lines.Line2D at 0x14790a850>,\n",
       " <matplotlib.lines.Line2D at 0x14790aa10>,\n",
       " <matplotlib.lines.Line2D at 0x14790abd0>,\n",
       " <matplotlib.lines.Line2D at 0x14790ad90>,\n",
       " <matplotlib.lines.Line2D at 0x14790af50>,\n",
       " <matplotlib.lines.Line2D at 0x1478d6150>,\n",
       " <matplotlib.lines.Line2D at 0x1478d6310>]"
      ]
     },
     "execution_count": 101,
     "metadata": {},
     "output_type": "execute_result"
    },
    {
     "data": {
      "image/png": "[encoded data removed]",
      "text/plain": [
       "<Figure size 432x288 with 1 Axes>"
      ]
     },
     "metadata": {
      "needs_background": "light"
     },
     "output_type": "display_data"
    }
   ],
   "source": [
    "plt.plot(loss_tes)\n"
   ]
  },
  {
   "cell_type": "code",
   "execution_count": 81,
   "metadata": {},
   "outputs": [
    {
     "data": {
      "text/plain": [
       "(0.4504921630862113, 0.4505011268124478)"
      ]
     },
     "execution_count": 81,
     "metadata": {},
     "output_type": "execute_result"
    }
   ],
   "source": [
    "#linear regression\n",
    "tX1 = build_poly(tX,0)\n",
    "cross_validation(y,tX1,4)"
   ]
  },
  {
   "cell_type": "code",
   "execution_count": null,
   "metadata": {},
   "outputs": [],
   "source": []
  }
 ],
 "metadata": {
  "kernelspec": {
   "display_name": "Python [conda env:ML_course] *",
   "language": "python",
   "name": "conda-env-ML_course-py"
  },
  "language_info": {
   "codemirror_mode": {
    "name": "ipython",
    "version": 3
   },
   "file_extension": ".py",
   "mimetype": "text/x-python",
   "name": "python",
   "nbconvert_exporter": "python",
   "pygments_lexer": "ipython3",
   "version": "3.7.4"
  }
 },
 "nbformat": 4,
 "nbformat_minor": 2
}

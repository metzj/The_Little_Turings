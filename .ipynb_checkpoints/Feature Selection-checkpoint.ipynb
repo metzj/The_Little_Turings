{
 "cells": [
  {
   "cell_type": "markdown",
   "metadata": {},
   "source": [
    "# Feature Selection"
   ]
  },
  {
   "cell_type": "code",
   "execution_count": null,
   "metadata": {},
   "outputs": [],
   "source": [
    "# Useful starting lines\n",
    "%matplotlib inline\n",
    "import numpy as np\n",
    "import matplotlib.pyplot as plt\n",
    "import math\n",
    "from implementations import *\n",
    "from proj1_helpers import *\n",
    "from misc_helpers import *\n",
    "from plot_functions import *\n",
    "from ml_math import *\n",
    "from function_jordan import *\n",
    "%load_ext autoreload\n",
    "%autoreload 2"
   ]
  },
  {
   "cell_type": "code",
   "execution_count": null,
   "metadata": {},
   "outputs": [],
   "source": [
    "DATA_TRAIN_PATH = '../data/train.csv' # TODO: download train data and supply path here \n",
    "y, tX, ids = load_csv_data(DATA_TRAIN_PATH)"
   ]
  },
  {
   "cell_type": "code",
   "execution_count": 3,
   "metadata": {},
   "outputs": [],
   "source": [
    "y_norm = normalize(y)\n",
    "tX_norm = normalize(tX)"
   ]
  },
  {
   "cell_type": "code",
   "execution_count": null,
   "metadata": {},
   "outputs": [],
   "source": [
    "def build_k_indices(y, k_fold, seed):\n",
    "    \"\"\"build k indices for k-fold.\"\"\"\n",
    "    num_row = y.shape[0]\n",
    "    interval = int(num_row / k_fold)\n",
    "    np.random.seed(seed)\n",
    "    indices = np.random.permutation(num_row)\n",
    "    k_indices = [indices[k * interval: (k + 1) * interval]\n",
    "                 for k in range(k_fold)]\n",
    "    return np.array(k_indices)\n",
    "def compute_loss_LR(b,A,x,lbd):\n",
    "    return 0.5*lbd*np.linalg.norm(x, 2)**2 + fsmoothedhinge(A,b,x)\n",
    "    \n",
    "def cross_validation(y, x, k_fold, solver = 'LS',stoch = True,lambda_ = 0, maxit = 1):\n",
    "    \"\"\"return the loss of ridge regression.\"\"\"\n",
    "    seed = 1\n",
    "    k_indices = build_k_indices(y, k_fold, seed)\n",
    "    \n",
    "    mse_tr = 0\n",
    "    mse_te = 0\n",
    "    #p = np.shape(x)[1]\n",
    "    #w0 = np.zeros(p)\n",
    "    \n",
    "    for k in range(k_fold):\n",
    "        # get k'th subgroup in test, others in train:\n",
    "        test_indices = k_indices[k]\n",
    "        train_indices = np.delete(k_indices,k,0).flatten()\n",
    "        x_tr = x[train_indices]\n",
    "        y_tr = y[train_indices]\n",
    "        x_te = x[test_indices]\n",
    "        y_te = y[test_indices]\n",
    "\n",
    "        # Least squares:\n",
    "        if solver == 'LS':\n",
    "            w, loss = least_squares(y_tr, x_tr)\n",
    "        elif solver == 'RR':\n",
    "            w, loss = ridge_regression(y_tr, x_tr, lambda_)\n",
    "        elif solver == 'LR':\n",
    "            fx, gradf, gradsto = Oracles(y_tr, x_tr, lambda_)\n",
    "            parameter = {}\n",
    "            parameter['x0'] = w0\n",
    "            if stoch:\n",
    "                parameter['maxit'] = len(y_tr)/2\n",
    "                parameter['no0functions'] = len(y_tr)\n",
    "                w = SGD(fx, gradsto, parameter)\n",
    "            else:\n",
    "                parameter['maxit'] = maxit\n",
    "                parameter['no0functions'] = len(y_tr)\n",
    "                w = ADAM(fx, gradf, parameter)\n",
    "            w0 = w\n",
    "        else:\n",
    "            raise('Error')\n",
    "\n",
    "        # calculate the loss for train and test data: \n",
    "        \n",
    "        loss_tr = compute_error(x_tr,y_tr, w)\n",
    "        loss_te = compute_error(x_te,y_te, w)\n",
    "    \n",
    "        mse_tr += loss_tr/k_fold\n",
    "        mse_te += loss_te/k_fold\n",
    "        \n",
    "    \n",
    "    return mse_tr, mse_te, w"
   ]
  },
  {
   "cell_type": "markdown",
   "metadata": {},
   "source": [
    "# Do some crazy feature selection here"
   ]
  },
  {
   "cell_type": "code",
   "execution_count": 5,
   "metadata": {},
   "outputs": [],
   "source": [
    "def build_poly(x, degree, linear = False):\n",
    "    \"\"\"polynomial basis functions for input data x, for j=0 up to j=degree.\"\"\"\n",
    "    if linear == False:\n",
    "        D = len(x[0,:])\n",
    "        N = len(x[:,0])\n",
    "        new_x = np.ones((N,1)) #add bias\n",
    "        if degree>=1:\n",
    "            for i in range(1,degree+1):\n",
    "                new_x = np.append(new_x,x**i,axis=1) \n",
    "        return new_x\n",
    "    else:\n",
    "        m = np.zeros((len(x),degree+1))\n",
    "        for j in range(degree+1):\n",
    "            m[:,j] = x**j\n",
    "        return m"
   ]
  },
  {
   "cell_type": "markdown",
   "metadata": {},
   "source": [
    "Here is the noise level. Everything that we add should beat this error"
   ]
  },
  {
   "cell_type": "code",
   "execution_count": 10,
   "metadata": {},
   "outputs": [
    {
     "name": "stdout",
     "output_type": "stream",
     "text": [
      "(0.34266800000000003, 0.342668, array([-0.42835219]))\n"
     ]
    }
   ],
   "source": [
    "#only constant feature\n",
    "tX0 = build_poly(tX,0)\n",
    "N = len(y)/4\n",
    "print(cross_validation(y,tX0,4, solver='LR', maxit = 5))\n",
    "#only constant feature\n",
    "#tX0 = build_poly(tX_norm,0)\n",
    "#print(cross_validation(y,tX0,4, solver='LR', maxit = 500))"
   ]
  },
  {
   "cell_type": "code",
   "execution_count": null,
   "metadata": {},
   "outputs": [],
   "source": [
    "#Test every degree for every feature\n",
    "n,p = np.shape(tX)\n",
    "loss = []\n",
    "good_feat = []\n",
    "min_loss = np.ones(p)*10000\n",
    "min_deg = np.zeros(p)\n",
    "for deg in [1,2,3,4,5,6,7]:\n",
    "    for i in range(p):\n",
    "        print(deg,i)\n",
    "        tX_ = build_poly(tX[:,i],deg, linear=True)\n",
    "        loss_tr,loss_te,w = cross_validation(y,tX_,2, solver='LR')\n",
    "        if loss_te<min_loss[i]:\n",
    "            min_loss[i] = loss_te\n",
    "            min_deg[i] = deg\n",
    "        if loss_te < 0.45:\n",
    "            good_feat.append((i,deg))\n"
   ]
  },
  {
   "cell_type": "code",
   "execution_count": null,
   "metadata": {},
   "outputs": [],
   "source": [
    "#all of these are good features\n",
    "id_min_loss = np.where(min_loss < 0.42)\n",
    "id_min_loss"
   ]
  },
  {
   "cell_type": "code",
   "execution_count": null,
   "metadata": {},
   "outputs": [],
   "source": [
    "#concatenate all good feature in tX0\n",
    "tX0 = build_poly(tX,0)\n",
    "for i in  id_min_loss[0]:\n",
    "    deg = int(min_deg[i])\n",
    "    tX0 = np.append(tX0, build_poly(tX[:,i], deg, linear=True),1)\n",
    "tX0"
   ]
  },
  {
   "cell_type": "code",
   "execution_count": null,
   "metadata": {},
   "outputs": [],
   "source": [
    "lambdas = np.logspace(-10, 0, 30)\n",
    "rmse_tr = []\n",
    "rmse_te = []\n",
    "mse_te_min = 10000\n",
    "w0 = np.ones((p))\n",
    "for lambda_ in lambdas:\n",
    "    mse_tr, mse_te, w = cross_validation(y,tX0,5,solver = 'RR',lambda_ = lambda_)\n",
    "    rmse_tr = np.append(rmse_tr,mse_tr)\n",
    "    rmse_te = np.append(rmse_te,mse_te)\n",
    "    if mse_te < mse_te_min:\n",
    "        w0 = w\n",
    "        mse_te_min = mse_te\n",
    "        "
   ]
  },
  {
   "cell_type": "markdown",
   "metadata": {},
   "source": [
    "# Test for AIcrowd"
   ]
  },
  {
   "cell_type": "code",
   "execution_count": null,
   "metadata": {},
   "outputs": [],
   "source": [
    "DATA_TEST_PATH = '../data/test.csv' # TODO: download train data and supply path here \n",
    "_, tX_test, ids_test = load_csv_data(DATA_TEST_PATH)"
   ]
  },
  {
   "cell_type": "code",
   "execution_count": null,
   "metadata": {},
   "outputs": [],
   "source": [
    "#tX_test = normalize(tX_test)\n",
    "#concatenate all good feature in tX0\n",
    "tX_test_0 = build_poly(tX_test,0)\n",
    "for i in  id_min_loss[0]:\n",
    "    deg = int(min_deg[i])\n",
    "    tX_test_0 = np.append(tX_test_0, build_poly(tX_test[:,i], deg, linear=True),1)\n",
    "np.shape(tX_test_0)"
   ]
  },
  {
   "cell_type": "code",
   "execution_count": null,
   "metadata": {},
   "outputs": [],
   "source": [
    "w0"
   ]
  },
  {
   "cell_type": "code",
   "execution_count": null,
   "metadata": {},
   "outputs": [],
   "source": [
    "OUTPUT_PATH = 'data/feature_selection_mse_poly1.csv' # TODO: fill in desired name of output file for submission\n",
    "y_pred = predict_labels(w0, tX_test_0)\n",
    "create_csv_submission(ids_test, y_pred, OUTPUT_PATH)"
   ]
  },
  {
   "cell_type": "markdown",
   "metadata": {},
   "source": [
    "# More advanced"
   ]
  },
  {
   "cell_type": "markdown",
   "metadata": {},
   "source": [
    "Let's start from Remi's conclusion. Which is to take only the feature.\\\n",
    "1, 2, 4, 5, 7, 10, 11, 13, 14, 22, 23, 29, 30 (the id in feature is one less)\\\n",
    "First, delete where there is undefined feature. We will use:\\\n",
    "2, 4, 10, 11, 14, 22, 23, 30"
   ]
  },
  {
   "cell_type": "markdown",
   "metadata": {},
   "source": [
    "Let's see for each, which of the degree is the best"
   ]
  },
  {
   "cell_type": "code",
   "execution_count": 12,
   "metadata": {},
   "outputs": [
    {
     "data": {
      "image/png": "[encoded data removed]",
      "text/plain": [
       "<Figure size 1008x432 with 1 Axes>"
      ]
     },
     "metadata": {
      "needs_background": "light"
     },
     "output_type": "display_data"
    },
    {
     "data": {
      "image/png": "[encoded data removed]",
      "text/plain": [
       "<Figure size 1008x432 with 1 Axes>"
      ]
     },
     "metadata": {
      "needs_background": "light"
     },
     "output_type": "display_data"
    },
    {
     "data": {
      "image/png": "[encoded data removed]",
      "text/plain": [
       "<Figure size 1008x432 with 1 Axes>"
      ]
     },
     "metadata": {
      "needs_background": "light"
     },
     "output_type": "display_data"
    },
    {
     "data": {
      "image/png": "[encoded data removed]",
      "text/plain": [
       "<Figure size 1008x432 with 1 Axes>"
      ]
     },
     "metadata": {
      "needs_background": "light"
     },
     "output_type": "display_data"
    },
    {
     "data": {
      "image/png": "[encoded data removed]",
      "text/plain": [
       "<Figure size 1008x432 with 1 Axes>"
      ]
     },
     "metadata": {
      "needs_background": "light"
     },
     "output_type": "display_data"
    },
    {
     "ename": "KeyboardInterrupt",
     "evalue": "",
     "output_type": "error",
     "traceback": [
      "\u001b[0;31m---------------------------------------------------------------------------\u001b[0m",
      "\u001b[0;31mKeyboardInterrupt\u001b[0m                         Traceback (most recent call last)",
      "\u001b[0;32m<ipython-input-12-b3311be8b3ce>\u001b[0m in \u001b[0;36m<module>\u001b[0;34m\u001b[0m\n\u001b[1;32m      9\u001b[0m     \u001b[0;32mfor\u001b[0m \u001b[0mdeg\u001b[0m \u001b[0;32min\u001b[0m \u001b[0mdegrees\u001b[0m\u001b[0;34m:\u001b[0m\u001b[0;34m\u001b[0m\u001b[0;34m\u001b[0m\u001b[0m\n\u001b[1;32m     10\u001b[0m         \u001b[0mtX0\u001b[0m \u001b[0;34m=\u001b[0m \u001b[0mbuild_poly\u001b[0m\u001b[0;34m(\u001b[0m\u001b[0mtX\u001b[0m\u001b[0;34m[\u001b[0m\u001b[0;34m:\u001b[0m\u001b[0;34m,\u001b[0m\u001b[0mfeat\u001b[0m\u001b[0;34m]\u001b[0m\u001b[0;34m,\u001b[0m\u001b[0mdeg\u001b[0m\u001b[0;34m,\u001b[0m\u001b[0mlinear\u001b[0m \u001b[0;34m=\u001b[0m\u001b[0;34m'True'\u001b[0m\u001b[0;34m)\u001b[0m\u001b[0;34m\u001b[0m\u001b[0;34m\u001b[0m\u001b[0m\n\u001b[0;32m---> 11\u001b[0;31m         \u001b[0mloss_tr\u001b[0m\u001b[0;34m,\u001b[0m \u001b[0mloss_te\u001b[0m\u001b[0;34m,\u001b[0m \u001b[0mw\u001b[0m \u001b[0;34m=\u001b[0m \u001b[0mcross_validation\u001b[0m\u001b[0;34m(\u001b[0m\u001b[0my\u001b[0m\u001b[0;34m,\u001b[0m \u001b[0mtX0\u001b[0m\u001b[0;34m,\u001b[0m \u001b[0;36m2\u001b[0m\u001b[0;34m,\u001b[0m \u001b[0msolver\u001b[0m \u001b[0;34m=\u001b[0m \u001b[0;34m'LS'\u001b[0m\u001b[0;34m)\u001b[0m\u001b[0;34m\u001b[0m\u001b[0;34m\u001b[0m\u001b[0m\n\u001b[0m\u001b[1;32m     12\u001b[0m         \u001b[0;32mif\u001b[0m \u001b[0mloss_te\u001b[0m \u001b[0;34m>\u001b[0m \u001b[0;36m0.45\u001b[0m\u001b[0;34m:\u001b[0m\u001b[0;34m\u001b[0m\u001b[0;34m\u001b[0m\u001b[0m\n\u001b[1;32m     13\u001b[0m             \u001b[0mloss_te\u001b[0m \u001b[0;34m=\u001b[0m \u001b[0;36m0.45\u001b[0m\u001b[0;34m\u001b[0m\u001b[0;34m\u001b[0m\u001b[0m\n",
      "\u001b[0;32m<ipython-input-9-77466b99687a>\u001b[0m in \u001b[0;36mcross_validation\u001b[0;34m(y, x, k_fold, solver, lambda_, maxit)\u001b[0m\n\u001b[1;32m     50\u001b[0m \u001b[0;34m\u001b[0m\u001b[0m\n\u001b[1;32m     51\u001b[0m         \u001b[0mloss_tr\u001b[0m \u001b[0;34m=\u001b[0m \u001b[0mcompute_error\u001b[0m\u001b[0;34m(\u001b[0m\u001b[0mx_tr\u001b[0m\u001b[0;34m,\u001b[0m\u001b[0my_tr\u001b[0m\u001b[0;34m,\u001b[0m \u001b[0mw\u001b[0m\u001b[0;34m)\u001b[0m\u001b[0;34m\u001b[0m\u001b[0;34m\u001b[0m\u001b[0m\n\u001b[0;32m---> 52\u001b[0;31m         \u001b[0mloss_te\u001b[0m \u001b[0;34m=\u001b[0m \u001b[0mcompute_error\u001b[0m\u001b[0;34m(\u001b[0m\u001b[0mx_te\u001b[0m\u001b[0;34m,\u001b[0m\u001b[0my_te\u001b[0m\u001b[0;34m,\u001b[0m \u001b[0mw\u001b[0m\u001b[0;34m)\u001b[0m\u001b[0;34m\u001b[0m\u001b[0;34m\u001b[0m\u001b[0m\n\u001b[0m\u001b[1;32m     53\u001b[0m \u001b[0;34m\u001b[0m\u001b[0m\n\u001b[1;32m     54\u001b[0m         \u001b[0mmse_tr\u001b[0m \u001b[0;34m+=\u001b[0m \u001b[0mloss_tr\u001b[0m\u001b[0;34m/\u001b[0m\u001b[0mk_fold\u001b[0m\u001b[0;34m\u001b[0m\u001b[0;34m\u001b[0m\u001b[0m\n",
      "\u001b[0;32m~/Documents/EPFL/MA3/The_Little_Turings/function_jordan.py\u001b[0m in \u001b[0;36mcompute_error\u001b[0;34m(A_test, b_test, x)\u001b[0m\n\u001b[1;32m    169\u001b[0m     \u001b[0mn\u001b[0m\u001b[0;34m,\u001b[0m \u001b[0merr\u001b[0m \u001b[0;34m=\u001b[0m \u001b[0mA_test\u001b[0m\u001b[0;34m.\u001b[0m\u001b[0mshape\u001b[0m\u001b[0;34m[\u001b[0m\u001b[0;36m0\u001b[0m\u001b[0;34m]\u001b[0m\u001b[0;34m,\u001b[0m \u001b[0;36m0\u001b[0m\u001b[0;34m\u001b[0m\u001b[0;34m\u001b[0m\u001b[0m\n\u001b[1;32m    170\u001b[0m     \u001b[0;32mfor\u001b[0m \u001b[0mi\u001b[0m \u001b[0;32min\u001b[0m \u001b[0mrange\u001b[0m\u001b[0;34m(\u001b[0m\u001b[0mn\u001b[0m\u001b[0;34m)\u001b[0m\u001b[0;34m:\u001b[0m\u001b[0;34m\u001b[0m\u001b[0;34m\u001b[0m\u001b[0m\n\u001b[0;32m--> 171\u001b[0;31m         \u001b[0;32mif\u001b[0m \u001b[0mnp\u001b[0m\u001b[0;34m.\u001b[0m\u001b[0mdot\u001b[0m\u001b[0;34m(\u001b[0m\u001b[0mb_test\u001b[0m\u001b[0;34m[\u001b[0m\u001b[0mi\u001b[0m\u001b[0;34m]\u001b[0m\u001b[0;34m,\u001b[0m\u001b[0mnp\u001b[0m\u001b[0;34m.\u001b[0m\u001b[0mdot\u001b[0m\u001b[0;34m(\u001b[0m\u001b[0mA_test\u001b[0m\u001b[0;34m[\u001b[0m\u001b[0mi\u001b[0m\u001b[0;34m]\u001b[0m\u001b[0;34m,\u001b[0m\u001b[0mx\u001b[0m\u001b[0;34m)\u001b[0m\u001b[0;34m)\u001b[0m \u001b[0;34m<=\u001b[0m \u001b[0;36m0\u001b[0m\u001b[0;34m:\u001b[0m\u001b[0;34m\u001b[0m\u001b[0;34m\u001b[0m\u001b[0m\n\u001b[0m\u001b[1;32m    172\u001b[0m            \u001b[0merr\u001b[0m \u001b[0;34m+=\u001b[0m \u001b[0;36m1\u001b[0m\u001b[0;34m\u001b[0m\u001b[0;34m\u001b[0m\u001b[0m\n\u001b[1;32m    173\u001b[0m     \u001b[0merr\u001b[0m \u001b[0;34m=\u001b[0m \u001b[0merr\u001b[0m\u001b[0;34m/\u001b[0m\u001b[0mfloat\u001b[0m\u001b[0;34m(\u001b[0m\u001b[0mn\u001b[0m\u001b[0;34m)\u001b[0m\u001b[0;34m\u001b[0m\u001b[0;34m\u001b[0m\u001b[0m\n",
      "\u001b[0;31mKeyboardInterrupt\u001b[0m: "
     ]
    }
   ],
   "source": [
    "#Alogrithm who will add the feature with the degree only if it improves the model.\n",
    "good_feat = range(30)\n",
    "degrees = [0,1,2,3,4,5,6,7,8,9,10]\n",
    "losses = np.zeros((len(degrees),len(good_feat)))\n",
    "#initialize model\n",
    "tX_model = build_poly(tX[:,1],1,linear ='True')\n",
    "for feat in good_feat:\n",
    "    loss = 10000\n",
    "    for deg in degrees:\n",
    "        tX0 = build_poly(tX[:,feat],deg,linear ='True')\n",
    "        loss_tr, loss_te, w = cross_validation(y, tX0, 2, solver = 'LS')\n",
    "        if loss_te > 0.45:\n",
    "            loss_te = 0.45\n",
    "        losses[deg,0] = deg\n",
    "        losses[deg,1] = loss_te\n",
    "    plt.figure(figsize=(14, 6))\n",
    "    plt.plot(losses[:,0],losses[:,1])\n",
    "    plt.title('Feature %i' %feat)\n",
    "    plt.xticks(losses[:,0])\n",
    "    \n",
    "    plt.show()"
   ]
  },
  {
   "cell_type": "markdown",
   "metadata": {},
   "source": [
    "The following algorithm add a feature, elevate to a power p, to the model if it improves the model"
   ]
  },
  {
   "cell_type": "code",
   "execution_count": 7,
   "metadata": {
    "scrolled": true
   },
   "outputs": [
    {
     "name": "stdout",
     "output_type": "stream",
     "text": [
      "1\n"
     ]
    },
    {
     "name": "stderr",
     "output_type": "stream",
     "text": [
      "/Users/jordanmetz/anaconda3/envs/ML_course/lib/python3.7/site-packages/ipykernel_launcher.py:15: RuntimeWarning: divide by zero encountered in reciprocal\n",
      "  from ipykernel import kernelapp as app\n",
      "/Users/jordanmetz/anaconda3/envs/ML_course/lib/python3.7/site-packages/ipykernel_launcher.py:15: RuntimeWarning: divide by zero encountered in power\n",
      "  from ipykernel import kernelapp as app\n"
     ]
    },
    {
     "name": "stdout",
     "output_type": "stream",
     "text": [
      "3\n"
     ]
    },
    {
     "ename": "KeyboardInterrupt",
     "evalue": "",
     "output_type": "error",
     "traceback": [
      "\u001b[0;31m---------------------------------------------------------------------------\u001b[0m",
      "\u001b[0;31mKeyboardInterrupt\u001b[0m                         Traceback (most recent call last)",
      "\u001b[0;32m<ipython-input-7-8e894cffad97>\u001b[0m in \u001b[0;36m<module>\u001b[0;34m\u001b[0m\n\u001b[1;32m     14\u001b[0m     \u001b[0;32mfor\u001b[0m \u001b[0mdeg\u001b[0m \u001b[0;32min\u001b[0m \u001b[0mdegrees\u001b[0m\u001b[0;34m:\u001b[0m\u001b[0;34m\u001b[0m\u001b[0;34m\u001b[0m\u001b[0m\n\u001b[1;32m     15\u001b[0m         \u001b[0mtX_try\u001b[0m \u001b[0;34m=\u001b[0m \u001b[0mnp\u001b[0m\u001b[0;34m.\u001b[0m\u001b[0mappend\u001b[0m\u001b[0;34m(\u001b[0m\u001b[0mtX_model\u001b[0m\u001b[0;34m,\u001b[0m \u001b[0mnp\u001b[0m\u001b[0;34m.\u001b[0m\u001b[0marray\u001b[0m\u001b[0;34m(\u001b[0m\u001b[0;34m[\u001b[0m\u001b[0mtX_norm\u001b[0m\u001b[0;34m[\u001b[0m\u001b[0;34m:\u001b[0m\u001b[0;34m,\u001b[0m\u001b[0mfeat\u001b[0m\u001b[0;34m]\u001b[0m\u001b[0;34m**\u001b[0m\u001b[0mdeg\u001b[0m\u001b[0;34m]\u001b[0m\u001b[0;34m)\u001b[0m\u001b[0;34m.\u001b[0m\u001b[0mT\u001b[0m\u001b[0;34m,\u001b[0m\u001b[0maxis\u001b[0m\u001b[0;34m=\u001b[0m\u001b[0;36m1\u001b[0m\u001b[0;34m)\u001b[0m\u001b[0;34m\u001b[0m\u001b[0;34m\u001b[0m\u001b[0m\n\u001b[0;32m---> 16\u001b[0;31m         \u001b[0mloss_tr\u001b[0m\u001b[0;34m,\u001b[0m \u001b[0mloss_te\u001b[0m\u001b[0;34m,\u001b[0m \u001b[0mw\u001b[0m \u001b[0;34m=\u001b[0m \u001b[0mcross_validation\u001b[0m\u001b[0;34m(\u001b[0m\u001b[0my\u001b[0m\u001b[0;34m,\u001b[0m \u001b[0mtX_try\u001b[0m\u001b[0;34m,\u001b[0m \u001b[0;36m5\u001b[0m\u001b[0;34m,\u001b[0m \u001b[0msolver\u001b[0m \u001b[0;34m=\u001b[0m \u001b[0;34m'LS'\u001b[0m\u001b[0;34m)\u001b[0m\u001b[0;34m\u001b[0m\u001b[0;34m\u001b[0m\u001b[0m\n\u001b[0m\u001b[1;32m     17\u001b[0m         \u001b[0;32mif\u001b[0m \u001b[0mloss_te\u001b[0m \u001b[0;34m<\u001b[0m \u001b[0mloss\u001b[0m\u001b[0;34m:\u001b[0m\u001b[0;34m\u001b[0m\u001b[0;34m\u001b[0m\u001b[0m\n\u001b[1;32m     18\u001b[0m             \u001b[0mloss\u001b[0m \u001b[0;34m=\u001b[0m \u001b[0mloss_te\u001b[0m\u001b[0;34m\u001b[0m\u001b[0;34m\u001b[0m\u001b[0m\n",
      "\u001b[0;32m<ipython-input-4-065c13f59cb2>\u001b[0m in \u001b[0;36mcross_validation\u001b[0;34m(y, x, k_fold, solver, lambda_, maxit)\u001b[0m\n\u001b[1;32m     49\u001b[0m         \u001b[0;31m# calculate the loss for train and test data:\u001b[0m\u001b[0;34m\u001b[0m\u001b[0;34m\u001b[0m\u001b[0;34m\u001b[0m\u001b[0m\n\u001b[1;32m     50\u001b[0m \u001b[0;34m\u001b[0m\u001b[0m\n\u001b[0;32m---> 51\u001b[0;31m         \u001b[0mloss_tr\u001b[0m \u001b[0;34m=\u001b[0m \u001b[0mcompute_loss_LR\u001b[0m\u001b[0;34m(\u001b[0m\u001b[0my_tr\u001b[0m\u001b[0;34m,\u001b[0m\u001b[0mx_tr\u001b[0m\u001b[0;34m,\u001b[0m \u001b[0mw\u001b[0m\u001b[0;34m,\u001b[0m \u001b[0mlambda_\u001b[0m\u001b[0;34m)\u001b[0m\u001b[0;34m\u001b[0m\u001b[0;34m\u001b[0m\u001b[0m\n\u001b[0m\u001b[1;32m     52\u001b[0m         \u001b[0mloss_te\u001b[0m \u001b[0;34m=\u001b[0m \u001b[0mcompute_loss_LR\u001b[0m\u001b[0;34m(\u001b[0m\u001b[0my_te\u001b[0m\u001b[0;34m,\u001b[0m\u001b[0mx_te\u001b[0m\u001b[0;34m,\u001b[0m \u001b[0mw\u001b[0m\u001b[0;34m,\u001b[0m \u001b[0mlambda_\u001b[0m\u001b[0;34m)\u001b[0m\u001b[0;34m\u001b[0m\u001b[0;34m\u001b[0m\u001b[0m\n\u001b[1;32m     53\u001b[0m \u001b[0;34m\u001b[0m\u001b[0m\n",
      "\u001b[0;32m<ipython-input-4-065c13f59cb2>\u001b[0m in \u001b[0;36mcompute_loss_LR\u001b[0;34m(b, A, x, lbd)\u001b[0m\n\u001b[1;32m      9\u001b[0m     \u001b[0;32mreturn\u001b[0m \u001b[0mnp\u001b[0m\u001b[0;34m.\u001b[0m\u001b[0marray\u001b[0m\u001b[0;34m(\u001b[0m\u001b[0mk_indices\u001b[0m\u001b[0;34m)\u001b[0m\u001b[0;34m\u001b[0m\u001b[0;34m\u001b[0m\u001b[0m\n\u001b[1;32m     10\u001b[0m \u001b[0;32mdef\u001b[0m \u001b[0mcompute_loss_LR\u001b[0m\u001b[0;34m(\u001b[0m\u001b[0mb\u001b[0m\u001b[0;34m,\u001b[0m\u001b[0mA\u001b[0m\u001b[0;34m,\u001b[0m\u001b[0mx\u001b[0m\u001b[0;34m,\u001b[0m\u001b[0mlbd\u001b[0m\u001b[0;34m)\u001b[0m\u001b[0;34m:\u001b[0m\u001b[0;34m\u001b[0m\u001b[0;34m\u001b[0m\u001b[0m\n\u001b[0;32m---> 11\u001b[0;31m     \u001b[0;32mreturn\u001b[0m \u001b[0;36m0.5\u001b[0m\u001b[0;34m*\u001b[0m\u001b[0mlbd\u001b[0m\u001b[0;34m*\u001b[0m\u001b[0mnp\u001b[0m\u001b[0;34m.\u001b[0m\u001b[0mlinalg\u001b[0m\u001b[0;34m.\u001b[0m\u001b[0mnorm\u001b[0m\u001b[0;34m(\u001b[0m\u001b[0mx\u001b[0m\u001b[0;34m,\u001b[0m \u001b[0;36m2\u001b[0m\u001b[0;34m)\u001b[0m\u001b[0;34m**\u001b[0m\u001b[0;36m2\u001b[0m \u001b[0;34m+\u001b[0m \u001b[0mfsmoothedhinge\u001b[0m\u001b[0;34m(\u001b[0m\u001b[0mA\u001b[0m\u001b[0;34m,\u001b[0m\u001b[0mb\u001b[0m\u001b[0;34m,\u001b[0m\u001b[0mx\u001b[0m\u001b[0;34m)\u001b[0m\u001b[0;34m\u001b[0m\u001b[0;34m\u001b[0m\u001b[0m\n\u001b[0m\u001b[1;32m     12\u001b[0m \u001b[0;34m\u001b[0m\u001b[0m\n\u001b[1;32m     13\u001b[0m \u001b[0;32mdef\u001b[0m \u001b[0mcross_validation\u001b[0m\u001b[0;34m(\u001b[0m\u001b[0my\u001b[0m\u001b[0;34m,\u001b[0m \u001b[0mx\u001b[0m\u001b[0;34m,\u001b[0m \u001b[0mk_fold\u001b[0m\u001b[0;34m,\u001b[0m \u001b[0msolver\u001b[0m \u001b[0;34m=\u001b[0m \u001b[0;34m'LS'\u001b[0m\u001b[0;34m,\u001b[0m\u001b[0mlambda_\u001b[0m \u001b[0;34m=\u001b[0m \u001b[0;36m0\u001b[0m\u001b[0;34m,\u001b[0m \u001b[0mmaxit\u001b[0m \u001b[0;34m=\u001b[0m \u001b[0;36m1\u001b[0m\u001b[0;34m)\u001b[0m\u001b[0;34m:\u001b[0m\u001b[0;34m\u001b[0m\u001b[0;34m\u001b[0m\u001b[0m\n",
      "\u001b[0;32m~/Documents/EPFL/MA3/The_Little_Turings/function_jordan.py\u001b[0m in \u001b[0;36mfsmoothedhinge\u001b[0;34m(A, b, x)\u001b[0m\n\u001b[1;32m      6\u001b[0m     \u001b[0mfx\u001b[0m \u001b[0;34m=\u001b[0m \u001b[0mnp\u001b[0m\u001b[0;34m.\u001b[0m\u001b[0mzeros\u001b[0m\u001b[0;34m(\u001b[0m\u001b[0mA\u001b[0m\u001b[0;34m.\u001b[0m\u001b[0mshape\u001b[0m\u001b[0;34m[\u001b[0m\u001b[0;36m0\u001b[0m\u001b[0;34m]\u001b[0m\u001b[0;34m)\u001b[0m\u001b[0;34m\u001b[0m\u001b[0;34m\u001b[0m\u001b[0m\n\u001b[1;32m      7\u001b[0m     \u001b[0;32mfor\u001b[0m \u001b[0mi\u001b[0m \u001b[0;32min\u001b[0m \u001b[0mrange\u001b[0m\u001b[0;34m(\u001b[0m\u001b[0mA\u001b[0m\u001b[0;34m.\u001b[0m\u001b[0mshape\u001b[0m\u001b[0;34m[\u001b[0m\u001b[0;36m0\u001b[0m\u001b[0;34m]\u001b[0m\u001b[0;34m)\u001b[0m\u001b[0;34m:\u001b[0m\u001b[0;34m\u001b[0m\u001b[0;34m\u001b[0m\u001b[0m\n\u001b[0;32m----> 8\u001b[0;31m         \u001b[0mci\u001b[0m \u001b[0;34m=\u001b[0m \u001b[0mb\u001b[0m\u001b[0;34m[\u001b[0m\u001b[0mi\u001b[0m\u001b[0;34m]\u001b[0m\u001b[0;34m*\u001b[0m\u001b[0mnp\u001b[0m\u001b[0;34m.\u001b[0m\u001b[0mdot\u001b[0m\u001b[0;34m(\u001b[0m\u001b[0mA\u001b[0m\u001b[0;34m[\u001b[0m\u001b[0mi\u001b[0m\u001b[0;34m]\u001b[0m\u001b[0;34m,\u001b[0m\u001b[0mx\u001b[0m\u001b[0;34m)\u001b[0m\u001b[0;34m\u001b[0m\u001b[0;34m\u001b[0m\u001b[0m\n\u001b[0m\u001b[1;32m      9\u001b[0m         \u001b[0;32mif\u001b[0m \u001b[0mci\u001b[0m \u001b[0;34m<=\u001b[0m \u001b[0;36m0\u001b[0m\u001b[0;34m:\u001b[0m\u001b[0;34m\u001b[0m\u001b[0;34m\u001b[0m\u001b[0m\n\u001b[1;32m     10\u001b[0m             \u001b[0mfx\u001b[0m\u001b[0;34m[\u001b[0m\u001b[0mi\u001b[0m\u001b[0;34m]\u001b[0m \u001b[0;34m=\u001b[0m \u001b[0;36m0.5\u001b[0m \u001b[0;34m-\u001b[0m \u001b[0mci\u001b[0m\u001b[0;34m\u001b[0m\u001b[0;34m\u001b[0m\u001b[0m\n",
      "\u001b[0;31mKeyboardInterrupt\u001b[0m: "
     ]
    }
   ],
   "source": [
    "#Alogrithm who will add the feature with the degree only if it improves the model.\n",
    "good_feat = [1,3,9,10,13,21,22,29]\n",
    "degrees = [1,2,3,4,5,6,1/2,1/3,1/4,1/5,1/6,\\\n",
    "          -1,-2,-3,-4,-5,-1/2,-1/3,-1/4,-1/5,-1/6]\n",
    "#initialize model\n",
    "tX_model = build_poly(tX[:,1],0,linear ='True')\n",
    "w_model = np.ones(1)\n",
    "model = np.zeros((1,2))\n",
    "losses = np.array([])\n",
    "losses_tr = np.array([])\n",
    "for feat in good_feat:\n",
    "    print(feat)\n",
    "    loss = 10000\n",
    "    for deg in degrees:\n",
    "        tX_try = np.append(tX_model, np.array([tX_norm[:,feat]**deg]).T,axis=1)\n",
    "        loss_tr, loss_te, w = cross_validation(y, tX_try, 5, solver = 'LS')\n",
    "        if loss_te < loss:\n",
    "            loss = loss_te\n",
    "            tX_model = tX_try.copy()\n",
    "            #save model\n",
    "            model = np.append(model,np.array([[int(feat),deg]]),axis=0)\n",
    "            losses = np.append(losses,loss)\n",
    "            losses_tr = np.append(losses_tr,loss_tr)\n",
    "            w_model = w\n",
    "plt.figure(figsize=(14, 6))\n",
    "plt.plot(losses)\n",
    "plt.plot(losses_tr)\n",
    "plt.title('losses')\n",
    "\n",
    "plt.show()\n",
    "\n",
    "#Save model\n",
    "model_1 = model\n",
    "loss_1 = losses[-1]\n",
    "w_1 = w_model\n",
    "tX_1 = tX_model"
   ]
  },
  {
   "cell_type": "markdown",
   "metadata": {},
   "source": [
    "We can see that the loss decrease well. We should use this model"
   ]
  },
  {
   "cell_type": "markdown",
   "metadata": {},
   "source": [
    "# With trigonometrie"
   ]
  },
  {
   "cell_type": "markdown",
   "metadata": {},
   "source": [
    "As we see that it's good functionning, let's take all feature where it cannot be singular"
   ]
  },
  {
   "cell_type": "code",
   "execution_count": null,
   "metadata": {
    "scrolled": true
   },
   "outputs": [],
   "source": [
    "#Alogrithm who will add the feature with the degree only if it improves the model.\n",
    "good_feat = [1,2,3,7,8,9,10,11,13,14,15,16,17,18,19,20,21,22,29]\n",
    "degrees = [1,2,3,4,5,6,1/2,1/3,1/4,1/5,1/6,\\\n",
    "          -1,-2,-3,-4,-5,-6,-1/2,-1/3,-1/4,-1/5,-1/6]\n",
    "#initialize model\n",
    "tX_model = build_poly(tX[:,1],0,linear ='True')\n",
    "w_model = np.ones(1)\n",
    "model = np.zeros((1,2))\n",
    "losses = np.array([])\n",
    "for feat in good_feat:\n",
    "    print(feat)\n",
    "    loss = 10000\n",
    "    # calucate a polynomial\n",
    "    for deg in degrees:\n",
    "        tX_try = np.append(tX_model, np.array([tX_norm[:,feat]**deg]).T,axis=1)\n",
    "        loss_tr, loss_te, w = cross_validation(y, tX_try, 5, solver = 'LS')\n",
    "        if loss_te < loss:\n",
    "            loss = loss_te\n",
    "            tX_model = tX_try.copy()\n",
    "            #save model\n",
    "            model = np.append(model,np.array([[int(feat),deg]]),axis=0)\n",
    "            losses = np.append(losses,loss)\n",
    "            w_model = w\n",
    "    #calculate arctan\n",
    "    tX_try = np.append(tX_model, np.array([np.arctan(tX_norm[:,feat])]).T,axis=1)\n",
    "    loss_tr, loss_te, w = cross_validation(y, tX_try, 5, solver = 'LS')\n",
    "    if loss_te < loss:\n",
    "        loss = loss_te\n",
    "        tX_model = tX_try.copy()\n",
    "        #save model\n",
    "        model = np.append(model,np.array([[int(feat),'arctan']]),axis=0)\n",
    "        losses = np.append(losses,loss)\n",
    "        w_model = w\n",
    "    #calculate sinus\n",
    "    tX_try = np.append(tX_model, np.array([np.sin(tX[:,feat])]).T,axis=1)\n",
    "    loss_tr, loss_te, w = cross_validation(y, tX_try, 5, solver = 'LS')\n",
    "    if loss_te < loss:\n",
    "        loss = loss_te\n",
    "        tX_model = tX_try.copy()\n",
    "        #save model\n",
    "        model = np.append(model,np.array([[int(feat),'sin']]),axis=0)\n",
    "        losses = np.append(losses,loss)\n",
    "        w_model = w\n",
    "    #calculate cosinus\n",
    "    tX_try = np.append(tX_model, np.array([np.cos(tX[:,feat])]).T,axis=1)\n",
    "    loss_tr, loss_te, w = cross_validation(y, tX_try, 5, solver = 'LS')\n",
    "    if loss_te < loss:\n",
    "        loss = loss_te\n",
    "        tX_model = tX_try.copy()\n",
    "        #save model\n",
    "        model = np.append(model,np.array([[int(feat),'cos']]),axis=0)\n",
    "        losses = np.append(losses,loss)\n",
    "        w_model = w              \n",
    "            \n",
    "plt.figure(figsize=(14, 6))\n",
    "plt.plot(losses)\n",
    "plt.title('losses')\n",
    "\n",
    "plt.show()\n",
    "\n",
    "model_2 = model\n",
    "loss_2 = losses[-1]\n",
    "w_2 = w_model\n",
    "tX_2 = tX_model"
   ]
  },
  {
   "cell_type": "markdown",
   "metadata": {},
   "source": [
    "The following takes all features advised by Rémi"
   ]
  },
  {
   "cell_type": "code",
   "execution_count": 14,
   "metadata": {
    "scrolled": false
   },
   "outputs": [
    {
     "name": "stdout",
     "output_type": "stream",
     "text": [
      "0\n"
     ]
    },
    {
     "name": "stderr",
     "output_type": "stream",
     "text": [
      "/Users/jordanmetz/anaconda3/envs/ML_course/lib/python3.7/site-packages/ipykernel_launcher.py:14: RuntimeWarning: invalid value encountered in sqrt\n",
      "  \n",
      "/Users/jordanmetz/anaconda3/envs/ML_course/lib/python3.7/site-packages/ipykernel_launcher.py:14: RuntimeWarning: invalid value encountered in power\n",
      "  \n"
     ]
    },
    {
     "name": "stdout",
     "output_type": "stream",
     "text": [
      "1\n"
     ]
    },
    {
     "name": "stderr",
     "output_type": "stream",
     "text": [
      "/Users/jordanmetz/anaconda3/envs/ML_course/lib/python3.7/site-packages/ipykernel_launcher.py:14: RuntimeWarning: divide by zero encountered in reciprocal\n",
      "  \n",
      "/Users/jordanmetz/anaconda3/envs/ML_course/lib/python3.7/site-packages/ipykernel_launcher.py:14: RuntimeWarning: divide by zero encountered in power\n",
      "  \n"
     ]
    },
    {
     "name": "stdout",
     "output_type": "stream",
     "text": [
      "3\n",
      "4\n",
      "6\n",
      "9\n",
      "10\n",
      "12\n",
      "13\n",
      "21\n",
      "22\n",
      "28\n",
      "29\n"
     ]
    },
    {
     "data": {
      "image/png": "[encoded data removed]",
      "text/plain": [
       "<Figure size 1008x432 with 1 Axes>"
      ]
     },
     "metadata": {
      "needs_background": "light"
     },
     "output_type": "display_data"
    }
   ],
   "source": [
    "#Alogrithm who will add the feature with the degree only if it improves the model.\n",
    "good_feat = [0, 1, 3, 4, 6, 9, 10, 12, 13, 21, 22, 28, 29]\n",
    "degrees = [1,2,3,4,5,6,1/2,1/3,-1,-2,-1/2,-1/3]\n",
    "#initialize model\n",
    "tX_model = build_poly(tX[:,1],0,linear ='True')\n",
    "w_model = np.ones(1)\n",
    "model = np.zeros((1,2))\n",
    "losses = np.array([])\n",
    "for feat in good_feat:\n",
    "    print(feat)\n",
    "    loss = 10000\n",
    "    # calucate a polynomial\n",
    "    for deg in degrees:\n",
    "        tX_try = np.append(tX_model, np.array([tX_norm[:,feat]**deg]).T,axis=1)\n",
    "        loss_tr, loss_te, w = cross_validation(y, tX_try, 2, solver = 'LS')\n",
    "        if loss_te < loss:\n",
    "            loss = loss_te\n",
    "            tX_model = tX_try.copy()\n",
    "            #save model\n",
    "            model = np.append(model,np.array([[int(feat),deg]]),axis=0)\n",
    "            losses = np.append(losses,loss)\n",
    "            w_model = w\n",
    "    #calculate arctan\n",
    "    tX_try = np.append(tX_model, np.array([np.arctan(tX_norm[:,feat])]).T,axis=1)\n",
    "    loss_tr, loss_te, w = cross_validation(y, tX_try, 2, solver = 'LS')\n",
    "    if loss_te < loss:\n",
    "        loss = loss_te\n",
    "        tX_model = tX_try.copy()\n",
    "        #save model\n",
    "        model = np.append(model,np.array([[int(feat),'arctan']]),axis=0)\n",
    "        losses = np.append(losses,loss)\n",
    "        w_model = w\n",
    "    #calculate sinus\n",
    "    tX_try = np.append(tX_model, np.array([np.sin(tX[:,feat])]).T,axis=1)\n",
    "    loss_tr, loss_te, w = cross_validation(y, tX_try, 2, solver = 'LS')\n",
    "    if loss_te < loss:\n",
    "        loss = loss_te\n",
    "        tX_model = tX_try.copy()\n",
    "        #save model\n",
    "        model = np.append(model,np.array([[int(feat),'sin']]),axis=0)\n",
    "        losses = np.append(losses,loss)\n",
    "        w_model = w\n",
    "    #calculate cosinus\n",
    "    tX_try = np.append(tX_model, np.array([np.cos(tX[:,feat])]).T,axis=1)\n",
    "    loss_tr, loss_te, w = cross_validation(y, tX_try, 2, solver = 'LS')\n",
    "    if loss_te < loss:\n",
    "        loss = loss_te\n",
    "        tX_model = tX_try.copy()\n",
    "        #save model\n",
    "        model = np.append(model,np.array([[int(feat),'sin']]),axis=0)\n",
    "        losses = np.append(losses,loss)\n",
    "        w_model = w              \n",
    "            \n",
    "plt.figure(figsize=(14, 6))\n",
    "plt.plot(losses)\n",
    "plt.title('losses')\n",
    "\n",
    "plt.show()\n",
    "\n",
    "model_3 = model\n",
    "loss_3 = losses[-1]\n",
    "w_3 = w_model\n",
    "tX_3 = tX_model"
   ]
  },
  {
   "cell_type": "markdown",
   "metadata": {},
   "source": [
    "Let's try all feature"
   ]
  },
  {
   "cell_type": "code",
   "execution_count": null,
   "metadata": {
    "scrolled": true
   },
   "outputs": [],
   "source": [
    "#Alogrithm who will add the feature with the degree only if it improves the model.\n",
    "good_feat = range(30)\n",
    "degrees = [1,2,3,1/2,1/3,1/4,\\\n",
    "          -1,-2,-3,,-1/2,-1/3]\n",
    "#initialize model\n",
    "tX_model = build_poly(tX_norm[:,1],0,linear ='True')\n",
    "w_model = np.ones(1)\n",
    "model = np.zeros((1,2))\n",
    "losses = np.array([])\n",
    "for feat in good_feat:\n",
    "    print(feat)\n",
    "    loss = 10000\n",
    "    # calucate a polynomial\n",
    "    for deg in degrees:\n",
    "        tX_try = np.append(tX_model, np.array([tX_norm[:,feat]**deg]).T,axis=1)\n",
    "        loss_tr, loss_te, w = cross_validation(y, tX_try, 5, solver = 'LS')\n",
    "        if loss_te < loss:\n",
    "            loss = loss_te\n",
    "            tX_model = tX_try.copy()\n",
    "            #save model\n",
    "            model = np.append(model,np.array([[int(feat),deg]]),axis=0)\n",
    "            losses = np.append(losses,loss)\n",
    "            w_model = w\n",
    "    #calculate arctan\n",
    "    tX_try = np.append(tX_model, np.array([np.arctan(tX_norm[:,feat])]).T,axis=1)\n",
    "    loss_tr, loss_te, w = cross_validation(y, tX_try, 5, solver = 'LS')\n",
    "    if loss_te < loss:\n",
    "        loss = loss_te\n",
    "        tX_model = tX_try.copy()\n",
    "        #save model\n",
    "        model = np.append(model,np.array([[int(feat),'arctan']]),axis=0)\n",
    "        losses = np.append(losses,loss)\n",
    "        w_model = w\n",
    "    #calculate sinus\n",
    "    tX_try = np.append(tX_model, np.array([np.sin(tX[:,feat])]).T,axis=1)\n",
    "    loss_tr, loss_te, w = cross_validation(y, tX_try, 5, solver = 'LS')\n",
    "    if loss_te < loss:\n",
    "        loss = loss_te\n",
    "        tX_model = tX_try.copy()\n",
    "        #save model\n",
    "        model = np.append(model,np.array([[int(feat),'sin']]),axis=0)\n",
    "        losses = np.append(losses,loss)\n",
    "        w_model = w\n",
    "    #calculate cosinus\n",
    "    tX_try = np.append(tX_model, np.array([np.cos(tX[:,feat])]).T,axis=1)\n",
    "    loss_tr, loss_te, w = cross_validation(y, tX_try, 5, solver = 'LS')\n",
    "    if loss_te < loss:\n",
    "        loss = loss_te\n",
    "        tX_model = tX_try.copy()\n",
    "        #save model\n",
    "        model = np.append(model,np.array([[int(feat),'cos']]),axis=0)\n",
    "        losses = np.append(losses,loss)\n",
    "        w_model = w              \n",
    "            \n",
    "plt.figure(figsize=(14, 6))\n",
    "plt.plot(losses)\n",
    "plt.title('losses')\n",
    "\n",
    "plt.show()\n",
    "\n",
    "model_4 = model\n",
    "loss_4 = losses[-1]\n",
    "w_4 = w_model\n",
    "tX_4 = tX_model"
   ]
  },
  {
   "cell_type": "markdown",
   "metadata": {},
   "source": [
    "# Rebuild model for another X to evaluate the model"
   ]
  },
  {
   "cell_type": "markdown",
   "metadata": {},
   "source": [
    "Choose the best model"
   ]
  },
  {
   "cell_type": "code",
   "execution_count": null,
   "metadata": {
    "scrolled": true
   },
   "outputs": [],
   "source": [
    "print('loss_1: ', loss_1, 'shape :', np.shape(model_1))\n",
    "print('loss_2: ', loss_2, 'shape :', np.shape(model_2))\n",
    "print('loss_3: ', loss_3, 'shape :', np.shape(model_3))\n",
    "print('loss_4: ', loss_4, 'shape :', np.shape(model_4))"
   ]
  },
  {
   "cell_type": "code",
   "execution_count": 22,
   "metadata": {},
   "outputs": [],
   "source": [
    "DATA_TEST_PATH = '../data/test.csv' # TODO: download train data and supply path here \n",
    "_, tX_test, ids_test = load_csv_data(DATA_TEST_PATH)"
   ]
  },
  {
   "cell_type": "code",
   "execution_count": 16,
   "metadata": {
    "scrolled": true
   },
   "outputs": [
    {
     "name": "stdout",
     "output_type": "stream",
     "text": [
      "0 0.0\n",
      "0 1.0\n",
      "0 2.0\n",
      "0 0.5\n",
      "1 1.0\n",
      "3 1.0\n",
      "4 1.0\n",
      "6 1.0\n",
      "9 1.0\n",
      "10 1.0\n",
      "12 1.0\n",
      "13 1.0\n",
      "21 1.0\n",
      "22 1.0\n"
     ]
    },
    {
     "name": "stderr",
     "output_type": "stream",
     "text": [
      "/Users/jordanmetz/anaconda3/envs/ML_course/lib/python3.7/site-packages/ipykernel_launcher.py:20: RuntimeWarning: invalid value encountered in sqrt\n"
     ]
    },
    {
     "name": "stdout",
     "output_type": "stream",
     "text": [
      "28 1.0\n",
      "29 1.0\n"
     ]
    }
   ],
   "source": [
    "#choose the best model\n",
    "model = model_3\n",
    "\n",
    "#start with bias\n",
    "tX_model = build_poly(tX[:,1],0,linear ='True')\n",
    "tX_norm = normalize(tX)\n",
    "#create model\n",
    "for feat, deg in model:\n",
    "    feat = int(float(feat.item()))\n",
    "    print(feat,deg)\n",
    "    if deg == 'arctan':\n",
    "        tX_model = np.append(tX_model, np.array([np.arctan(tX_norm[:,feat])]).T,axis=1)\n",
    "    elif deg == 'cos':\n",
    "        tX_model = np.append(tX_model, np.array([np.cos(tX[:,feat])]).T,axis=1)\n",
    "    elif deg =='sin':\n",
    "        tX_model = np.append(tX_model, np.array([np.sin(tX[:,feat])]).T,axis=1)\n",
    "    else :\n",
    "        deg = float(deg)\n",
    "        if deg != 0:\n",
    "            tX_model = np.append(tX_model, np.array([tX_norm[:,feat]**deg]).T,axis=1)\n",
    "\n"
   ]
  },
  {
   "cell_type": "code",
   "execution_count": 20,
   "metadata": {},
   "outputs": [
    {
     "name": "stdout",
     "output_type": "stream",
     "text": [
      "1\n",
      "0.331328\n",
      "2\n",
      "0.331328\n",
      "3\n",
      "0.331328\n",
      "4\n",
      "0.331328\n",
      "5\n",
      "0.331328\n",
      "6\n",
      "0.331328\n",
      "7\n",
      "0.331328\n",
      "8\n",
      "0.331328\n",
      "9\n",
      "0.331328\n",
      "10\n",
      "0.331328\n",
      "11\n",
      "0.331328\n",
      "12\n",
      "0.331328\n",
      "13\n",
      "0.331328\n",
      "14\n",
      "0.331328\n",
      "15\n",
      "0.331328\n",
      "16\n",
      "0.331328\n",
      "17\n",
      "0.331328\n",
      "18\n",
      "0.331328\n",
      "19\n",
      "0.331328\n",
      "20\n",
      "0.331328\n",
      "21\n",
      "0.331328\n",
      "22\n",
      "0.331328\n",
      "23\n",
      "0.331328\n",
      "24\n",
      "0.331328\n",
      "25\n",
      "0.331328\n",
      "26\n",
      "0.331328\n",
      "27\n",
      "0.331328\n",
      "28\n",
      "0.331328\n",
      "29\n",
      "0.331328\n",
      "30\n",
      "0.331328\n"
     ]
    }
   ],
   "source": [
    "#train weights\n",
    "k = 0\n",
    "p = np.shape(tX_model)[1]\n",
    "w0 = np.zeros(p)\n",
    "min_loss = 10000\n",
    "for lbd in np.logspace(-8,0,30):\n",
    "    k = k+1\n",
    "    print(k)\n",
    "    fx , gradf,stograd = Oracles(y,tX_model,lbd)\n",
    "    parameter = {}\n",
    "    parameter['x0'] = w0\n",
    "    parameter['maxit'] = int(len(y)/2)\n",
    "    parameter['no0functions'] = len(y)\n",
    "    w = SGD(fx, stograd, parameter)\n",
    "    w0 = w\n",
    "    loss = compute_error(y, tX_model, w)\n",
    "    print(loss)\n",
    "    if min_loss>loss:\n",
    "        min_loss = loss\n",
    "        weights = w\n",
    "    "
   ]
  },
  {
   "cell_type": "code",
   "execution_count": 37,
   "metadata": {},
   "outputs": [
    {
     "name": "stdout",
     "output_type": "stream",
     "text": [
      "0 0.0\n",
      "0 1.0\n",
      "0 2.0\n",
      "0 0.5\n",
      "1 1.0\n",
      "3 1.0\n",
      "4 1.0\n",
      "6 1.0\n",
      "9 1.0\n",
      "10 1.0\n",
      "12 1.0\n",
      "13 1.0\n",
      "21 1.0\n",
      "22 1.0\n",
      "28 1.0\n",
      "29 1.0\n"
     ]
    }
   ],
   "source": [
    "#Now Build the tX train data set\n",
    "\n",
    "#start with bias\n",
    "tX_model_test = build_poly(tX_test[:,1],0,linear ='True')\n",
    "tX_test_norm = normalize(tX_test)\n",
    "#create model\n",
    "for feat, deg in model:\n",
    "    feat = int(float(feat.item()))\n",
    "    print(feat,deg)\n",
    "    if deg == 'arctan':\n",
    "        tX_model_test = np.append(tX_model_test, np.array([np.arctan(tX_test_norm[:,feat])]).T,axis=1)\n",
    "    elif deg == 'cos':\n",
    "        tX_model_test = np.append(tX_model_test, np.array([np.cos(tX_test[:,feat])]).T,axis=1)\n",
    "    elif deg =='sin':\n",
    "        tX_model_test = np.append(tX_model_test, np.array([np.sin(tX_test[:,feat])]).T,axis=1)\n",
    "    else :\n",
    "        deg = float(deg)\n",
    "        if deg == 0.5:\n",
    "            tX_model_test = np.append(tX_model_test, np.array([np.abs(tX_test_norm[:,feat])**deg]).T,axis=1)\n",
    "        elif deg != 0:\n",
    "            tX_model_test = np.append(tX_model_test, np.array([tX_test_norm[:,feat]**deg]).T,axis=1)"
   ]
  },
  {
   "cell_type": "code",
   "execution_count": 38,
   "metadata": {},
   "outputs": [],
   "source": [
    "OUTPUT_PATH = 'data/feature_selection_LR_small.csv' # TODO: fill in desired name of output file for submission\n",
    "y_pred = predict_labels(weights, tX_model_test)\n",
    "create_csv_submission(ids_test, y_pred, OUTPUT_PATH)"
   ]
  },
  {
   "cell_type": "code",
   "execution_count": null,
   "metadata": {},
   "outputs": [],
   "source": []
  }
 ],
 "metadata": {
  "kernelspec": {
   "display_name": "Python 3",
   "language": "python",
   "name": "python3"
  },
  "language_info": {
   "codemirror_mode": {
    "name": "ipython",
    "version": 3
   },
   "file_extension": ".py",
   "mimetype": "text/x-python",
   "name": "python",
   "nbconvert_exporter": "python",
   "pygments_lexer": "ipython3",
   "version": "3.7.4"
  }
 },
 "nbformat": 4,
 "nbformat_minor": 2
}

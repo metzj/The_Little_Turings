{
 "cells": [
  {
   "cell_type": "markdown",
   "metadata": {},
   "source": [
    "# Feature Selection"
   ]
  },
  {
   "cell_type": "code",
   "execution_count": 1,
   "metadata": {},
   "outputs": [],
   "source": [
    "# Useful starting lines\n",
    "%matplotlib inline\n",
    "import numpy as np\n",
    "import matplotlib.pyplot as plt\n",
    "import math\n",
    "from implementations import *\n",
    "from proj1_helpers import *\n",
    "from misc_helpers import *\n",
    "from plot_functions import *\n",
    "from ml_math import *\n",
    "%load_ext autoreload\n",
    "%autoreload 2"
   ]
  },
  {
   "cell_type": "code",
   "execution_count": 2,
   "metadata": {},
   "outputs": [],
   "source": [
    "DATA_TRAIN_PATH = 'data/train.csv' # TODO: download train data and supply path here \n",
    "y, tX, ids = load_csv_data(DATA_TRAIN_PATH)"
   ]
  },
  {
   "cell_type": "code",
   "execution_count": 3,
   "metadata": {},
   "outputs": [],
   "source": [
    "y_norm = normalize(y)\n",
    "tX_norm = normalize(tX)"
   ]
  },
  {
   "cell_type": "code",
   "execution_count": 4,
   "metadata": {},
   "outputs": [],
   "source": [
    "def build_k_indices(y, k_fold, seed):\n",
    "    \"\"\"build k indices for k-fold.\"\"\"\n",
    "    num_row = y.shape[0]\n",
    "    interval = int(num_row / k_fold)\n",
    "    np.random.seed(seed)\n",
    "    indices = np.random.permutation(num_row)\n",
    "    k_indices = [indices[k * interval: (k + 1) * interval]\n",
    "                 for k in range(k_fold)]\n",
    "    return np.array(k_indices)\n",
    "\n",
    "def cross_validation(y, x, k_fold, solver = 'LS',lambda_ = 0):\n",
    "    \"\"\"return the loss of ridge regression.\"\"\"\n",
    "    seed = 1\n",
    "    k_indices = build_k_indices(y, k_fold, seed)\n",
    "    \n",
    "    mse_tr = 0\n",
    "    mse_te = 0\n",
    "    for k in range(k_fold):\n",
    "        # get k'th subgroup in test, others in train:\n",
    "        test_indices = k_indices[k]\n",
    "        train_indices = np.delete(k_indices,k,0).flatten()\n",
    "        x_tr = x[train_indices]\n",
    "        y_tr = y[train_indices]\n",
    "        x_te = x[test_indices]\n",
    "        y_te = y[test_indices]\n",
    "\n",
    "        # Least squares:\n",
    "        if solver == 'LS':\n",
    "            w, loss = least_squares(y_tr, x_tr)\n",
    "        elif solver == 'RR':\n",
    "            w, loss = ridge_regression(y_tr, x_tr, lambda_)\n",
    "        else:\n",
    "            raise('Error')\n",
    "\n",
    "        # calculate the loss for train and test data: \n",
    "        loss_tr = compute_MSE(y_tr, x_tr, w)\n",
    "        loss_te = compute_MSE(y_te, x_te, w)\n",
    "    \n",
    "        mse_tr += loss_tr/k_fold\n",
    "        mse_te += loss_te/k_fold\n",
    "        \n",
    "    \n",
    "    return mse_tr, mse_te, w"
   ]
  },
  {
   "cell_type": "markdown",
   "metadata": {},
   "source": [
    "# Do some crazy feature selection here"
   ]
  },
  {
   "cell_type": "code",
   "execution_count": 5,
   "metadata": {},
   "outputs": [
    {
     "data": {
      "text/plain": [
       "(0.33966946818855126,\n",
       " 0.3398094202725914,\n",
       " array([ 8.23020825e-05, -7.10601999e-03, -6.03113553e-03, -5.23814491e-04,\n",
       "        -1.89329370e-02,  4.90667151e-04, -2.42568029e-02,  3.24926619e-01,\n",
       "        -6.50337498e-05, -5.65269769e+00, -2.17975729e-01,  9.73370481e-02,\n",
       "         6.33008928e-02,  5.66097296e+00, -1.34121265e-04, -9.67580117e-04,\n",
       "         5.66548197e+00, -1.10114632e-04,  6.09798768e-04,  3.61112788e-03,\n",
       "         5.35018042e-05, -5.46204573e-04, -3.31490590e-01, -1.38816604e-03,\n",
       "         7.16430025e-04,  1.11537421e-03, -1.67433521e-03, -6.14784840e-03,\n",
       "        -1.23238750e-02,  5.65314891e+00]))"
      ]
     },
     "execution_count": 5,
     "metadata": {},
     "output_type": "execute_result"
    }
   ],
   "source": [
    "#normal\n",
    "cross_validation(y,tX,4)"
   ]
  },
  {
   "cell_type": "code",
   "execution_count": 6,
   "metadata": {},
   "outputs": [
    {
     "data": {
      "text/plain": [
       "(1.3586778724226265e-06,\n",
       " 1.3592376993433102e-06,\n",
       " array([ 3.36822736e-02, -4.30716727e-01, -5.48054861e-01, -4.50661841e-02,\n",
       "        -1.59329985e+01,  4.37328869e-01, -2.04149686e+01,  8.11969381e-01,\n",
       "        -1.90101395e-03, -1.10906492e+03, -3.63461181e-01,  1.16850472e-01,\n",
       "         5.32748501e+01,  2.53222478e+02, -1.62837405e-04, -1.75787418e-03,\n",
       "         2.92443312e+02, -1.39310090e-04,  1.10808314e-03,  1.91845197e-01,\n",
       "         9.69583926e-05, -1.33811113e-01, -4.58625824e-01, -8.83839645e-01,\n",
       "         4.52461155e-01,  7.04414291e-01, -1.41049338e+00, -5.17446610e+00,\n",
       "        -1.03726483e+01,  6.91162549e+02]))"
      ]
     },
     "execution_count": 6,
     "metadata": {},
     "output_type": "execute_result"
    }
   ],
   "source": [
    "#normal normalized\n",
    "cross_validation(y_norm,tX_norm,4)"
   ]
  },
  {
   "cell_type": "code",
   "execution_count": 7,
   "metadata": {},
   "outputs": [],
   "source": [
    "def build_poly(x, degree, linear = False):\n",
    "    \"\"\"polynomial basis functions for input data x, for j=0 up to j=degree.\"\"\"\n",
    "    if linear == False:\n",
    "        D = len(x[0,:])\n",
    "        N = len(x[:,0])\n",
    "        new_x = np.ones((N,1)) #add bias\n",
    "        if degree>=1:\n",
    "            for i in range(1,degree+1):\n",
    "                new_x = np.append(new_x,x**i,axis=1) \n",
    "        return new_x\n",
    "    else:\n",
    "        m = np.zeros((len(x),degree+1))\n",
    "        for j in range(degree+1):\n",
    "            m[:,j] = x**j\n",
    "        return m"
   ]
  },
  {
   "cell_type": "markdown",
   "metadata": {},
   "source": [
    "Here is the noise level. Everything that we add should beat this error"
   ]
  },
  {
   "cell_type": "code",
   "execution_count": 8,
   "metadata": {},
   "outputs": [
    {
     "name": "stdout",
     "output_type": "stream",
     "text": [
      "(0.4504921630862113, 0.4505011268124478, array([-0.31568]))\n",
      "(0.4504921630862113, 0.4505011268124478, array([-0.31568]))\n"
     ]
    }
   ],
   "source": [
    "#only constant feature\n",
    "tX0 = build_poly(tX,0)\n",
    "print(cross_validation(y,tX0,4))\n",
    "#only constant feature\n",
    "tX0 = build_poly(tX_norm,0)\n",
    "print(cross_validation(y,tX0,4))"
   ]
  },
  {
   "cell_type": "code",
   "execution_count": 11,
   "metadata": {},
   "outputs": [],
   "source": [
    "#Test every degree for every feature\n",
    "n,p = np.shape(tX)\n",
    "loss = []\n",
    "good_feat = []\n",
    "min_loss = np.ones(p)*10000\n",
    "min_deg = np.zeros(p)\n",
    "for deg in [0,1,2,3,4,5,6,7,8,9,10]:\n",
    "    for i in range(p):\n",
    "        tX_ = build_poly(tX[:,i],deg, linear=True)\n",
    "        loss_tr,loss_te,w = cross_validation(y,tX_,5)\n",
    "        if loss_te<min_loss[i]:\n",
    "            min_loss[i] = loss_te\n",
    "            min_deg[i] = deg\n",
    "        if loss_te < 0.45:\n",
    "            good_feat.append((i,deg))\n"
   ]
  },
  {
   "cell_type": "code",
   "execution_count": 13,
   "metadata": {},
   "outputs": [
    {
     "data": {
      "text/plain": [
       "(array([ 0,  1,  4,  5,  6,  9, 10, 11, 12, 13]),)"
      ]
     },
     "execution_count": 13,
     "metadata": {},
     "output_type": "execute_result"
    }
   ],
   "source": [
    "#all of these are good features\n",
    "id_min_loss = np.where(min_loss < 0.43)\n",
    "id_min_loss"
   ]
  },
  {
   "cell_type": "code",
   "execution_count": 14,
   "metadata": {},
   "outputs": [
    {
     "data": {
      "text/plain": [
       "array([[ 1.00000000e+00,  1.00000000e+00,  6.76632963e-04, ...,\n",
       "         2.12987784e-06,  3.10836523e-09,  4.53637961e-12],\n",
       "       [ 1.00000000e+00,  1.00000000e+00,  7.86417846e-04, ...,\n",
       "         3.52935774e-06,  6.63045789e-09,  1.24563660e-11],\n",
       "       [ 1.00000000e+00,  1.00000000e+00, -4.88160851e-03, ...,\n",
       "         2.06717685e-06,  2.97212075e-09,  4.27322015e-12],\n",
       "       ...,\n",
       "       [ 1.00000000e+00,  1.00000000e+00,  5.15315103e-04, ...,\n",
       "         2.53913341e-06,  4.04602236e-09,  6.44719845e-12],\n",
       "       [ 1.00000000e+00,  1.00000000e+00,  4.63977587e-04, ...,\n",
       "         1.56129426e-06,  1.95086468e-09,  2.43763978e-12],\n",
       "       [ 1.00000000e+00,  1.00000000e+00, -4.88160851e-03, ...,\n",
       "         3.69747398e-06,  7.10980502e-09,  1.36713139e-11]])"
      ]
     },
     "execution_count": 14,
     "metadata": {},
     "output_type": "execute_result"
    }
   ],
   "source": [
    "#concatenate all good feature in tX0\n",
    "tX0 = build_poly(tX,0)\n",
    "for i in  id_min_loss[0]:\n",
    "    deg = int(min_deg[i])\n",
    "    tX0 = np.append(tX0, build_poly(tX[:,i], deg, linear=True),1)\n",
    "tX0"
   ]
  },
  {
   "cell_type": "code",
   "execution_count": 15,
   "metadata": {
    "scrolled": true
   },
   "outputs": [],
   "source": [
    "def ridge_regression(y, tx, lambda_):\n",
    "    \"\"\"implement ridge regression.\"\"\"\n",
    "    # ridge regression:\n",
    "    D = np.shape(tx)[1]\n",
    "    N = np.shape(tx)[0]\n",
    "    w = np.linalg.solve(tx.transpose()@tx+2*N*lambda_*np.identity(D), tx.transpose()@y)\n",
    "    #Compute loss\n",
    "    e = y - tx @ w\n",
    "    N = len(y)\n",
    "    loss = 1/(2*N)*e@e\n",
    "    return w,loss"
   ]
  },
  {
   "cell_type": "code",
   "execution_count": 20,
   "metadata": {},
   "outputs": [],
   "source": [
    "lambdas = np.logspace(-10, 0, 30)\n",
    "rmse_tr = []\n",
    "rmse_te = []\n",
    "mse_te_min = 10000\n",
    "w0 = np.ones((p))\n",
    "for lambda_ in lambdas:\n",
    "    mse_tr, mse_te, w = cross_validation(y,tX0,5,solver = 'RR',lambda_ = lambda_)\n",
    "    rmse_tr = np.append(rmse_tr,mse_tr)\n",
    "    rmse_te = np.append(rmse_te,mse_te)\n",
    "    if mse_te < mse_te_min:\n",
    "        w0 = w\n",
    "        mse_te_min = mse_te\n",
    "        "
   ]
  },
  {
   "cell_type": "code",
   "execution_count": 21,
   "metadata": {},
   "outputs": [
    {
     "data": {
      "image/png": "[encoded data removed]",
      "text/plain": [
       "<Figure size 432x288 with 1 Axes>"
      ]
     },
     "metadata": {
      "needs_background": "light"
     },
     "output_type": "display_data"
    }
   ],
   "source": [
    "cross_validation_visualization(lambdas, rmse_tr, rmse_te)"
   ]
  },
  {
   "cell_type": "markdown",
   "metadata": {},
   "source": [
    "# Test for AIcrowd"
   ]
  },
  {
   "cell_type": "code",
   "execution_count": 22,
   "metadata": {},
   "outputs": [],
   "source": [
    "DATA_TEST_PATH = 'data/test.csv' # TODO: download train data and supply path here \n",
    "_, tX_test, ids_test = load_csv_data(DATA_TEST_PATH)"
   ]
  },
  {
   "cell_type": "code",
   "execution_count": 23,
   "metadata": {},
   "outputs": [
    {
     "data": {
      "text/plain": [
       "(568238, 63)"
      ]
     },
     "execution_count": 23,
     "metadata": {},
     "output_type": "execute_result"
    }
   ],
   "source": [
    "#tX_test = normalize(tX_test)\n",
    "#concatenate all good feature in tX0\n",
    "tX_test_0 = build_poly(tX_test,0)\n",
    "for i in  id_min_loss[0]:\n",
    "    deg = int(min_deg[i])\n",
    "    tX_test_0 = np.append(tX_test_0, build_poly(tX_test[:,i], deg, linear=True),1)\n",
    "np.shape(tX_test_0)"
   ]
  },
  {
   "cell_type": "code",
   "execution_count": 24,
   "metadata": {},
   "outputs": [
    {
     "data": {
      "text/plain": [
       "array([-2.83875961e-02, -2.83874594e-02,  3.15823671e+01, -1.62713822e+02,\n",
       "       -6.26142354e-01, -1.30572214e-03, -6.31264535e-06, -1.01843443e-08,\n",
       "       -2.83879540e-02, -1.93994368e+02,  1.75805451e+03,  2.25653009e+01,\n",
       "       -2.83870170e-02,  1.21889025e+02,  3.31316105e-01, -7.76561329e-04,\n",
       "        1.84355326e-06, -2.83871506e-02,  3.04752177e+02, -1.42331820e+02,\n",
       "       -1.29333798e+00, -9.44410694e-03, -2.83875970e-02, -4.63462340e+02,\n",
       "        3.33701354e-01, -7.76552858e-04,  1.84354536e-06, -2.83875867e-02,\n",
       "       -1.14077992e+02, -7.00002649e+02, -6.62430235e+00, -5.27437694e-02,\n",
       "       -4.29776759e-04, -3.75228497e-06, -2.83875867e-02,  9.34184432e+00,\n",
       "        6.93144850e+02,  8.40130317e+00,  1.00398412e-01,  1.42293926e-03,\n",
       "        2.31833445e-05,  4.11207863e-07,  7.68523640e-09, -2.83875867e-02,\n",
       "        6.51938080e+01,  5.95217798e+02, -1.35881604e-01,  3.40236942e-03,\n",
       "       -1.24533484e-06,  1.82291057e-08, -8.95208115e-12,  9.69743584e-14,\n",
       "       -5.83819402e-17,  5.17232433e-19, -2.83875867e-02,  2.91446016e+01,\n",
       "        3.27573849e-01, -7.76612949e-04, -2.83875867e-02,  2.22939695e+02,\n",
       "       -2.04911569e+03, -3.08470274e+01, -4.79301723e-01])"
      ]
     },
     "execution_count": 24,
     "metadata": {},
     "output_type": "execute_result"
    }
   ],
   "source": [
    "w0"
   ]
  },
  {
   "cell_type": "code",
   "execution_count": 25,
   "metadata": {},
   "outputs": [],
   "source": [
    "OUTPUT_PATH = 'result/feature_selection_norm.csv' # TODO: fill in desired name of output file for submission\n",
    "y_pred = predict_labels(w0, tX_test_0)\n",
    "create_csv_submission(ids_test, y_pred, OUTPUT_PATH)"
   ]
  },
  {
   "cell_type": "markdown",
   "metadata": {},
   "source": [
    "# More advanced"
   ]
  },
  {
   "cell_type": "markdown",
   "metadata": {},
   "source": [
    "Let's start from Remi's conclusion. Which is to take only the feature.\\\n",
    "\n",
    "First, delete where there is undefined feature"
   ]
  },
  {
   "cell_type": "code",
   "execution_count": null,
   "metadata": {},
   "outputs": [],
   "source": []
  }
 ],
 "metadata": {
  "kernelspec": {
   "display_name": "Python [conda env:ML_course] *",
   "language": "python",
   "name": "conda-env-ML_course-py"
  },
  "language_info": {
   "codemirror_mode": {
    "name": "ipython",
    "version": 3
   },
   "file_extension": ".py",
   "mimetype": "text/x-python",
   "name": "python",
   "nbconvert_exporter": "python",
   "pygments_lexer": "ipython3",
   "version": "3.7.4"
  }
 },
 "nbformat": 4,
 "nbformat_minor": 2
}

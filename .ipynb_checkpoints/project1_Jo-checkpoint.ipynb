{
 "cells": [
  {
   "cell_type": "code",
   "execution_count": 46,
   "metadata": {
    "scrolled": true
   },
   "outputs": [
    {
     "name": "stdout",
     "output_type": "stream",
     "text": [
      "The autoreload extension is already loaded. To reload it, use:\n",
      "  %reload_ext autoreload\n"
     ]
    }
   ],
   "source": [
    "# Useful starting lines\n",
    "%matplotlib inline\n",
    "import numpy as np\n",
    "import matplotlib.pyplot as plt\n",
    "import math\n",
    "from implementations import *\n",
    "from proj1_helpers import *\n",
    "from misc_helpers import *\n",
    "from plot_functions import *\n",
    "from ml_math import *\n",
    "%load_ext autoreload\n",
    "%autoreload 2"
   ]
  },
  {
   "cell_type": "markdown",
   "metadata": {},
   "source": [
    "## Load the training data into feature matrix, class labels, and event ids:"
   ]
  },
  {
   "cell_type": "code",
   "execution_count": 54,
   "metadata": {},
   "outputs": [],
   "source": [
    "DATA_TRAIN_PATH = '../data/train.csv' # TODO: download train data and supply path here \n",
    "y, tX, ids = load_csv_data(DATA_TRAIN_PATH)\n"
   ]
  },
  {
   "cell_type": "code",
   "execution_count": 55,
   "metadata": {},
   "outputs": [
    {
     "name": "stdout",
     "output_type": "stream",
     "text": [
      "(250000, 30)\n",
      "85667\n",
      "164333\n"
     ]
    }
   ],
   "source": [
    "#check datas and balance of the class\n",
    "N, p = np.shape(tX)\n",
    "print(np.shape(tX))\n",
    "print(len(y[y==1.]))\n",
    "print(len(y[y==-1.]))"
   ]
  },
  {
   "cell_type": "code",
   "execution_count": 57,
   "metadata": {},
   "outputs": [
    {
     "data": {
      "text/plain": [
       "array([[ 1.38470e+02,  5.16550e+01,  9.78270e+01, ...,  1.24000e+00,\n",
       "        -2.47500e+00,  1.13497e+02],\n",
       "       [ 1.48754e+02,  2.88620e+01,  1.07782e+02, ...,  1.31000e-01,\n",
       "        -2.76700e+00,  1.79877e+02],\n",
       "       [ 1.54916e+02,  1.04180e+01,  9.47140e+01, ..., -9.99000e+02,\n",
       "        -9.99000e+02,  3.06380e+01],\n",
       "       ...,\n",
       "       [ 1.33457e+02,  7.75400e+01,  8.89890e+01, ..., -9.99000e+02,\n",
       "        -9.99000e+02,  7.09690e+01],\n",
       "       [ 1.30075e+02,  3.91800e+00,  6.67810e+01, ...,  5.78000e-01,\n",
       "        -2.21500e+00,  5.46066e+02],\n",
       "       [ 1.05457e+02,  6.05260e+01,  7.58390e+01, ..., -9.99000e+02,\n",
       "        -9.99000e+02,  4.19920e+01]])"
      ]
     },
     "execution_count": 57,
     "metadata": {},
     "output_type": "execute_result"
    }
   ],
   "source": [
    "tX[y==1.,:]"
   ]
  },
  {
   "cell_type": "code",
   "execution_count": 58,
   "metadata": {},
   "outputs": [
    {
     "name": "stdout",
     "output_type": "stream",
     "text": [
      "(335667, 30)\n",
      "171334\n",
      "164333\n"
     ]
    }
   ],
   "source": [
    "#Over sample\n",
    "y1 = y[y==1.]\n",
    "X1 = tX[y==1.,:]\n",
    "y = np.append(y,y1)\n",
    "tX = np.append(tX,X1,axis=0)\n",
    "print(np.shape(tX))\n",
    "print(len(y[y==1.]))\n",
    "print(len(y[y==-1.]))"
   ]
  },
  {
   "cell_type": "code",
   "execution_count": 59,
   "metadata": {},
   "outputs": [],
   "source": [
    "#change y\n",
    "y = (y+1)/2\n",
    "# normalize X\n",
    "tX = normalize(tX)"
   ]
  },
  {
   "cell_type": "markdown",
   "metadata": {},
   "source": [
    "## Do your crazy machine learning thing here :) ..."
   ]
  },
  {
   "cell_type": "code",
   "execution_count": 60,
   "metadata": {},
   "outputs": [],
   "source": [
    "def split_data(y, x, ratio, myseed=1):\n",
    "    \"\"\"split the dataset based on the split ratio.\"\"\"\n",
    "    # set seed\n",
    "    np.random.seed(myseed)\n",
    "    # generate random indices\n",
    "    num_row = len(y)\n",
    "    indices = np.random.permutation(num_row)\n",
    "    index_split = int(np.floor(ratio * num_row))\n",
    "    index_tr = indices[: index_split]\n",
    "    index_te = indices[index_split:]\n",
    "    # create split\n",
    "    x_tr = x[index_tr]\n",
    "    x_te = x[index_te]\n",
    "    y_tr = y[index_tr]\n",
    "    y_te = y[index_te]\n",
    "    return x_tr, x_te, y_tr, y_te"
   ]
  },
  {
   "cell_type": "code",
   "execution_count": 61,
   "metadata": {},
   "outputs": [],
   "source": [
    "ratio = 0.8\n",
    "x_train, x_test, y_train, y_test = split_data(y, tX, ratio)"
   ]
  },
  {
   "cell_type": "markdown",
   "metadata": {},
   "source": [
    "## Logistic regression function"
   ]
  },
  {
   "cell_type": "code",
   "execution_count": 136,
   "metadata": {},
   "outputs": [],
   "source": [
    "from numpy.random import randint\n",
    "def sigmoid(t):\n",
    "    \"\"\"apply sigmoid function on t.\"\"\"\n",
    "    return 1.0 / (1.0+np.exp(-t))\n",
    "\n",
    "def calculate_loss(y, tx, w):\n",
    "    \"\"\"compute the cost by negative log likelihood.\"\"\"\n",
    "    s = 0\n",
    "    for n in range(len(y)):\n",
    "        s += np.log(1 + np.exp(np.dot(tx[n,:].T,w))) - y[n]*np.dot(tx[n,:].T,w)\n",
    "    return s \n",
    "\n",
    "def calculate_gradient(y, tx, w):\n",
    "    \"\"\"compute the gradient of loss.\"\"\"\n",
    "    return np.dot(tx.T,sigmoid(np.dot(tx,w))-y)\n",
    "\n",
    "def calculate_hessian(y, tx, w):\n",
    "    \"\"\"return the hessian of the loss function.\"\"\"\n",
    "    N = len(y)\n",
    "    S = np.eye(N)\n",
    "    for n in range(N):\n",
    "        pred = sigmoid(np.dot(tx[n,:].T,w))\n",
    "        S[n,n] = pred*(1-pred)\n",
    "    return tx.T.dot(S.dot(tx))\n",
    "\n",
    "def logistic_regression(y, tx, w, newton = False):\n",
    "    \"\"\"return the loss, gradient, and hessian.\"\"\"\n",
    "    loss = calculate_loss(y, tx, w)\n",
    "    gradient = calculate_gradient(y, tx, w)\n",
    "    if newton:\n",
    "        hess = calculate_hessian(y, tx, w)\n",
    "    else:\n",
    "        hess = 0\n",
    "    return loss, gradient, hess\n",
    "\n",
    "def penalized_logistic_regression(y, tx, w, lambda_, newton = False):\n",
    "    \"\"\"return the loss, gradient, and hessian.\"\"\"\n",
    "    loss, gradient, hess = logistic_regression(y, tx, w, newton)\n",
    "    loss += lambda_/2*np.linalg.norm(w)**2\n",
    "    gradient += lambda_*w\n",
    "    if newton:\n",
    "        hess += lambda_*np.eye(len(w)).dot(w)\n",
    "    else:\n",
    "        hess = 0\n",
    "    return loss, gradient, hess\n",
    "\n",
    "def logistic_regression_ADAM(y , tx, lambda_, maxit, w0, verbose = False):\n",
    "    \"\"\"return w using ADAM\"\"\"\n",
    "    n , p =np.shape(tx)\n",
    "    w = w0\n",
    "    w_prev = w\n",
    "    alpha = 0.1\n",
    "    beta1 = 0.9\n",
    "    beta2 = 0.999\n",
    "    eps = 1E-8\n",
    "    m_prev = 0\n",
    "    v_prev = 0\n",
    "    for k in range(maxit):\n",
    "        g = calculate_gradient(y, tx, w_prev) + lambda_ * w\n",
    "        m = beta1*m_prev + (1-beta1)*g\n",
    "        v = beta2*v_prev + (1-beta2)*g**2\n",
    "        m_hat = m/(1-beta1)\n",
    "        v_hat = v/(1-beta2)\n",
    "        H = np.sqrt(v_hat)+eps\n",
    "        w_next = w - alpha*m_hat/H\n",
    "        w_prev = w\n",
    "        w = w_next\n",
    "        m_prev = m\n",
    "        v_prev = v\n",
    "        #loss = calculate_loss(y, tx, w)\n",
    "        #if not k%10 and verbose:\n",
    "        #if verbose:\n",
    "            #print ('%d : loss = %f, norm(g) = %f'%(k,loss,np.linalg.norm(w)) )\n",
    "            #print(k)\n",
    "    return w\n",
    "\n",
    "def logistic_regression_GD(y , tx, gamma, lambda_, maxit, verbose = False):\n",
    "    \"\"\"return w using ADAM\"\"\"\n",
    "    n , p =np.shape(tx)\n",
    "    w = np.zeros(p)\n",
    "    \n",
    "    for k in range(maxit):\n",
    "        g = calculate_gradient(y, tx, w) + lambda_ * w\n",
    "        w = w - gamma*g\n",
    "        \n",
    "        #loss = calculate_loss(y, tx, w)\n",
    "        #if not k%10 and verbose:\n",
    "        if verbose:\n",
    "            #print ('%d : loss = %f, norm(g) = %f'%(k,loss,np.linalg.norm(w)) )\n",
    "            print(k)\n",
    "    return w\n",
    "\n",
    "def logistic_regression_SGD(y , tx, lambda_, maxit, verbose = False):\n",
    "    \"\"\"return w using ADAM\"\"\"\n",
    "    n , p =np.shape(tx)\n",
    "    w = np.zeros(p)\n",
    "    \n",
    "    for k in range(maxit):\n",
    "        i = randint(0,n),\n",
    "        alpha = (n/2)/(k+(n/2))\n",
    "        g = calculate_gradient(y[i], tx[i,:], w) + lambda_ * w\n",
    "        w = w - alpha * g\n",
    "        \n",
    "        #if not k%100 and verbose:\n",
    "            #print(k)\n",
    "    return w"
   ]
  },
  {
   "cell_type": "code",
   "execution_count": 63,
   "metadata": {},
   "outputs": [
    {
     "data": {
      "text/plain": [
       "46533.69588139893"
      ]
     },
     "execution_count": 63,
     "metadata": {},
     "output_type": "execute_result"
    }
   ],
   "source": [
    "# Validate logistic_regression_SGD\n",
    "lambda_ = 0.5\n",
    "w1= logistic_regression_SGD(y_train ,x_train, lambda_, 2*N)\n",
    "calculate_loss(y_test, x_test, w1)"
   ]
  },
  {
   "cell_type": "code",
   "execution_count": 64,
   "metadata": {},
   "outputs": [
    {
     "data": {
      "text/plain": [
       "42900.3007895025"
      ]
     },
     "execution_count": 64,
     "metadata": {},
     "output_type": "execute_result"
    }
   ],
   "source": [
    "lambda_ = 0.5\n",
    "w2 = logistic_regression_ADAM(y_train ,x_train, lambda_, 2000)\n",
    "calculate_loss(y_test, x_test, w2)"
   ]
  },
  {
   "cell_type": "markdown",
   "metadata": {},
   "source": [
    "## Cross Validation Function"
   ]
  },
  {
   "cell_type": "code",
   "execution_count": 137,
   "metadata": {},
   "outputs": [],
   "source": [
    "def build_k_indices(y, k_fold, seed):\n",
    "    \"\"\"build k indices for k-fold.\"\"\"\n",
    "    num_row = y.shape[0]\n",
    "    interval = int(num_row / k_fold)\n",
    "    np.random.seed(seed)\n",
    "    indices = np.random.permutation(num_row)\n",
    "    k_indices = [indices[k * interval: (k + 1) * interval]\n",
    "                 for k in range(k_fold)]\n",
    "    return np.array(k_indices)\n",
    "def compute_error(y,tX,w):\n",
    "    erre = np.dot(tX,w)\n",
    "    e = y - np.dot(tX,w)\n",
    "    return 0\n",
    "    \n",
    "def cross_validation(y, x, k_fold, solver = 'LS',stoch = True,lambda_ = 0, maxit = 1):\n",
    "    \"\"\"return the loss of ridge regression.\"\"\"\n",
    "    seed = 1\n",
    "    k_indices = build_k_indices(y, k_fold, seed)\n",
    "    \n",
    "    mse_tr = 0\n",
    "    mse_te = 0\n",
    "    w_0 = 0\n",
    "    p = np.shape(x)[1]\n",
    "    w0 = np.zeros(p)\n",
    "    w_s = np.zeros(p)\n",
    "    \n",
    "    for k in range(k_fold):\n",
    "        # get k'th subgroup in test, others in train:\n",
    "        test_indices = k_indices[k]\n",
    "        train_indices = np.delete(k_indices,k,0).flatten()\n",
    "        x_tr = x[train_indices]\n",
    "        y_tr = y[train_indices]\n",
    "        x_te = x[test_indices]\n",
    "        y_te = y[test_indices]\n",
    "\n",
    "        # Least squares:\n",
    "        if solver == 'LS':\n",
    "            w, loss = least_squares(y_tr, x_tr)\n",
    "        elif solver == 'RR':\n",
    "            w, loss = ridge_regression(y_tr, x_tr, lambda_)\n",
    "        elif solver == 'LR':\n",
    "            w = logistic_regression_ADAM(y_tr ,x_tr, lambda_, maxit, w0)\n",
    "        else:\n",
    "            raise('Error')\n",
    "\n",
    "        # Train loss\n",
    "        b = np.dot(x_tr, w)\n",
    "        b[b>0] = 1.0\n",
    "        b[b<0] = 0.0\n",
    "        loss_tr = np.linalg.norm(y_tr-b,1)/ len(y_tr)\n",
    "        #validation loss\n",
    "        b = np.dot(x_te, w)\n",
    "        b[b>0] = 1.0\n",
    "        b[b<0] = 0.0\n",
    "        loss_te = np.linalg.norm(y_te-b,1)/ len(y_te)\n",
    "    \n",
    "        mse_tr += loss_tr/k_fold\n",
    "        mse_te += loss_te/k_fold\n",
    "        w_s += w/k_fold\n",
    "        w_0 = w\n",
    "    \n",
    "    return mse_tr, mse_te, w_s"
   ]
  },
  {
   "cell_type": "markdown",
   "metadata": {},
   "source": [
    "## Feature expension and choose best with lambda"
   ]
  },
  {
   "cell_type": "code",
   "execution_count": 68,
   "metadata": {},
   "outputs": [],
   "source": [
    "def build_poly(x, degree, linear = False):\n",
    "    \"\"\"polynomial basis functions for input data x, for j=0 up to j=degree.\"\"\"\n",
    "    if linear == False:\n",
    "        D = len(x[0,:])\n",
    "        N = len(x[:,0])\n",
    "        new_x = np.ones((N,1)) #add bias\n",
    "        if degree>=1:\n",
    "            for i in range(1,degree+1):\n",
    "                new_x = np.append(new_x,x**i,axis=1) \n",
    "        return new_x\n",
    "    else:\n",
    "        m = np.zeros((len(x),degree+1))\n",
    "        for j in range(degree+1):\n",
    "            m[:,j] = x**j\n",
    "        return m"
   ]
  },
  {
   "cell_type": "code",
   "execution_count": 90,
   "metadata": {
    "scrolled": true
   },
   "outputs": [
    {
     "name": "stdout",
     "output_type": "stream",
     "text": [
      "0\n",
      "1\n",
      "2\n",
      "3\n",
      "4\n",
      "5\n",
      "6\n",
      "7\n",
      "8\n",
      "9\n",
      "10\n",
      "11\n",
      "12\n",
      "13\n",
      "14\n",
      "15\n",
      "16\n",
      "17\n",
      "18\n",
      "19\n",
      "20\n",
      "21\n",
      "22\n",
      "23\n",
      "24\n",
      "25\n",
      "26\n",
      "27\n",
      "28\n",
      "29\n"
     ]
    },
    {
     "data": {
      "text/plain": [
       "(335667, 391)"
      ]
     },
     "execution_count": 90,
     "metadata": {},
     "output_type": "execute_result"
    }
   ],
   "source": [
    "tX_model = build_poly(tX[:,1],0,linear ='True')\n",
    "good_feat = range(p)\n",
    "degrees = [1,2,3,4,5,6,7,8,9,10,11,12]\n",
    "for feat in good_feat:\n",
    "    print(feat)\n",
    "    for deg in degrees:\n",
    "        tX_model = np.append(tX_model, np.array([tX[:,feat]**deg]).T,axis=1)\n",
    "    tX_model = np.append(tX_model, np.array([np.arctan(tX[:,feat])]).T,axis=1)\n",
    "    #tX_model = np.append(tX_model, np.array([np.sin(tX[:,feat])]).T,axis=1)\n",
    "    #tX_model = np.append(tX_model, np.array([np.cos(tX[:,feat])]).T,axis=1)\n",
    "np.shape(tX_model)"
   ]
  },
  {
   "cell_type": "code",
   "execution_count": 144,
   "metadata": {
    "scrolled": true
   },
   "outputs": [
    {
     "name": "stdout",
     "output_type": "stream",
     "text": [
      "0\n",
      "1\n",
      "2\n",
      "3\n",
      "4\n",
      "5\n",
      "6\n",
      "7\n",
      "8\n",
      "9\n",
      "10\n",
      "11\n",
      "12\n",
      "13\n",
      "14\n",
      "15\n",
      "16\n",
      "17\n",
      "18\n",
      "19\n",
      "20\n",
      "21\n",
      "22\n",
      "23\n",
      "24\n",
      "25\n",
      "26\n",
      "27\n",
      "28\n",
      "29\n"
     ]
    }
   ],
   "source": [
    "#test the model\n",
    "n,p = np.shape(tX_model)\n",
    "losses=np.zeros((30,2))\n",
    "lbds = np.logspace(-4,0,30)\n",
    "w_s = np.zeros((p,30))\n",
    "k = 0\n",
    "for lbd in lbds:\n",
    "    print(k)\n",
    "    loss_tr, loss_te, w = cross_validation(y,tX_model, 4, solver = 'LR', stoch =False, lambda_=lbd, maxit = 50)\n",
    "    losses[k,0] = loss_tr\n",
    "    losses[k,1] = loss_te\n",
    "    w_s[:,k] = w\n",
    "    k += 1"
   ]
  },
  {
   "cell_type": "code",
   "execution_count": 165,
   "metadata": {
    "scrolled": true
   },
   "outputs": [
    {
     "ename": "IndexError",
     "evalue": "too many indices for array",
     "output_type": "error",
     "traceback": [
      "\u001b[0;31m---------------------------------------------------------------------------\u001b[0m",
      "\u001b[0;31mIndexError\u001b[0m                                Traceback (most recent call last)",
      "\u001b[0;32m<ipython-input-165-17f201b98233>\u001b[0m in \u001b[0;36m<module>\u001b[0;34m\u001b[0m\n\u001b[1;32m      1\u001b[0m \u001b[0mplt\u001b[0m\u001b[0;34m.\u001b[0m\u001b[0mfigure\u001b[0m\u001b[0;34m(\u001b[0m\u001b[0mfigsize\u001b[0m\u001b[0;34m=\u001b[0m\u001b[0;34m(\u001b[0m\u001b[0;36m14\u001b[0m\u001b[0;34m,\u001b[0m \u001b[0;36m6\u001b[0m\u001b[0;34m)\u001b[0m\u001b[0;34m)\u001b[0m\u001b[0;34m\u001b[0m\u001b[0;34m\u001b[0m\u001b[0m\n\u001b[0;32m----> 2\u001b[0;31m \u001b[0mplt\u001b[0m\u001b[0;34m.\u001b[0m\u001b[0mplot\u001b[0m\u001b[0;34m(\u001b[0m\u001b[0mlosses\u001b[0m\u001b[0;34m[\u001b[0m\u001b[0;34m:\u001b[0m\u001b[0;34m,\u001b[0m\u001b[0;36m0\u001b[0m\u001b[0;34m]\u001b[0m\u001b[0;34m)\u001b[0m\u001b[0;34m\u001b[0m\u001b[0;34m\u001b[0m\u001b[0m\n\u001b[0m\u001b[1;32m      3\u001b[0m \u001b[0mplt\u001b[0m\u001b[0;34m.\u001b[0m\u001b[0mplot\u001b[0m\u001b[0;34m(\u001b[0m\u001b[0mlosses\u001b[0m\u001b[0;34m[\u001b[0m\u001b[0;34m:\u001b[0m\u001b[0;34m,\u001b[0m\u001b[0;36m1\u001b[0m\u001b[0;34m]\u001b[0m\u001b[0;34m)\u001b[0m\u001b[0;34m\u001b[0m\u001b[0;34m\u001b[0m\u001b[0m\n\u001b[1;32m      4\u001b[0m \u001b[0mplt\u001b[0m\u001b[0;34m.\u001b[0m\u001b[0mtitle\u001b[0m\u001b[0;34m(\u001b[0m\u001b[0;34m'Feature %i'\u001b[0m\u001b[0;34m)\u001b[0m\u001b[0;34m\u001b[0m\u001b[0;34m\u001b[0m\u001b[0m\n\u001b[1;32m      5\u001b[0m \u001b[0mplt\u001b[0m\u001b[0;34m.\u001b[0m\u001b[0mlegend\u001b[0m\u001b[0;34m(\u001b[0m\u001b[0;34m[\u001b[0m\u001b[0;34m'Train loss'\u001b[0m\u001b[0;34m,\u001b[0m\u001b[0;34m'Validation loss'\u001b[0m\u001b[0;34m]\u001b[0m\u001b[0;34m)\u001b[0m\u001b[0;34m\u001b[0m\u001b[0;34m\u001b[0m\u001b[0m\n",
      "\u001b[0;31mIndexError\u001b[0m: too many indices for array"
     ]
    },
    {
     "data": {
      "text/plain": [
       "<Figure size 1008x432 with 0 Axes>"
      ]
     },
     "metadata": {},
     "output_type": "display_data"
    }
   ],
   "source": [
    "plt.figure(figsize=(14, 6))\n",
    "plt.plot(losses[:,0])\n",
    "plt.plot(losses[:,1])\n",
    "plt.title('Feature %i')\n",
    "plt.legend(['Train loss','Validation loss'])\n",
    "plt.show()\n",
    "plt.savefig('391_feat.png')"
   ]
  },
  {
   "cell_type": "code",
   "execution_count": 150,
   "metadata": {},
   "outputs": [
    {
     "data": {
      "text/plain": [
       "0.20433597178569418"
      ]
     },
     "execution_count": 150,
     "metadata": {},
     "output_type": "execute_result"
    }
   ],
   "source": [
    "#save the best lambda and best w\n",
    "w_1 = w_s[:,24]\n",
    "lambda_1 = lbds[20] \n",
    "lambda_1"
   ]
  },
  {
   "cell_type": "markdown",
   "metadata": {},
   "source": [
    "#### Build the model for the test dataset"
   ]
  },
  {
   "cell_type": "code",
   "execution_count": 151,
   "metadata": {},
   "outputs": [],
   "source": [
    "DATA_TEST_PATH = '../data/test.csv' # TODO: download train data and supply path here \n",
    "_, tX_test, ids_test = load_csv_data(DATA_TEST_PATH)"
   ]
  },
  {
   "cell_type": "code",
   "execution_count": 154,
   "metadata": {},
   "outputs": [
    {
     "name": "stdout",
     "output_type": "stream",
     "text": [
      "0\n",
      "1\n",
      "2\n",
      "3\n",
      "4\n",
      "5\n",
      "6\n",
      "7\n",
      "8\n",
      "9\n",
      "10\n",
      "11\n",
      "12\n",
      "13\n",
      "14\n",
      "15\n",
      "16\n",
      "17\n",
      "18\n",
      "19\n",
      "20\n",
      "21\n",
      "22\n",
      "23\n",
      "24\n",
      "25\n",
      "26\n",
      "27\n",
      "28\n",
      "29\n",
      "(568238, 391)\n",
      "(391,)\n"
     ]
    }
   ],
   "source": [
    "#build model\n",
    "tX_model_test = build_poly(tX_test[:,1],0,linear ='True')\n",
    "n,p = np.shape(tX_test)\n",
    "good_feat = range(p)\n",
    "degrees = [1,2,3,4,5,6,7,8,9,10,11,12]\n",
    "for feat in good_feat:\n",
    "    print(feat)\n",
    "    for deg in degrees:\n",
    "        tX_model_test = np.append(tX_model_test, np.array([tX_test[:,feat]**deg]).T,axis=1)\n",
    "    tX_model_test = np.append(tX_model_test, np.array([np.arctan(tX_test[:,feat])]).T,axis=1)\n",
    "    #tX_model = np.append(tX_model, np.array([np.sin(tX[:,feat])]).T,axis=1)\n",
    "    #tX_model = np.append(tX_model, np.array([np.cos(tX[:,feat])]).T,axis=1)\n",
    "print(np.shape(tX_model_test))\n",
    "print(np.shape(w_1))"
   ]
  },
  {
   "cell_type": "code",
   "execution_count": 155,
   "metadata": {},
   "outputs": [],
   "source": [
    "OUTPUT_PATH = 'data/proj1_jo_391_1.csv' # TODO: fill in desired name of output file for submission\n",
    "y_pred = predict_labels(w_1, tX_model_test)\n",
    "create_csv_submission(ids_test, y_pred, OUTPUT_PATH)"
   ]
  },
  {
   "cell_type": "markdown",
   "metadata": {},
   "source": [
    "## Add successively features"
   ]
  },
  {
   "cell_type": "code",
   "execution_count": 175,
   "metadata": {
    "scrolled": true
   },
   "outputs": [],
   "source": [
    "#test time for few features\n",
    "tX_model_2 = tX[:,[1,2]]\n",
    "n, p = np.shape(tX_model_2)\n",
    "w = logistic_regression_ADAM(y ,tX_model_2, 0, 500, w0 = np.zeros(p))\n",
    "#let's take 1000"
   ]
  },
  {
   "cell_type": "code",
   "execution_count": 187,
   "metadata": {},
   "outputs": [
    {
     "name": "stdout",
     "output_type": "stream",
     "text": [
      "0 1\n",
      "1 2\n",
      "2 3\n",
      "3 4\n",
      "4 5\n",
      "5 6\n",
      "6 7\n",
      "7 8\n",
      "8 10\n",
      "9 11\n",
      "10 12\n",
      "11 13\n",
      "12 14\n",
      "13 15\n",
      "14 16\n",
      "15 17\n",
      "16 18\n",
      "17 19\n",
      "18 20\n",
      "19 21\n",
      "20 22\n",
      "21 23\n",
      "22 24\n",
      "23 25\n",
      "24 26\n",
      "25 27\n",
      "26 28\n",
      "27 29\n",
      "28 30\n",
      "29 31\n"
     ]
    }
   ],
   "source": [
    "#Alogrithm who will add the feature with the degree only if it improves the model.\n",
    "good_feat = range(30)\n",
    "degrees = [1,2,3,4,5,6,7,8,9,10,11,12]\n",
    "#initialize model\n",
    "tX_model = build_poly(tX[:,1],0,linear ='True')\n",
    "w_model = np.ones(1)\n",
    "model = np.zeros((1,2))\n",
    "losses = np.array([])\n",
    "losses_tr = np.array([])\n",
    "for feat in good_feat:\n",
    "    print(feat, np.shape(tX_model)[1])\n",
    "    loss = 10000000\n",
    "    for deg in degrees:\n",
    "        tX_try = np.append(tX_model, np.array([tX[:,feat]**deg]).T,axis=1)\n",
    "        loss_tr, loss_te, w = cross_validation(y,tX_try, 4, solver = 'LR', stoch =False, lambda_=0, maxit = 1000)\n",
    "        if loss_te < loss*0.95:\n",
    "            loss = loss_te\n",
    "            tX_model = tX_try.copy()\n",
    "            #save model\n",
    "            model = np.append(model,np.array([[int(feat),deg]]),axis=0)\n",
    "            losses = np.append(losses,loss_te)\n",
    "            losses_tr = np.append(losses_tr,loss_tr)\n",
    "            w_model = w\n",
    "    #degree -1,-2\n",
    "    if len(tX[tX[:,1]==0]) == 0:\n",
    "        tX_try = np.append(tX_model, np.array([tX[:,feat]**-1]).T,axis=1)\n",
    "        loss_tr, loss_te, w = cross_validation(y,tX_try, 4, solver = 'LR', stoch =False, lambda_=0, maxit = 500)\n",
    "        if loss_te < loss*0.95:\n",
    "            loss = loss_te\n",
    "            tX_model = tX_try.copy()\n",
    "            #save model\n",
    "            model = np.append(model,np.array([[int(feat),-1]]),axis=0)\n",
    "            losses = np.append(losses,loss_te)\n",
    "            losses_tr = np.append(losses_tr,loss_tr)\n",
    "            w_model = w\n",
    "        tX_try = np.append(tX_model, np.array([tX[:,feat]**-2]).T,axis=1)\n",
    "        loss_tr, loss_te, w = cross_validation(y,tX_try, 4, solver = 'LR', stoch =False, lambda_=0, maxit = 500)\n",
    "        if loss_te < loss*0.95:\n",
    "            loss = loss_te\n",
    "            tX_model = tX_try.copy()\n",
    "            #save model\n",
    "            model = np.append(model,np.array([[int(feat),-2]]),axis=0)\n",
    "            losses = np.append(losses,loss_te)\n",
    "            losses_tr = np.append(losses_tr,loss_tr)\n",
    "            w_model = w\n",
    "        #degree -1/2 -1/3\n",
    "        if len(tX[tX[:,1]<0]) == 0:\n",
    "            tX_try = np.append(tX_model, np.array([tX[:,feat]**-1/2]).T,axis=1)\n",
    "            loss_tr, loss_te, w = cross_validation(y,tX_try, 4, solver = 'LR', stoch =False, lambda_=0, maxit = 500)\n",
    "            if loss_te < loss*0.95:\n",
    "                loss = loss_te\n",
    "                tX_model = tX_try.copy()\n",
    "                #save model\n",
    "                model = np.append(model,np.array([[int(feat),-1/2]]),axis=0)\n",
    "                losses = np.append(losses,loss_te)\n",
    "                losses_tr = np.append(losses_tr,loss_tr)\n",
    "                w_model = w\n",
    "            tX_try = np.append(tX_model, np.array([tX[:,feat]**-1/3]).T,axis=1)\n",
    "            loss_tr, loss_te, w = cross_validation(y,tX_try, 4, solver = 'LR', stoch =False, lambda_=0, maxit = 500)\n",
    "            if loss_te < loss*0.95:\n",
    "                loss = loss_te\n",
    "                tX_model = tX_try.copy()\n",
    "                #save model\n",
    "                model = np.append(model,np.array([[int(feat),-1/3]]),axis=0)\n",
    "                losses = np.append(losses,loss_te)\n",
    "                losses_tr = np.append(losses_tr,loss_tr)\n",
    "                w_model = w\n",
    "    #degree 1/2 1/3\n",
    "    if len(tX[tX[:,1]<0]) == 0:\n",
    "        tX_try = np.append(tX_model, np.array([tX[:,feat]**1/2]).T,axis=1)\n",
    "        loss_tr, loss_te, w = cross_validation(y,tX_try, 4, solver = 'LR', stoch =False, lambda_=0, maxit = 500)\n",
    "        if loss_te < loss*0.95:\n",
    "            loss = loss_te\n",
    "            tX_model = tX_try.copy()\n",
    "            #save model\n",
    "            model = np.append(model,np.array([[int(feat),1/2]]),axis=0)\n",
    "            losses = np.append(losses,loss_te)\n",
    "            losses_tr = np.append(losses_tr,loss_tr)\n",
    "            w_model = w\n",
    "        tX_try = np.append(tX_model, np.array([tX[:,feat]**1/3]).T,axis=1)\n",
    "        loss_tr, loss_te, w = cross_validation(y,tX_try, 4, solver = 'LR', stoch =False, lambda_=0, maxit = 500)\n",
    "        if loss_te < loss*0.95:\n",
    "            loss = loss_te\n",
    "            tX_model = tX_try.copy()\n",
    "            #save model\n",
    "            model = np.append(model,np.array([[int(feat),1/3]]),axis=0)\n",
    "            losses = np.append(losses,loss_te)\n",
    "            losses_tr = np.append(losses_tr,loss_tr)\n",
    "            w_model = w\n",
    "        \n",
    "\n",
    "#Save model\n",
    "model_2 = model\n",
    "loss_2 = losses[-1]\n",
    "w_2 = w_model\n",
    "tX_2 = tX_model"
   ]
  },
  {
   "cell_type": "code",
   "execution_count": 188,
   "metadata": {},
   "outputs": [
    {
     "data": {
      "image/png": "[encoded data removed]",
      "text/plain": [
       "<Figure size 1008x432 with 1 Axes>"
      ]
     },
     "metadata": {
      "needs_background": "light"
     },
     "output_type": "display_data"
    },
    {
     "data": {
      "text/plain": [
       "<Figure size 432x288 with 0 Axes>"
      ]
     },
     "metadata": {},
     "output_type": "display_data"
    }
   ],
   "source": [
    "plt.figure(figsize=(14, 6))\n",
    "plt.plot(losses)\n",
    "\n",
    "plt.title('losses')\n",
    "plt.show()\n",
    "plt.savefig('add_feat_3.png')"
   ]
  },
  {
   "cell_type": "markdown",
   "metadata": {},
   "source": [
    "#### Train the model very well with all the datas\n"
   ]
  },
  {
   "cell_type": "code",
   "execution_count": null,
   "metadata": {},
   "outputs": [],
   "source": []
  },
  {
   "cell_type": "code",
   "execution_count": 189,
   "metadata": {},
   "outputs": [],
   "source": [
    "n,p = np.shape(tX_2)\n",
    "w_2 = logistic_regression_ADAM(y ,tX_2, 0, 10000, np.zeros(p))"
   ]
  },
  {
   "cell_type": "markdown",
   "metadata": {},
   "source": [
    "#### Reconstruct the x_test based on the model"
   ]
  },
  {
   "cell_type": "code",
   "execution_count": 190,
   "metadata": {},
   "outputs": [],
   "source": [
    "DATA_TEST_PATH = '../data/test.csv' # TODO: download train data and supply path here \n",
    "_, tX_test, ids_test = load_csv_data(DATA_TEST_PATH)"
   ]
  },
  {
   "cell_type": "code",
   "execution_count": 196,
   "metadata": {},
   "outputs": [],
   "source": [
    "model = model_2[:4]"
   ]
  },
  {
   "cell_type": "code",
   "execution_count": 197,
   "metadata": {},
   "outputs": [
    {
     "name": "stdout",
     "output_type": "stream",
     "text": [
      "0 0.0\n",
      "0 1.0\n",
      "1 1.0\n",
      "2 1.0\n"
     ]
    },
    {
     "data": {
      "text/plain": [
       "(568238, 4)"
      ]
     },
     "execution_count": 197,
     "metadata": {},
     "output_type": "execute_result"
    }
   ],
   "source": [
    "#Now Build the tX train data set\n",
    "\n",
    "#start with bias\n",
    "tX_model_test = build_poly(tX_test[:,1],0,linear ='True')\n",
    "tX_test = normalize(tX_test)\n",
    "#create model\n",
    "for feat, deg in model:\n",
    "    feat = int(float(feat.item()))\n",
    "    print(feat,deg)\n",
    "    if deg == 'arctan':\n",
    "        tX_model_test = np.append(tX_model_test, np.array([np.arctan(tX_test[:,feat])]).T,axis=1)\n",
    "    elif deg == 'cos':\n",
    "        tX_model_test = np.append(tX_model_test, np.array([np.cos(tX_test[:,feat])]).T,axis=1)\n",
    "    elif deg =='sin':\n",
    "        tX_model_test = np.append(tX_model_test, np.array([np.sin(tX_test[:,feat])]).T,axis=1)\n",
    "    else :\n",
    "        deg = float(deg)\n",
    "        if deg == 0.5 or deg == 1/3 or deg == -1/2 or deg == -1/3:\n",
    "            tX_model_test = np.append(tX_model_test, np.array([np.abs(tX_test[:,feat])**deg]).T,axis=1)\n",
    "        elif deg != 0:\n",
    "            tX_model_test = np.append(tX_model_test, np.array([tX_test[:,feat]**deg]).T,axis=1)\n",
    "np.shape(tX_model_test)"
   ]
  },
  {
   "cell_type": "code",
   "execution_count": 199,
   "metadata": {},
   "outputs": [],
   "source": [
    "OUTPUT_PATH = 'data/proj1_jo_add_feat_4.csv' # TODO: fill in desired name of output file for submission\n",
    "y_pred = predict_labels(w_2[:4], tX_model_test)\n",
    "create_csv_submission(ids_test, y_pred, OUTPUT_PATH)"
   ]
  },
  {
   "cell_type": "raw",
   "metadata": {},
   "source": [
    "The experiment 1 has only limited number of feature and deg=[1,6]\n",
    "Exp2: has all feature but not special deg, maxit=500, 64 features, 0.721 C-A, 0.622 F1 \n",
    "0 0.0\n",
    "0 1.0\n",
    "1 1.0\n",
    "1 2.0\n",
    "1 6.0\n",
    "1 6.0\n",
    "2 1.0\n",
    "2 2.0\n",
    "2 6.0\n",
    "2 6.0\n",
    "3 1.0\n",
    "3 2.0\n",
    "3 3.0\n",
    "3 6.0\n",
    "3 6.0\n",
    "4 1.0\n",
    "4 2.0\n",
    "5 1.0\n",
    "5 2.0\n",
    "6 1.0\n",
    "7 1.0\n",
    "7 6.0\n",
    "7 6.0\n",
    "8 1.0\n",
    "8 4.0\n",
    "8 5.0\n",
    "8 6.0\n",
    "8 6.0\n",
    "9 1.0\n",
    "10 1.0\n",
    "10 2.0\n",
    "10 6.0\n",
    "10 6.0\n",
    "11 1.0\n",
    "11 2.0\n",
    "12 1.0\n",
    "13 1.0\n",
    "13 2.0\n",
    "13 6.0\n",
    "13 6.0\n",
    "14 1.0\n",
    "15 1.0\n",
    "16 1.0\n",
    "16 6.0\n",
    "16 6.0\n",
    "17 1.0\n",
    "18 1.0\n",
    "19 1.0\n",
    "19 2.0\n",
    "19 3.0\n",
    "19 6.0\n",
    "19 6.0\n",
    "20 1.0\n",
    "21 1.0\n",
    "22 1.0\n",
    "23 1.0\n",
    "24 1.0\n",
    "25 1.0\n",
    "26 1.0\n",
    "27 1.0\n",
    "27 2.0\n",
    "28 1.0\n",
    "28 2.0\n",
    "29 1.0\n",
    "Exp3: all feature, deg=[1,12], special deg, maxit=1000, loss_te<0.95*loss , 0.342 C-A, 0.51 F1\n",
    "0 0.0\n",
    "0 1.0\n",
    "1 1.0\n",
    "2 1.0\n",
    "3 1.0\n",
    "4 1.0\n",
    "5 1.0\n",
    "6 1.0\n",
    "7 1.0\n",
    "7 0.5\n",
    "8 1.0\n",
    "9 1.0\n",
    "10 1.0\n",
    "11 1.0\n",
    "12 1.0\n",
    "13 1.0\n",
    "14 1.0\n",
    "15 1.0\n",
    "16 1.0\n",
    "17 1.0\n",
    "18 1.0\n",
    "19 1.0\n",
    "20 1.0\n",
    "21 1.0\n",
    "22 1.0\n",
    "23 1.0\n",
    "24 1.0\n",
    "25 1.0\n",
    "26 1.0\n",
    "27 1.0\n",
    "28 1.0\n",
    "29 1.0\n",
    "Exp4: Only 4 first of 3"
   ]
  },
  {
   "cell_type": "markdown",
   "metadata": {},
   "source": [
    "## Generate predictions and save ouput in csv format for submission:"
   ]
  },
  {
   "cell_type": "code",
   "execution_count": null,
   "metadata": {},
   "outputs": [],
   "source": [
    "DATA_TEST_PATH = 'data/test.csv' # TODO: download train data and supply path here \n",
    "_, tX_test, ids_test = load_csv_data(DATA_TEST_PATH)"
   ]
  },
  {
   "cell_type": "code",
   "execution_count": null,
   "metadata": {},
   "outputs": [],
   "source": [
    "OUTPUT_PATH = 'result/to_try.csv' # TODO: fill in desired name of output file for submission\n",
    "y_pred = predict_labels(weights, build_poly(tX_test,degree))\n",
    "create_csv_submission(ids_test, y_pred, OUTPUT_PATH)"
   ]
  }
 ],
 "metadata": {
  "anaconda-cloud": {},
  "kernelspec": {
   "display_name": "Python 3",
   "language": "python",
   "name": "python3"
  },
  "language_info": {
   "codemirror_mode": {
    "name": "ipython",
    "version": 3
   },
   "file_extension": ".py",
   "mimetype": "text/x-python",
   "name": "python",
   "nbconvert_exporter": "python",
   "pygments_lexer": "ipython3",
   "version": "3.7.4"
  }
 },
 "nbformat": 4,
 "nbformat_minor": 1
}

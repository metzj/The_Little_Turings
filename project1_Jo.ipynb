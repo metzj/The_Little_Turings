{
 "cells": [
  {
   "cell_type": "code",
   "execution_count": 1,
   "metadata": {
    "scrolled": true
   },
   "outputs": [],
   "source": [
    "# Useful starting lines\n",
    "%matplotlib inline\n",
    "import numpy as np\n",
    "import matplotlib.pyplot as plt\n",
    "import math\n",
    "from implementations import *\n",
    "from proj1_helpers import *\n",
    "from misc_helpers import *\n",
    "from plot_functions import *\n",
    "from ml_math import *\n",
    "%load_ext autoreload\n",
    "%autoreload 2"
   ]
  },
  {
   "cell_type": "markdown",
   "metadata": {},
   "source": [
    "## Load the training data into feature matrix, class labels, and event ids:"
   ]
  },
  {
   "cell_type": "code",
   "execution_count": 2,
   "metadata": {},
   "outputs": [],
   "source": [
    "DATA_TRAIN_PATH = '../data/train.csv' # TODO: download train data and supply path here \n",
    "y, tX, ids = load_csv_data(DATA_TRAIN_PATH)"
   ]
  },
  {
   "cell_type": "markdown",
   "metadata": {},
   "source": [
    "## Do your crazy machine learning thing here :) ..."
   ]
  },
  {
   "cell_type": "markdown",
   "metadata": {},
   "source": [
    "### Standardize"
   ]
  },
  {
   "cell_type": "code",
   "execution_count": 3,
   "metadata": {},
   "outputs": [],
   "source": [
    "y_norm = normalize(y)\n",
    "tX_norm = normalize(tX)"
   ]
  },
  {
   "cell_type": "markdown",
   "metadata": {},
   "source": [
    "### Dimension lifting"
   ]
  },
  {
   "cell_type": "code",
   "execution_count": 5,
   "metadata": {},
   "outputs": [],
   "source": [
    "def build_poly(tx,degree):\n",
    "    D = len(tx[0,:])\n",
    "    N = len(tx[:,0])\n",
    "    new_x = np.ones((N,1)) #add bias\n",
    "    if degree>=1:\n",
    "        for i in range(1,degree+1):\n",
    "            new_x = np.append(new_x,tx**i,axis=1) \n",
    "    return new_x"
   ]
  },
  {
   "cell_type": "code",
   "execution_count": 6,
   "metadata": {},
   "outputs": [
    {
     "name": "stdout",
     "output_type": "stream",
     "text": [
      "(250000, 211)\n"
     ]
    }
   ],
   "source": [
    "#Run this box only once!!\n",
    "degree = 7\n",
    "new_train = build_poly(tX_norm,degree)\n",
    "print(np.shape(new_train))\n",
    "tX = new_train #ECRASE LES DONNEES!!!"
   ]
  },
  {
   "cell_type": "markdown",
   "metadata": {},
   "source": [
    "### Split Data"
   ]
  },
  {
   "cell_type": "code",
   "execution_count": 4,
   "metadata": {},
   "outputs": [],
   "source": [
    "def split_data(y, x, ratio, myseed=1):\n",
    "    \"\"\"split the dataset based on the split ratio.\"\"\"\n",
    "    # set seed\n",
    "    np.random.seed(myseed)\n",
    "    # generate random indices\n",
    "    num_row = len(y)\n",
    "    indices = np.random.permutation(num_row)\n",
    "    index_split = int(np.floor(ratio * num_row))\n",
    "    index_tr = indices[: index_split]\n",
    "    index_te = indices[index_split:]\n",
    "    # create split\n",
    "    x_tr = x[index_tr]\n",
    "    x_te = x[index_te]\n",
    "    y_tr = y[index_tr]\n",
    "    y_te = y[index_te]\n",
    "    return x_tr, x_te, y_tr, y_te"
   ]
  },
  {
   "cell_type": "code",
   "execution_count": 5,
   "metadata": {},
   "outputs": [],
   "source": [
    "ratio = 0.75\n",
    "x_train, x_test, y_train, y_test = split_data(y, tX, ratio)"
   ]
  },
  {
   "cell_type": "markdown",
   "metadata": {},
   "source": [
    "### Gradient Descent"
   ]
  },
  {
   "cell_type": "code",
   "execution_count": 6,
   "metadata": {
    "scrolled": true
   },
   "outputs": [
    {
     "name": "stderr",
     "output_type": "stream",
     "text": [
      "/Users/jordanmetz/Documents/EPFL/MA3/The_Little_Turings/ml_math.py:32: RuntimeWarning: overflow encountered in matmul\n",
      "  MSE_loss = 1/(2*N)*e@e\n",
      "/Users/jordanmetz/Documents/EPFL/MA3/The_Little_Turings/ml_math.py:74: RuntimeWarning: overflow encountered in matmul\n",
      "  e = y - tx@w\n",
      "/Users/jordanmetz/Documents/EPFL/MA3/The_Little_Turings/ml_math.py:74: RuntimeWarning: invalid value encountered in matmul\n",
      "  e = y - tx@w\n",
      "/Users/jordanmetz/Documents/EPFL/MA3/The_Little_Turings/ml_math.py:77: RuntimeWarning: invalid value encountered in matmul\n",
      "  gradient = -1/N*np.transpose(tx)@e\n",
      "/Users/jordanmetz/Documents/EPFL/MA3/The_Little_Turings/ml_math.py:30: RuntimeWarning: overflow encountered in matmul\n",
      "  e = y - tx @ w\n",
      "/Users/jordanmetz/Documents/EPFL/MA3/The_Little_Turings/ml_math.py:30: RuntimeWarning: invalid value encountered in matmul\n",
      "  e = y - tx @ w\n"
     ]
    }
   ],
   "source": [
    "max_iter = 100\n",
    "gamma = 1\n",
    "N_w = len(x_train[1,:])\n",
    "initial_w = np.zeros(N_w)\n",
    "w_GD, loss_GD = least_squares_GD(y_train, x_train, initial_w, max_iter, gamma, verbose = False)"
   ]
  },
  {
   "cell_type": "code",
   "execution_count": 7,
   "metadata": {
    "scrolled": false
   },
   "outputs": [
    {
     "data": {
      "text/plain": [
       "nan"
      ]
     },
     "execution_count": 7,
     "metadata": {},
     "output_type": "execute_result"
    }
   ],
   "source": [
    "loss_GD"
   ]
  },
  {
   "cell_type": "markdown",
   "metadata": {},
   "source": [
    "### Gradient Descent with early stopping"
   ]
  },
  {
   "cell_type": "code",
   "execution_count": 8,
   "metadata": {
    "scrolled": true
   },
   "outputs": [
    {
     "name": "stdout",
     "output_type": "stream",
     "text": [
      "i= 3  gamma= 1\n",
      "i= 4  gamma= 1\n"
     ]
    }
   ],
   "source": [
    "loss_test = np.array([1e7,1e6,1e5])\n",
    "losses = []\n",
    "i = 2\n",
    "N_w = len(x_train[1,:])\n",
    "w_GD2 = np.zeros(N_w)\n",
    "max_i = 10\n",
    "while ((loss_test[i-2]>loss_test[i-1] or loss_test[i-1]>loss_test[i]) )and i<=max_i:\n",
    "    max_iter = 50\n",
    "    gamma = 1\n",
    "    N_w = len(x_train[1,:])\n",
    "    w_GD2, loss_GD =least_squares_GD(y_train,x_train,w_GD2,max_iters = max_iter,gamma = gamma,verbose = False)\n",
    "    losses = np.append(losses,loss_GD)\n",
    "    loss_test = np.append(loss_test,compute_MSE(y_test,x_test,w_GD2))\n",
    "    i=i+1\n",
    "    print('i=',i,' gamma=',gamma)"
   ]
  },
  {
   "cell_type": "code",
   "execution_count": 9,
   "metadata": {},
   "outputs": [
    {
     "data": {
      "text/plain": [
       "<matplotlib.legend.Legend at 0x1172ecfd0>"
      ]
     },
     "execution_count": 9,
     "metadata": {},
     "output_type": "execute_result"
    },
    {
     "data": {
      "image/png": "[encoded data removed]",
      "text/plain": [
       "<Figure size 432x288 with 1 Axes>"
      ]
     },
     "metadata": {
      "needs_background": "light"
     },
     "output_type": "display_data"
    }
   ],
   "source": [
    "plt.plot(losses, label='train')\n",
    "plt.plot(loss_test[3:], label='test')\n",
    "plt.legend()"
   ]
  },
  {
   "cell_type": "markdown",
   "metadata": {},
   "source": [
    "### Stochastic Gradient Descent"
   ]
  },
  {
   "cell_type": "code",
   "execution_count": 10,
   "metadata": {},
   "outputs": [
    {
     "name": "stderr",
     "output_type": "stream",
     "text": [
      "/Users/jordanmetz/Documents/EPFL/MA3/The_Little_Turings/ml_math.py:77: RuntimeWarning: overflow encountered in matmul\n",
      "  gradient = -1/N*np.transpose(tx)@e\n"
     ]
    }
   ],
   "source": [
    "max_iter = 200\n",
    "gamma = 1\n",
    "N_w = len(x_train[1,:])\n",
    "initial_w = np.zeros(N_w)\n",
    "w_sGD, loss_sGD = least_squares_SGD(y_train,x_train,initial_w,batch_size = 1, \n",
    "                                              max_iters = max_iter, gamma = gamma, verbose = False)"
   ]
  },
  {
   "cell_type": "code",
   "execution_count": 11,
   "metadata": {},
   "outputs": [
    {
     "data": {
      "text/plain": [
       "nan"
      ]
     },
     "execution_count": 11,
     "metadata": {},
     "output_type": "execute_result"
    }
   ],
   "source": [
    "loss_sGD"
   ]
  },
  {
   "cell_type": "markdown",
   "metadata": {},
   "source": [
    "### Least squares"
   ]
  },
  {
   "cell_type": "code",
   "execution_count": 12,
   "metadata": {
    "scrolled": true
   },
   "outputs": [],
   "source": [
    "w_LS, loss_LS = least_squares(y_train,x_train)"
   ]
  },
  {
   "cell_type": "code",
   "execution_count": 13,
   "metadata": {},
   "outputs": [
    {
     "data": {
      "text/plain": [
       "0.33942675363884944"
      ]
     },
     "execution_count": 13,
     "metadata": {},
     "output_type": "execute_result"
    }
   ],
   "source": [
    "loss_LS"
   ]
  },
  {
   "cell_type": "code",
   "execution_count": 14,
   "metadata": {},
   "outputs": [
    {
     "data": {
      "text/plain": [
       "(187500, 30)"
      ]
     },
     "execution_count": 14,
     "metadata": {},
     "output_type": "execute_result"
    }
   ],
   "source": [
    "np.shape(x_train)"
   ]
  },
  {
   "cell_type": "markdown",
   "metadata": {},
   "source": [
    "### Test Ridge Regression"
   ]
  },
  {
   "cell_type": "code",
   "execution_count": 16,
   "metadata": {},
   "outputs": [
    {
     "name": "stdout",
     "output_type": "stream",
     "text": [
      "0.3394267748814092\n"
     ]
    }
   ],
   "source": [
    "# ridge regression:\n",
    "lambda_ = 0.001\n",
    "N = np.shape(x_train)[1]\n",
    "w_RR = np.linalg.solve(x_train.transpose()@x_train+lambda_*np.identity(N), x_train.transpose()@y_train)\n",
    "loss_RR = compute_MSE(y_train,x_train,w_RR)\n",
    "print(loss_RR)"
   ]
  },
  {
   "cell_type": "markdown",
   "metadata": {},
   "source": [
    "### Test Logistic Regression"
   ]
  },
  {
   "cell_type": "code",
   "execution_count": 17,
   "metadata": {},
   "outputs": [],
   "source": [
    "max_iter = 100\n",
    "L = np.linalg.norm(x_train.T@x_train)\n",
    "gamma = 1/L\n",
    "N_w = len(x_train[1,:])\n",
    "initial_w = np.zeros(N_w)\n",
    "w_LR_SGD, loss_LR_SGD = logistic_regression(y_train, x_train, initial_w, \n",
    "                                              max_iter, gamma, \n",
    "                                            verbose = False, use_SGD = True, batch_size = 1)\n",
    "w_LR_GD, loss_LR_GD = logistic_regression(y_train, x_train, initial_w, \n",
    "                                              max_iter, gamma, \n",
    "                                          verbose = False, use_SGD = False, batch_size = 1)"
   ]
  },
  {
   "cell_type": "markdown",
   "metadata": {},
   "source": [
    "### Test Regulated Logistic Regression"
   ]
  },
  {
   "cell_type": "code",
   "execution_count": 18,
   "metadata": {},
   "outputs": [],
   "source": [
    "max_iter = 100\n",
    "L = np.linalg.norm(x_train.T@x_train)\n",
    "gamma = 1/L\n",
    "lambda_ = 0.7\n",
    "gamma = 2/(L+lambda_)\n",
    "N_w = len(x_train[1,:])\n",
    "initial_w = np.zeros(N_w)\n",
    "w_RLR_SGD, loss_LR_SGD = reg_logistic_regression(y_train, x_train, lambda_, initial_w, \n",
    "                                              max_iter, gamma,\n",
    "                                                verbose = False, use_SGD = True)\n",
    "w_RLR_GD, loss_LR_GD = reg_logistic_regression(y_train, x_train, lambda_, initial_w, \n",
    "                                              max_iter, gamma,\n",
    "                                              verbose = False, use_SGD = False, batch_size = 1)"
   ]
  },
  {
   "cell_type": "markdown",
   "metadata": {},
   "source": [
    "## Test ridge regression gradient descent"
   ]
  },
  {
   "cell_type": "code",
   "execution_count": 19,
   "metadata": {},
   "outputs": [
    {
     "name": "stdout",
     "output_type": "stream",
     "text": [
      "[ 4.74323773e-04 -3.15750557e-04 -1.25959439e-04  5.90320227e-05\n",
      " -7.57037520e-05  3.64250007e-04 -8.35754181e-05 -1.69572756e-06\n",
      " -6.46243823e-05 -1.73346319e-04 -6.97246023e-06  5.14789359e-06\n",
      " -7.65827578e-05  9.31319186e-05 -9.45761853e-08 -2.18238007e-07\n",
      " -1.01283957e-04 -7.90762909e-08  1.78729515e-07 -3.32771364e-05\n",
      "  3.07428971e-07 -2.59806864e-04 -3.33094424e-06  5.54672119e-06\n",
      "  2.37689648e-05  2.37968656e-05 -1.49804492e-04 -7.70376526e-05\n",
      " -7.72381093e-05 -1.65194201e-04] 0.4680313525148537\n"
     ]
    }
   ],
   "source": [
    "max_iter = 100\n",
    "lambda_ = 0.7\n",
    "N_w = len(x_train[1,:])\n",
    "initial_w = np.zeros(N_w)\n",
    "w_RR_GD, loss_RR_GD = ridge_regression_GD(y_train, x_train, initial_w, lambda_, max_iter, verbose=False)\n",
    "print(w_RR_GD, loss_RR_GD)"
   ]
  },
  {
   "cell_type": "markdown",
   "metadata": {},
   "source": [
    "### Test the best"
   ]
  },
  {
   "cell_type": "code",
   "execution_count": 20,
   "metadata": {},
   "outputs": [
    {
     "name": "stdout",
     "output_type": "stream",
     "text": [
      "LOSS TEST:\n",
      "GD:  nan\n",
      "GD2:  nan\n",
      "sGD:  nan\n",
      "LS:  0.3405182565064783\n",
      "RR:  0.34051696330272196\n",
      "LR_SGD:  591.3959557130228\n",
      "LR_GD:  591.3959557130228\n",
      "RLR_SGD:  2314.8867062209565\n",
      "RLR_GD:  2314.8867062209565\n"
     ]
    }
   ],
   "source": [
    "print('LOSS TEST:')\n",
    "print('GD: ', compute_MSE(y_test,x_test,w_GD))\n",
    "print('GD2: ', compute_MSE(y_test,x_test,w_GD2))\n",
    "print('sGD: ', compute_MSE(y_test,x_test,w_sGD))\n",
    "print('LS: ', compute_MSE(y_test,x_test,w_LS))\n",
    "print('RR: ', compute_MSE(y_test,x_test,w_RR))\n",
    "print('LR_SGD: ', compute_MSE(y_test,x_test,w_LR_SGD))\n",
    "print('LR_GD: ', compute_MSE(y_test,x_test,w_LR_GD))\n",
    "print('RLR_SGD: ', compute_MSE(y_test,x_test,w_RLR_SGD))\n",
    "print('RLR_GD: ', compute_MSE(y_test,x_test,w_RLR_GD))"
   ]
  },
  {
   "cell_type": "markdown",
   "metadata": {},
   "source": [
    "### Choose the weight you want"
   ]
  },
  {
   "cell_type": "code",
   "execution_count": null,
   "metadata": {},
   "outputs": [],
   "source": [
    "weights = w_GD"
   ]
  },
  {
   "cell_type": "markdown",
   "metadata": {},
   "source": [
    "## Generate predictions and save ouput in csv format for submission:"
   ]
  },
  {
   "cell_type": "code",
   "execution_count": null,
   "metadata": {},
   "outputs": [],
   "source": [
    "DATA_TEST_PATH = 'data/test.csv' # TODO: download train data and supply path here \n",
    "_, tX_test, ids_test = load_csv_data(DATA_TEST_PATH)"
   ]
  },
  {
   "cell_type": "code",
   "execution_count": null,
   "metadata": {},
   "outputs": [],
   "source": [
    "OUTPUT_PATH = 'result/to_try.csv' # TODO: fill in desired name of output file for submission\n",
    "y_pred = predict_labels(weights, build_poly(tX_test,degree))\n",
    "create_csv_submission(ids_test, y_pred, OUTPUT_PATH)"
   ]
  },
  {
   "cell_type": "code",
   "execution_count": null,
   "metadata": {},
   "outputs": [],
   "source": [
    "np.shape(build_poly(tX_test,degree))"
   ]
  },
  {
   "cell_type": "code",
   "execution_count": null,
   "metadata": {},
   "outputs": [],
   "source": []
  }
 ],
 "metadata": {
  "anaconda-cloud": {},
  "kernelspec": {
   "display_name": "Python 3",
   "language": "python",
   "name": "python3"
  },
  "language_info": {
   "codemirror_mode": {
    "name": "ipython",
    "version": 3
   },
   "file_extension": ".py",
   "mimetype": "text/x-python",
   "name": "python",
   "nbconvert_exporter": "python",
   "pygments_lexer": "ipython3",
   "version": "3.6.6"
  }
 },
 "nbformat": 4,
 "nbformat_minor": 1
}
